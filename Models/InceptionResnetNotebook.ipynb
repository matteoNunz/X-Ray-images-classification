{
  "metadata": {
    "colab": {
      "provenance": []
    },
    "kernelspec": {
      "name": "python3",
      "display_name": "Python 3",
      "language": "python"
    },
    "language_info": {
      "name": "python",
      "version": "3.7.12",
      "mimetype": "text/x-python",
      "codemirror_mode": {
        "name": "ipython",
        "version": 3
      },
      "pygments_lexer": "ipython3",
      "nbconvert_exporter": "python",
      "file_extension": ".py"
    },
    "accelerator": "GPU",
    "gpuClass": "standard"
  },
  "nbformat_minor": 0,
  "nbformat": 4,
  "cells": [
    {
      "cell_type": "code",
      "source": [
        "pip install tensorflow==2.9.2"
      ],
      "metadata": {
        "id": "wshsCkY3FEY1",
        "execution": {
          "iopub.status.busy": "2023-01-28T18:34:29.734781Z",
          "iopub.execute_input": "2023-01-28T18:34:29.735141Z",
          "iopub.status.idle": "2023-01-28T18:34:41.331779Z",
          "shell.execute_reply.started": "2023-01-28T18:34:29.735111Z",
          "shell.execute_reply": "2023-01-28T18:34:41.330466Z"
        },
        "trusted": true
      },
      "execution_count": null,
      "outputs": []
    },
    {
      "cell_type": "code",
      "source": [
        "import tensorflow as tf\n",
        "import numpy as np\n",
        "import os\n",
        "import random\n",
        "import tensorboard\n",
        "import datetime\n",
        "\n",
        "kaggle = False\n",
        "\n",
        "tfk = tf.keras\n",
        "tfkl = tf.keras.layers\n",
        "print(tf.__version__)"
      ],
      "metadata": {
        "id": "CzytuouUFEY7",
        "outputId": "fc84bc26-7423-46c8-c4ba-213bad0d53a7",
        "colab": {
          "base_uri": "https://localhost:8080/"
        },
        "execution": {
          "iopub.status.busy": "2023-01-28T18:34:41.333736Z",
          "iopub.execute_input": "2023-01-28T18:34:41.334077Z",
          "iopub.status.idle": "2023-01-28T18:34:41.341455Z",
          "shell.execute_reply.started": "2023-01-28T18:34:41.334047Z",
          "shell.execute_reply": "2023-01-28T18:34:41.340476Z"
        },
        "trusted": true
      },
      "execution_count": null,
      "outputs": [
        {
          "name": "stdout",
          "text": "2.9.2\n",
          "output_type": "stream"
        }
      ]
    },
    {
      "cell_type": "code",
      "source": [
        "# Random seed for reproducibility\n",
        "seed = 54721\n",
        "\n",
        "random.seed(seed)\n",
        "os.environ['PYTHONHASHSEED'] = str(seed)\n",
        "np.random.seed(seed)\n",
        "tf.random.set_seed(seed)\n",
        "tf.compat.v1.set_random_seed(seed)"
      ],
      "metadata": {
        "id": "M670wyKl3Lhw",
        "pycharm": {
          "name": "#%%\n"
        },
        "execution": {
          "iopub.status.busy": "2023-01-28T18:34:41.342983Z",
          "iopub.execute_input": "2023-01-28T18:34:41.343457Z",
          "iopub.status.idle": "2023-01-28T18:34:41.358258Z",
          "shell.execute_reply.started": "2023-01-28T18:34:41.343422Z",
          "shell.execute_reply": "2023-01-28T18:34:41.357225Z"
        },
        "trusted": true
      },
      "execution_count": null,
      "outputs": []
    },
    {
      "cell_type": "code",
      "source": [
        "if not kaggle:\n",
        "    from google.colab import drive\n",
        "    drive.mount('/content/drive')"
      ],
      "metadata": {
        "id": "i4v-8gkEFN72",
        "execution": {
          "iopub.status.busy": "2023-01-28T18:34:41.361447Z",
          "iopub.execute_input": "2023-01-28T18:34:41.361830Z",
          "iopub.status.idle": "2023-01-28T18:34:41.373499Z",
          "shell.execute_reply.started": "2023-01-28T18:34:41.361768Z",
          "shell.execute_reply": "2023-01-28T18:34:41.372583Z"
        },
        "trusted": true
      },
      "execution_count": null,
      "outputs": []
    },
    {
      "cell_type": "code",
      "source": [
        "if kaggle:\n",
        "    train_dir = '/kaggle/input/biomedicine-data-splitted-patient/data_splitted_patient/train'\n",
        "    test_dir = '/kaggle/input/biomedicine-data-splitted-patient/data_splitted_patient/test'\n",
        "    val_dir = '/kaggle/input/biomedicine-data-splitted-patient/data_splitted_patient/val'\n",
        "else:\n",
        "    %cd /content/drive/MyDrive/data_splitted_patient\n",
        "    train_dir = 'train'\n",
        "    test_dir = 'test'\n",
        "    val_dir = 'val'\n",
        "\n",
        "image_size = 400 # images are 400x400x3\n",
        "batch_size = 16"
      ],
      "metadata": {
        "id": "vvsg6pLQFTL0",
        "execution": {
          "iopub.status.busy": "2023-01-28T18:34:41.374818Z",
          "iopub.execute_input": "2023-01-28T18:34:41.375881Z",
          "iopub.status.idle": "2023-01-28T18:34:41.385382Z",
          "shell.execute_reply.started": "2023-01-28T18:34:41.375843Z",
          "shell.execute_reply": "2023-01-28T18:34:41.384304Z"
        },
        "trusted": true
      },
      "execution_count": null,
      "outputs": []
    },
    {
      "cell_type": "code",
      "source": [
        "class_names = ['N','P','T']\n",
        "class_samples = [0] * len(class_names)"
      ],
      "metadata": {
        "id": "tjF8JhS_3n7p",
        "pycharm": {
          "name": "#%%\n"
        },
        "execution": {
          "iopub.status.busy": "2023-01-28T18:34:41.387966Z",
          "iopub.execute_input": "2023-01-28T18:34:41.388833Z",
          "iopub.status.idle": "2023-01-28T18:34:41.397211Z",
          "shell.execute_reply.started": "2023-01-28T18:34:41.388796Z",
          "shell.execute_reply": "2023-01-28T18:34:41.396286Z"
        },
        "trusted": true
      },
      "execution_count": null,
      "outputs": []
    },
    {
      "cell_type": "code",
      "source": [
        "for i, class_name in enumerate(class_names):\n",
        "    class_dir = '{}/{}/'.format(train_dir, class_name)\n",
        "    class_samples[i] = len(os.listdir(class_dir))"
      ],
      "metadata": {
        "id": "05MKlhMs3tW4",
        "pycharm": {
          "name": "#%%\n"
        },
        "execution": {
          "iopub.status.busy": "2023-01-28T18:34:41.398453Z",
          "iopub.execute_input": "2023-01-28T18:34:41.398973Z",
          "iopub.status.idle": "2023-01-28T18:34:41.414107Z",
          "shell.execute_reply.started": "2023-01-28T18:34:41.398938Z",
          "shell.execute_reply": "2023-01-28T18:34:41.413221Z"
        },
        "trusted": true
      },
      "execution_count": null,
      "outputs": []
    },
    {
      "cell_type": "code",
      "source": [
        "total_samples = sum(class_samples)\n",
        "class_weight = list(total_samples / (len(class_names) * np.array(class_samples)))\n",
        "class_weight = {i: class_weight[i] for i in range(len(class_weight))}"
      ],
      "metadata": {
        "id": "jmua8QXM3u_f",
        "pycharm": {
          "name": "#%%\n"
        },
        "execution": {
          "iopub.status.busy": "2023-01-28T18:34:41.424802Z",
          "iopub.execute_input": "2023-01-28T18:34:41.425305Z",
          "iopub.status.idle": "2023-01-28T18:34:41.433351Z",
          "shell.execute_reply.started": "2023-01-28T18:34:41.425272Z",
          "shell.execute_reply": "2023-01-28T18:34:41.432152Z"
        },
        "trusted": true
      },
      "execution_count": null,
      "outputs": []
    },
    {
      "cell_type": "code",
      "source": [
        "print('Class weights: {}'.format(class_weight))"
      ],
      "metadata": {
        "colab": {
          "base_uri": "https://localhost:8080/"
        },
        "id": "G4Mrm-7531KI",
        "outputId": "b6d1cccb-59de-43d9-f435-d0f898d85a9d",
        "pycharm": {
          "name": "#%%\n"
        },
        "execution": {
          "iopub.status.busy": "2023-01-28T18:34:41.438423Z",
          "iopub.execute_input": "2023-01-28T18:34:41.439431Z",
          "iopub.status.idle": "2023-01-28T18:34:41.445527Z",
          "shell.execute_reply.started": "2023-01-28T18:34:41.439394Z",
          "shell.execute_reply": "2023-01-28T18:34:41.444246Z"
        },
        "trusted": true
      },
      "execution_count": null,
      "outputs": [
        {
          "name": "stdout",
          "text": "Class weights: {0: 0.5512261170452836, 1: 1.2112396694214875, 2: 2.775757575757576}\n",
          "output_type": "stream"
        }
      ]
    },
    {
      "cell_type": "code",
      "source": [
        "train_ds = tf.keras.utils.image_dataset_from_directory(\n",
        "    train_dir,\n",
        "    validation_split=0.0,\n",
        "    shuffle=True,\n",
        "    seed=seed,\n",
        "    image_size=(image_size, image_size),\n",
        "    batch_size=batch_size)"
      ],
      "metadata": {
        "colab": {
          "base_uri": "https://localhost:8080/"
        },
        "id": "FH9S_dEY31pN",
        "outputId": "7f6515a6-15bf-4aa4-a2df-d3d18a066034",
        "pycharm": {
          "name": "#%%\n"
        },
        "execution": {
          "iopub.status.busy": "2023-01-28T18:34:41.447202Z",
          "iopub.execute_input": "2023-01-28T18:34:41.448123Z",
          "iopub.status.idle": "2023-01-28T18:34:45.363473Z",
          "shell.execute_reply.started": "2023-01-28T18:34:41.448086Z",
          "shell.execute_reply": "2023-01-28T18:34:45.362417Z"
        },
        "trusted": true
      },
      "execution_count": null,
      "outputs": [
        {
          "name": "stdout",
          "text": "Found 10992 files belonging to 3 classes.\n",
          "output_type": "stream"
        }
      ]
    },
    {
      "cell_type": "code",
      "source": [
        "val_ds = tf.keras.utils.image_dataset_from_directory(\n",
        "    val_dir,\n",
        "    validation_split=0.0,\n",
        "    shuffle=True,\n",
        "    seed=seed,\n",
        "    image_size=(image_size, image_size),\n",
        "    batch_size=batch_size)"
      ],
      "metadata": {
        "colab": {
          "base_uri": "https://localhost:8080/"
        },
        "id": "y8s2sxjl36rv",
        "outputId": "d520e850-194b-4ead-d56b-1c182fa9c189",
        "pycharm": {
          "name": "#%%\n"
        },
        "execution": {
          "iopub.status.busy": "2023-01-28T18:34:45.365084Z",
          "iopub.execute_input": "2023-01-28T18:34:45.365440Z",
          "iopub.status.idle": "2023-01-28T18:34:46.206867Z",
          "shell.execute_reply.started": "2023-01-28T18:34:45.365405Z",
          "shell.execute_reply": "2023-01-28T18:34:46.204948Z"
        },
        "trusted": true
      },
      "execution_count": null,
      "outputs": [
        {
          "name": "stdout",
          "text": "Found 2487 files belonging to 3 classes.\n",
          "output_type": "stream"
        }
      ]
    },
    {
      "cell_type": "code",
      "source": [
        "test_ds = tf.keras.utils.image_dataset_from_directory(\n",
        "    test_dir,\n",
        "    validation_split=0.0,\n",
        "    # It doesn't matter here the shuffle -> set to False to have the heatmap\n",
        "    shuffle=False,\n",
        "    seed=seed,\n",
        "    image_size=(image_size, image_size),\n",
        "    batch_size=batch_size)"
      ],
      "metadata": {
        "id": "gauenXVz7JfF",
        "outputId": "cdc6e489-bfc0-4ce2-d18e-88366a909f2e",
        "colab": {
          "base_uri": "https://localhost:8080/"
        },
        "execution": {
          "iopub.status.busy": "2023-01-28T18:34:46.208727Z",
          "iopub.execute_input": "2023-01-28T18:34:46.209667Z",
          "iopub.status.idle": "2023-01-28T18:34:46.842638Z",
          "shell.execute_reply.started": "2023-01-28T18:34:46.209625Z",
          "shell.execute_reply": "2023-01-28T18:34:46.841631Z"
        },
        "trusted": true
      },
      "execution_count": null,
      "outputs": [
        {
          "name": "stdout",
          "text": "Found 1991 files belonging to 3 classes.\n",
          "output_type": "stream"
        }
      ]
    },
    {
      "cell_type": "code",
      "source": [
        "class_names = train_ds.class_names\n",
        "num_classes = len(class_names)\n",
        "print(\"There are {} classes\".format(num_classes))"
      ],
      "metadata": {
        "id": "xW0pHMXQ4GiZ",
        "pycharm": {
          "name": "#%%\n"
        },
        "colab": {
          "base_uri": "https://localhost:8080/"
        },
        "outputId": "a86e7d35-fbf6-4314-b75e-7ed3caf9db57",
        "execution": {
          "iopub.status.busy": "2023-01-28T18:34:46.846074Z",
          "iopub.execute_input": "2023-01-28T18:34:46.846385Z",
          "iopub.status.idle": "2023-01-28T18:34:46.854239Z",
          "shell.execute_reply.started": "2023-01-28T18:34:46.846356Z",
          "shell.execute_reply": "2023-01-28T18:34:46.853217Z"
        },
        "trusted": true
      },
      "execution_count": null,
      "outputs": [
        {
          "name": "stdout",
          "text": "There are 3 classes\n",
          "output_type": "stream"
        }
      ]
    },
    {
      "cell_type": "code",
      "source": [
        "# Add caching to dataset\n",
        "AUTOTUNE = tf.data.AUTOTUNE\n",
        "train_ds = train_ds.prefetch(buffer_size=AUTOTUNE)\n",
        "val_ds = val_ds.prefetch(buffer_size=AUTOTUNE)\n",
        "test_ds = test_ds.prefetch(buffer_size=AUTOTUNE)"
      ],
      "metadata": {
        "id": "-HPT0GSz4PKX",
        "pycharm": {
          "name": "#%%\n"
        },
        "execution": {
          "iopub.status.busy": "2023-01-28T18:34:46.855768Z",
          "iopub.execute_input": "2023-01-28T18:34:46.856441Z",
          "iopub.status.idle": "2023-01-28T18:34:46.865609Z",
          "shell.execute_reply.started": "2023-01-28T18:34:46.856406Z",
          "shell.execute_reply": "2023-01-28T18:34:46.864619Z"
        },
        "trusted": true
      },
      "execution_count": null,
      "outputs": []
    },
    {
      "cell_type": "code",
      "source": [
        "# Use one-hot encoding for labels\n",
        "train_ds = train_ds.map(lambda x, y: (x, tf.one_hot(y, depth=num_classes)))\n",
        "val_ds = val_ds.map(lambda x, y: (x, tf.one_hot(y, depth=num_classes)))\n",
        "test_ds = test_ds.map(lambda x, y: (x, tf.one_hot(y, depth=num_classes)))"
      ],
      "metadata": {
        "id": "ONLJajm74R8w",
        "pycharm": {
          "name": "#%%\n"
        },
        "execution": {
          "iopub.status.busy": "2023-01-28T18:34:46.867131Z",
          "iopub.execute_input": "2023-01-28T18:34:46.867501Z",
          "iopub.status.idle": "2023-01-28T18:34:46.899458Z",
          "shell.execute_reply.started": "2023-01-28T18:34:46.867465Z",
          "shell.execute_reply": "2023-01-28T18:34:46.898627Z"
        },
        "trusted": true
      },
      "execution_count": null,
      "outputs": []
    },
    {
      "cell_type": "code",
      "source": [
        "crop_dim = 50\n",
        "input_shape = (image_size, image_size, 3)\n",
        "input_shape_cropping = (image_size, image_size-crop_dim*2, 3)"
      ],
      "metadata": {
        "id": "QIj2Z8fw4UFm",
        "pycharm": {
          "name": "#%%\n"
        },
        "execution": {
          "iopub.status.busy": "2023-01-28T18:34:46.902032Z",
          "iopub.execute_input": "2023-01-28T18:34:46.902387Z",
          "iopub.status.idle": "2023-01-28T18:34:46.906702Z",
          "shell.execute_reply.started": "2023-01-28T18:34:46.902360Z",
          "shell.execute_reply": "2023-01-28T18:34:46.905737Z"
        },
        "trusted": true
      },
      "execution_count": null,
      "outputs": []
    },
    {
      "cell_type": "code",
      "source": [
        "# Download the ResNet152V2 model\n",
        "base_model = tfk.applications.InceptionResNetV2(\n",
        "    include_top=False, # we are using only the conv part of the network, and not the FC part\n",
        "    weights=\"imagenet\",\n",
        "    input_shape=input_shape_cropping\n",
        ")\n",
        "base_model.trainable = True"
      ],
      "metadata": {
        "id": "s9iSE-uS4Wcd",
        "pycharm": {
          "name": "#%%\n"
        },
        "execution": {
          "iopub.status.busy": "2023-01-28T18:34:46.908365Z",
          "iopub.execute_input": "2023-01-28T18:34:46.909115Z",
          "iopub.status.idle": "2023-01-28T18:34:52.065995Z",
          "shell.execute_reply.started": "2023-01-28T18:34:46.909080Z",
          "shell.execute_reply": "2023-01-28T18:34:52.065025Z"
        },
        "trusted": true
      },
      "execution_count": null,
      "outputs": []
    },
    {
      "cell_type": "code",
      "source": [
        "model = tfk.Sequential([\n",
        "    tfk.layers.Input(shape=input_shape),\n",
        "    # Augmentation\n",
        "    tfk.layers.RandomFlip(\"horizontal_and_vertical\", input_shape=input_shape),\n",
        "    tfk.layers.RandomZoom(0.3),\n",
        "    tfk.layers.RandomTranslation(width_factor=0.5, height_factor=0.5),\n",
        "    tfk.layers.RandomContrast(0.1),\n",
        "    tfk.layers.Cropping2D(cropping=((0, 0), (crop_dim, crop_dim)), input_shape=input_shape),\n",
        "\n",
        "    # Preprocess for base model\n",
        "    tfk.layers.Lambda(tf.keras.applications.inception_resnet_v2.preprocess_input),\n",
        "    # Transfer learning\n",
        "    base_model,\n",
        "\n",
        "    tfkl.Dropout(0.3),\n",
        "    \n",
        "    # Global avg\n",
        "    tfk.layers.GlobalAveragePooling2D(),\n",
        "    \n",
        "    tfkl.Dense(\n",
        "        units=1024, \n",
        "        name='Classifier', \n",
        "        kernel_initializer=tfk.initializers.HeUniform(seed), \n",
        "        kernel_regularizer=tfk.regularizers.L1L2(l1=1e-4, l2=1e-3),\n",
        "        activation='relu'),\n",
        "    tfkl.Dropout(0.3),\n",
        "    tfkl.Dense(units=num_classes, activation='softmax', \n",
        "               kernel_initializer=tfk.initializers.GlorotUniform(seed), \n",
        "               name='output_layer')\n",
        "\n",
        "])"
      ],
      "metadata": {
        "id": "xoU0x0up4bR4",
        "pycharm": {
          "name": "#%%\n"
        },
        "execution": {
          "iopub.status.busy": "2023-01-28T19:12:42.318468Z",
          "iopub.execute_input": "2023-01-28T19:12:42.318823Z",
          "iopub.status.idle": "2023-01-28T19:12:43.923056Z",
          "shell.execute_reply.started": "2023-01-28T19:12:42.318792Z",
          "shell.execute_reply": "2023-01-28T19:12:43.922121Z"
        },
        "trusted": true
      },
      "execution_count": null,
      "outputs": []
    },
    {
      "cell_type": "code",
      "source": [
        "model.compile(optimizer=tfk.optimizers.Adam(),\n",
        "              loss=tf.keras.losses.CategoricalCrossentropy(),\n",
        "              metrics=['accuracy'])"
      ],
      "metadata": {
        "id": "0nxL0ROF8Wag",
        "execution": {
          "iopub.status.busy": "2023-01-28T19:12:49.046689Z",
          "iopub.execute_input": "2023-01-28T19:12:49.047092Z",
          "iopub.status.idle": "2023-01-28T19:12:49.079670Z",
          "shell.execute_reply.started": "2023-01-28T19:12:49.047057Z",
          "shell.execute_reply": "2023-01-28T19:12:49.078571Z"
        },
        "trusted": true
      },
      "execution_count": null,
      "outputs": []
    },
    {
      "cell_type": "code",
      "source": [
        "model.summary()"
      ],
      "metadata": {
        "colab": {
          "base_uri": "https://localhost:8080/"
        },
        "id": "xCAanBCB4nKE",
        "outputId": "c1982513-1279-443a-9bd6-e60413175d08",
        "pycharm": {
          "name": "#%%\n"
        },
        "execution": {
          "iopub.status.busy": "2023-01-28T19:12:51.529604Z",
          "iopub.execute_input": "2023-01-28T19:12:51.529978Z",
          "iopub.status.idle": "2023-01-28T19:12:51.614338Z",
          "shell.execute_reply.started": "2023-01-28T19:12:51.529948Z",
          "shell.execute_reply": "2023-01-28T19:12:51.613152Z"
        },
        "trusted": true
      },
      "execution_count": null,
      "outputs": [
        {
          "name": "stdout",
          "text": "Model: \"sequential_1\"\n_________________________________________________________________\n Layer (type)                Output Shape              Param #   \n=================================================================\n random_flip_2 (RandomFlip)  (None, 400, 400, 3)       0         \n                                                                 \n random_zoom_2 (RandomZoom)  (None, 400, 400, 3)       0         \n                                                                 \n random_translation_2 (Rando  (None, 400, 400, 3)      0         \n mTranslation)                                                   \n                                                                 \n random_contrast_2 (RandomCo  (None, 400, 400, 3)      0         \n ntrast)                                                         \n                                                                 \n cropping2d_2 (Cropping2D)   (None, 400, 300, 3)       0         \n                                                                 \n lambda_2 (Lambda)           (None, 400, 300, 3)       0         \n                                                                 \n inception_resnet_v2 (Functi  (None, 11, 8, 1536)      54336736  \n onal)                                                           \n                                                                 \n dropout_3 (Dropout)         (None, 11, 8, 1536)       0         \n                                                                 \n global_average_pooling2d_2   (None, 1536)             0         \n (GlobalAveragePooling2D)                                        \n                                                                 \n Classifier (Dense)          (None, 1024)              1573888   \n                                                                 \n dropout_4 (Dropout)         (None, 1024)              0         \n                                                                 \n output_layer (Dense)        (None, 3)                 3075      \n                                                                 \n=================================================================\nTotal params: 55,913,699\nTrainable params: 55,853,155\nNon-trainable params: 60,544\n_________________________________________________________________\n",
          "output_type": "stream"
        }
      ]
    },
    {
      "cell_type": "code",
      "source": [
        "epochs = 200"
      ],
      "metadata": {
        "id": "-tjsykR04pAZ",
        "pycharm": {
          "name": "#%%\n"
        },
        "execution": {
          "iopub.status.busy": "2023-01-28T19:12:59.494855Z",
          "iopub.execute_input": "2023-01-28T19:12:59.495246Z",
          "iopub.status.idle": "2023-01-28T19:12:59.499970Z",
          "shell.execute_reply.started": "2023-01-28T19:12:59.495210Z",
          "shell.execute_reply": "2023-01-28T19:12:59.498932Z"
        },
        "trusted": true
      },
      "execution_count": null,
      "outputs": []
    },
    {
      "cell_type": "code",
      "source": [
        "!apt install --allow-change-held-packages libcudnn8=8.1.0.77-1+cuda11.2 --yes"
      ],
      "metadata": {
        "id": "6hnhSCKHFEZL",
        "execution": {
          "iopub.status.busy": "2023-01-28T19:13:01.039115Z",
          "iopub.execute_input": "2023-01-28T19:13:01.039505Z",
          "iopub.status.idle": "2023-01-28T19:14:01.557274Z",
          "shell.execute_reply.started": "2023-01-28T19:13:01.039474Z",
          "shell.execute_reply": "2023-01-28T19:14:01.556099Z"
        },
        "trusted": true
      },
      "execution_count": null,
      "outputs": []
    },
    {
      "cell_type": "code",
      "source": [
        "history = model.fit(\n",
        "    train_ds,\n",
        "    validation_data=val_ds,\n",
        "    epochs=epochs,\n",
        "    class_weight=class_weight,\n",
        "    callbacks = [\n",
        "        tfk.callbacks.EarlyStopping(monitor='val_accuracy', mode='max', patience=8, restore_best_weights=True),\n",
        "        tfk.callbacks.ReduceLROnPlateau(monitor='val_accuracy', mode='max', patience=3, factor=0.5, min_lr=1e-6)\n",
        "    ]).history"
      ],
      "metadata": {
        "colab": {
          "base_uri": "https://localhost:8080/"
        },
        "id": "jb54axct4svz",
        "outputId": "98238bb7-268f-4c2b-c476-ec73b4982547",
        "pycharm": {
          "name": "#%%\n"
        },
        "execution": {
          "iopub.status.busy": "2023-01-28T19:14:01.560001Z",
          "iopub.execute_input": "2023-01-28T19:14:01.560432Z",
          "iopub.status.idle": "2023-01-29T05:29:53.323596Z",
          "shell.execute_reply.started": "2023-01-28T19:14:01.560393Z",
          "shell.execute_reply": "2023-01-29T05:29:53.322670Z"
        },
        "trusted": true
      },
      "execution_count": null,
      "outputs": [
        {
          "name": "stdout",
          "text": "Epoch 1/200\n",
          "output_type": "stream"
        },
        {
          "name": "stderr",
          "text": "2023-01-28 19:14:24.730995: W tensorflow/core/framework/cpu_allocator_impl.cc:82] Allocation of 71794992 exceeds 10% of free system memory.\n2023-01-28 19:14:28.495455: W tensorflow/core/framework/cpu_allocator_impl.cc:82] Allocation of 71794992 exceeds 10% of free system memory.\n2023-01-28 19:14:29.074942: W tensorflow/stream_executor/gpu/asm_compiler.cc:111] *** WARNING *** You are using ptxas 11.0.221, which is older than 11.1. ptxas before 11.1 is known to miscompile XLA code, leading to incorrect results or invalid-address errors.\n\nYou may not need to update to CUDA 11.1; cherry-picking the ptxas binary is often sufficient.\n",
          "output_type": "stream"
        },
        {
          "name": "stdout",
          "text": " 52/687 [=>............................] - ETA: 9:23 - loss: 6.8922 - accuracy: 0.4411",
          "output_type": "stream"
        },
        {
          "name": "stderr",
          "text": "2023-01-28 19:15:21.365152: W tensorflow/core/framework/cpu_allocator_impl.cc:82] Allocation of 71794992 exceeds 10% of free system memory.\n",
          "output_type": "stream"
        },
        {
          "name": "stdout",
          "text": " 56/687 [=>............................] - ETA: 9:20 - loss: 6.7863 - accuracy: 0.4542",
          "output_type": "stream"
        },
        {
          "name": "stderr",
          "text": "2023-01-28 19:15:25.009879: W tensorflow/core/framework/cpu_allocator_impl.cc:82] Allocation of 71794992 exceeds 10% of free system memory.\n",
          "output_type": "stream"
        },
        {
          "name": "stdout",
          "text": "101/687 [===>..........................] - ETA: 8:46 - loss: 5.8047 - accuracy: 0.5062",
          "output_type": "stream"
        },
        {
          "name": "stderr",
          "text": "2023-01-28 19:16:05.965733: W tensorflow/core/framework/cpu_allocator_impl.cc:82] Allocation of 71794992 exceeds 10% of free system memory.\n",
          "output_type": "stream"
        },
        {
          "name": "stdout",
          "text": "687/687 [==============================] - 701s 971ms/step - loss: 2.1983 - accuracy: 0.5165 - val_loss: 0.9751 - val_accuracy: 0.3707 - lr: 0.0010\nEpoch 2/200\n687/687 [==============================] - 665s 966ms/step - loss: 0.7703 - accuracy: 0.5615 - val_loss: 1.0933 - val_accuracy: 0.3554 - lr: 0.0010\nEpoch 3/200\n687/687 [==============================] - 665s 966ms/step - loss: 0.7127 - accuracy: 0.6578 - val_loss: 0.9257 - val_accuracy: 0.4270 - lr: 0.0010\nEpoch 4/200\n687/687 [==============================] - 670s 973ms/step - loss: 0.6209 - accuracy: 0.7123 - val_loss: 0.6275 - val_accuracy: 0.7113 - lr: 0.0010\nEpoch 5/200\n687/687 [==============================] - 664s 965ms/step - loss: 0.6016 - accuracy: 0.7210 - val_loss: 0.5554 - val_accuracy: 0.7378 - lr: 0.0010\nEpoch 6/200\n687/687 [==============================] - 668s 970ms/step - loss: 0.5604 - accuracy: 0.7482 - val_loss: 0.5881 - val_accuracy: 0.7041 - lr: 0.0010\nEpoch 7/200\n687/687 [==============================] - 663s 964ms/step - loss: 0.5552 - accuracy: 0.7573 - val_loss: 9.2804 - val_accuracy: 0.1604 - lr: 0.0010\nEpoch 8/200\n687/687 [==============================] - 663s 963ms/step - loss: 0.5538 - accuracy: 0.7726 - val_loss: 0.8562 - val_accuracy: 0.6188 - lr: 0.0010\nEpoch 9/200\n687/687 [==============================] - 662s 962ms/step - loss: 0.4361 - accuracy: 0.8102 - val_loss: 0.3348 - val_accuracy: 0.8802 - lr: 5.0000e-04\nEpoch 10/200\n687/687 [==============================] - 662s 962ms/step - loss: 0.4207 - accuracy: 0.8160 - val_loss: 0.2943 - val_accuracy: 0.8902 - lr: 5.0000e-04\nEpoch 11/200\n687/687 [==============================] - 666s 968ms/step - loss: 0.3971 - accuracy: 0.8282 - val_loss: 0.3145 - val_accuracy: 0.8786 - lr: 5.0000e-04\nEpoch 12/200\n687/687 [==============================] - 661s 960ms/step - loss: 0.3918 - accuracy: 0.8318 - val_loss: 0.3935 - val_accuracy: 0.8573 - lr: 5.0000e-04\nEpoch 13/200\n687/687 [==============================] - 661s 960ms/step - loss: 0.3854 - accuracy: 0.8377 - val_loss: 0.3929 - val_accuracy: 0.8359 - lr: 5.0000e-04\nEpoch 14/200\n687/687 [==============================] - 661s 960ms/step - loss: 0.3349 - accuracy: 0.8601 - val_loss: 0.2437 - val_accuracy: 0.9148 - lr: 2.5000e-04\nEpoch 15/200\n687/687 [==============================] - 661s 960ms/step - loss: 0.3210 - accuracy: 0.8644 - val_loss: 0.2909 - val_accuracy: 0.8951 - lr: 2.5000e-04\nEpoch 16/200\n687/687 [==============================] - 660s 959ms/step - loss: 0.3091 - accuracy: 0.8721 - val_loss: 0.2386 - val_accuracy: 0.9136 - lr: 2.5000e-04\nEpoch 17/200\n687/687 [==============================] - 660s 958ms/step - loss: 0.3043 - accuracy: 0.8711 - val_loss: 0.2456 - val_accuracy: 0.9055 - lr: 2.5000e-04\nEpoch 18/200\n687/687 [==============================] - 664s 964ms/step - loss: 0.2678 - accuracy: 0.8869 - val_loss: 0.2258 - val_accuracy: 0.9148 - lr: 1.2500e-04\nEpoch 19/200\n687/687 [==============================] - 661s 960ms/step - loss: 0.2687 - accuracy: 0.8887 - val_loss: 0.2237 - val_accuracy: 0.9148 - lr: 1.2500e-04\nEpoch 20/200\n687/687 [==============================] - 662s 961ms/step - loss: 0.2602 - accuracy: 0.8926 - val_loss: 0.2571 - val_accuracy: 0.8995 - lr: 1.2500e-04\nEpoch 21/200\n687/687 [==============================] - 660s 959ms/step - loss: 0.2589 - accuracy: 0.8900 - val_loss: 0.2036 - val_accuracy: 0.9228 - lr: 6.2500e-05\nEpoch 22/200\n687/687 [==============================] - 661s 960ms/step - loss: 0.2386 - accuracy: 0.9025 - val_loss: 0.1951 - val_accuracy: 0.9284 - lr: 6.2500e-05\nEpoch 23/200\n687/687 [==============================] - 661s 960ms/step - loss: 0.2328 - accuracy: 0.9036 - val_loss: 0.2249 - val_accuracy: 0.9136 - lr: 6.2500e-05\nEpoch 24/200\n687/687 [==============================] - 661s 961ms/step - loss: 0.2371 - accuracy: 0.9013 - val_loss: 0.2026 - val_accuracy: 0.9296 - lr: 6.2500e-05\nEpoch 25/200\n687/687 [==============================] - 662s 963ms/step - loss: 0.2357 - accuracy: 0.9068 - val_loss: 0.2021 - val_accuracy: 0.9268 - lr: 6.2500e-05\nEpoch 26/200\n687/687 [==============================] - 662s 962ms/step - loss: 0.2344 - accuracy: 0.9038 - val_loss: 0.1994 - val_accuracy: 0.9300 - lr: 6.2500e-05\nEpoch 27/200\n687/687 [==============================] - 661s 960ms/step - loss: 0.2268 - accuracy: 0.9088 - val_loss: 0.1902 - val_accuracy: 0.9296 - lr: 6.2500e-05\nEpoch 28/200\n687/687 [==============================] - 666s 967ms/step - loss: 0.2279 - accuracy: 0.9068 - val_loss: 0.2001 - val_accuracy: 0.9264 - lr: 6.2500e-05\nEpoch 29/200\n687/687 [==============================] - 663s 963ms/step - loss: 0.2242 - accuracy: 0.9102 - val_loss: 0.1927 - val_accuracy: 0.9296 - lr: 6.2500e-05\nEpoch 30/200\n687/687 [==============================] - 660s 960ms/step - loss: 0.2141 - accuracy: 0.9122 - val_loss: 0.1915 - val_accuracy: 0.9288 - lr: 3.1250e-05\nEpoch 31/200\n687/687 [==============================] - 667s 969ms/step - loss: 0.2167 - accuracy: 0.9120 - val_loss: 0.1863 - val_accuracy: 0.9312 - lr: 3.1250e-05\nEpoch 32/200\n687/687 [==============================] - 663s 963ms/step - loss: 0.2118 - accuracy: 0.9122 - val_loss: 0.2044 - val_accuracy: 0.9272 - lr: 3.1250e-05\nEpoch 33/200\n687/687 [==============================] - 665s 967ms/step - loss: 0.2086 - accuracy: 0.9172 - val_loss: 0.2036 - val_accuracy: 0.9236 - lr: 3.1250e-05\nEpoch 34/200\n687/687 [==============================] - 667s 968ms/step - loss: 0.1999 - accuracy: 0.9185 - val_loss: 0.1896 - val_accuracy: 0.9308 - lr: 3.1250e-05\nEpoch 35/200\n687/687 [==============================] - 666s 968ms/step - loss: 0.2100 - accuracy: 0.9139 - val_loss: 0.1883 - val_accuracy: 0.9324 - lr: 1.5625e-05\nEpoch 36/200\n687/687 [==============================] - 664s 964ms/step - loss: 0.2011 - accuracy: 0.9192 - val_loss: 0.1858 - val_accuracy: 0.9353 - lr: 1.5625e-05\nEpoch 37/200\n687/687 [==============================] - 663s 963ms/step - loss: 0.1999 - accuracy: 0.9233 - val_loss: 0.1855 - val_accuracy: 0.9320 - lr: 1.5625e-05\nEpoch 38/200\n687/687 [==============================] - 663s 964ms/step - loss: 0.1999 - accuracy: 0.9164 - val_loss: 0.1947 - val_accuracy: 0.9300 - lr: 1.5625e-05\nEpoch 39/200\n687/687 [==============================] - 662s 962ms/step - loss: 0.2038 - accuracy: 0.9153 - val_loss: 0.1970 - val_accuracy: 0.9300 - lr: 1.5625e-05\nEpoch 40/200\n687/687 [==============================] - 662s 962ms/step - loss: 0.1958 - accuracy: 0.9192 - val_loss: 0.1925 - val_accuracy: 0.9316 - lr: 7.8125e-06\nEpoch 41/200\n687/687 [==============================] - 662s 962ms/step - loss: 0.1956 - accuracy: 0.9209 - val_loss: 0.1879 - val_accuracy: 0.9353 - lr: 7.8125e-06\nEpoch 42/200\n687/687 [==============================] - 662s 962ms/step - loss: 0.1939 - accuracy: 0.9229 - val_loss: 0.1877 - val_accuracy: 0.9337 - lr: 7.8125e-06\nEpoch 43/200\n687/687 [==============================] - 666s 967ms/step - loss: 0.1967 - accuracy: 0.9187 - val_loss: 0.1863 - val_accuracy: 0.9353 - lr: 3.9063e-06\nEpoch 44/200\n687/687 [==============================] - 663s 964ms/step - loss: 0.2015 - accuracy: 0.9174 - val_loss: 0.1845 - val_accuracy: 0.9365 - lr: 3.9063e-06\nEpoch 45/200\n687/687 [==============================] - 663s 964ms/step - loss: 0.1967 - accuracy: 0.9196 - val_loss: 0.1835 - val_accuracy: 0.9353 - lr: 3.9063e-06\nEpoch 46/200\n687/687 [==============================] - 662s 962ms/step - loss: 0.1945 - accuracy: 0.9193 - val_loss: 0.1832 - val_accuracy: 0.9357 - lr: 3.9063e-06\nEpoch 47/200\n687/687 [==============================] - 661s 961ms/step - loss: 0.1934 - accuracy: 0.9202 - val_loss: 0.1854 - val_accuracy: 0.9373 - lr: 3.9063e-06\nEpoch 48/200\n687/687 [==============================] - 666s 967ms/step - loss: 0.1924 - accuracy: 0.9195 - val_loss: 0.1847 - val_accuracy: 0.9369 - lr: 3.9063e-06\nEpoch 49/200\n687/687 [==============================] - 662s 962ms/step - loss: 0.1914 - accuracy: 0.9248 - val_loss: 0.1852 - val_accuracy: 0.9365 - lr: 3.9063e-06\nEpoch 50/200\n687/687 [==============================] - 662s 962ms/step - loss: 0.1880 - accuracy: 0.9257 - val_loss: 0.1846 - val_accuracy: 0.9373 - lr: 3.9063e-06\nEpoch 51/200\n687/687 [==============================] - 662s 961ms/step - loss: 0.1896 - accuracy: 0.9230 - val_loss: 0.1838 - val_accuracy: 0.9373 - lr: 1.9531e-06\nEpoch 52/200\n687/687 [==============================] - 667s 969ms/step - loss: 0.1910 - accuracy: 0.9228 - val_loss: 0.1849 - val_accuracy: 0.9369 - lr: 1.9531e-06\nEpoch 53/200\n687/687 [==============================] - 662s 963ms/step - loss: 0.1971 - accuracy: 0.9191 - val_loss: 0.1851 - val_accuracy: 0.9357 - lr: 1.9531e-06\nEpoch 54/200\n687/687 [==============================] - 663s 963ms/step - loss: 0.1879 - accuracy: 0.9214 - val_loss: 0.1846 - val_accuracy: 0.9357 - lr: 1.0000e-06\nEpoch 55/200\n687/687 [==============================] - 662s 962ms/step - loss: 0.1962 - accuracy: 0.9208 - val_loss: 0.1840 - val_accuracy: 0.9373 - lr: 1.0000e-06\n",
          "output_type": "stream"
        }
      ]
    },
    {
      "cell_type": "code",
      "source": [
        "import matplotlib.pyplot as plt\n",
        "\n",
        "# plot the trend of the MSE of the training set (always decreasing of course) and of the validation set\n",
        "plt.figure(figsize=(15,5))\n",
        "plt.plot(history['accuracy'], label='Training', alpha=.8, color='#ff7f0e')\n",
        "plt.plot(history['val_accuracy'], label='Validation', alpha=.8, color='#4D61E2')\n",
        "plt.ylim(0, 1)\n",
        "plt.title('Accuracy')\n",
        "plt.legend(loc='upper right')\n",
        "plt.grid(alpha=.3)\n",
        "plt.show()"
      ],
      "metadata": {
        "id": "MxuCBftc74dm",
        "execution": {
          "iopub.status.busy": "2023-01-29T05:29:53.325131Z",
          "iopub.execute_input": "2023-01-29T05:29:53.325512Z",
          "iopub.status.idle": "2023-01-29T05:29:53.613130Z",
          "shell.execute_reply.started": "2023-01-29T05:29:53.325476Z",
          "shell.execute_reply": "2023-01-29T05:29:53.612101Z"
        },
        "trusted": true,
        "outputId": "d0d9d772-9b52-4406-9202-c2bb7db17d4b"
      },
      "execution_count": null,
      "outputs": [
        {
          "output_type": "display_data",
          "data": {
            "text/plain": "<Figure size 1080x360 with 1 Axes>",
            "image/png": "[encoded data removed]"
          },
          "metadata": {
            "needs_background": "light"
          }
        }
      ]
    },
    {
      "cell_type": "code",
      "source": [
        "import matplotlib.pyplot as plt\n",
        "\n",
        "# plot the trend of the MSE of the training set (always decreasing of course) and of the validation set\n",
        "plt.figure(figsize=(15,5))\n",
        "plt.plot(history['loss'], label='Training', alpha=.8, color='#ff7f0e')\n",
        "plt.plot(history['val_loss'], label='Validation', alpha=.8, color='#4D61E2')\n",
        "plt.ylim(0, 1)\n",
        "plt.title('Loss')\n",
        "plt.legend(loc='upper right')\n",
        "plt.grid(alpha=.3)\n",
        "plt.show()"
      ],
      "metadata": {
        "execution": {
          "iopub.status.busy": "2023-01-29T05:29:53.615819Z",
          "iopub.execute_input": "2023-01-29T05:29:53.616160Z",
          "iopub.status.idle": "2023-01-29T05:29:53.821678Z",
          "shell.execute_reply.started": "2023-01-29T05:29:53.616124Z",
          "shell.execute_reply": "2023-01-29T05:29:53.820844Z"
        },
        "trusted": true,
        "id": "V08Ems9pOOLb",
        "outputId": "dcfcaad6-536a-467f-ab59-bf8ce1c1ef3c"
      },
      "execution_count": null,
      "outputs": [
        {
          "output_type": "display_data",
          "data": {
            "text/plain": "<Figure size 1080x360 with 1 Axes>",
            "image/png": "[encoded data removed]"
          },
          "metadata": {
            "needs_background": "light"
          }
        }
      ]
    },
    {
      "cell_type": "code",
      "source": [
        "loss, acc = model.evaluate(test_ds)\n",
        "print(\"Accuracy\", acc)\n",
        "print(\"Loss\", loss)"
      ],
      "metadata": {
        "id": "BTRc0Iw04uVa",
        "pycharm": {
          "name": "#%%\n"
        },
        "execution": {
          "iopub.status.busy": "2023-01-29T05:29:53.822836Z",
          "iopub.execute_input": "2023-01-29T05:29:53.823168Z",
          "iopub.status.idle": "2023-01-29T05:30:34.828379Z",
          "shell.execute_reply.started": "2023-01-29T05:29:53.823135Z",
          "shell.execute_reply": "2023-01-29T05:30:34.827246Z"
        },
        "trusted": true,
        "outputId": "56ffe69c-e1e3-40f0-d96b-afb03cc34cb8"
      },
      "execution_count": null,
      "outputs": [
        {
          "name": "stdout",
          "text": "125/125 [==============================] - 30s 242ms/step - loss: 0.1597 - accuracy: 0.9468\nAccuracy 0.9467604160308838\nLoss 0.15973177552223206\n",
          "output_type": "stream"
        }
      ]
    },
    {
      "cell_type": "code",
      "source": [
        "# Compute the prediction on the test data\n",
        "predictions = model.predict(test_ds)\n",
        "y_predicted = tf.argmax(predictions, axis=-1)"
      ],
      "metadata": {
        "id": "V_638aLIGUN3",
        "colab": {
          "base_uri": "https://localhost:8080/"
        },
        "outputId": "ef02cd6e-4149-4adb-f1e6-ce58c00b4353",
        "execution": {
          "iopub.status.busy": "2023-01-29T05:30:34.830103Z",
          "iopub.execute_input": "2023-01-29T05:30:34.831128Z",
          "iopub.status.idle": "2023-01-29T05:31:07.205677Z",
          "shell.execute_reply.started": "2023-01-29T05:30:34.831087Z",
          "shell.execute_reply": "2023-01-29T05:31:07.204748Z"
        },
        "trusted": true
      },
      "execution_count": null,
      "outputs": [
        {
          "name": "stdout",
          "text": "125/125 [==============================] - 32s 232ms/step\n",
          "output_type": "stream"
        }
      ]
    },
    {
      "cell_type": "code",
      "source": [
        "# Take all the true labels and save them in an array\n",
        "y_true =  np.array([])\n",
        "count = 0\n",
        "for x, y in test_ds:\n",
        "    count += 1\n",
        "    y_true = np.concatenate([y_true, np.argmax(y, axis=-1)])\n",
        "\n",
        "print(\"There are {} images in the test set\".format(count))"
      ],
      "metadata": {
        "id": "y5ZyKa7_GWtR",
        "colab": {
          "base_uri": "https://localhost:8080/"
        },
        "outputId": "4f5d3a07-9af4-456e-c803-35a0f8ac81bc",
        "execution": {
          "iopub.status.busy": "2023-01-29T05:31:07.208089Z",
          "iopub.execute_input": "2023-01-29T05:31:07.208473Z",
          "iopub.status.idle": "2023-01-29T05:31:27.705747Z",
          "shell.execute_reply.started": "2023-01-29T05:31:07.208438Z",
          "shell.execute_reply": "2023-01-29T05:31:27.704656Z"
        },
        "trusted": true
      },
      "execution_count": null,
      "outputs": [
        {
          "name": "stdout",
          "text": "There are 125 images in the test set\n",
          "output_type": "stream"
        }
      ]
    },
    {
      "cell_type": "code",
      "source": [
        "from sklearn.metrics import accuracy_score, f1_score, precision_score, recall_score\n",
        "from sklearn.metrics import confusion_matrix\n",
        "import seaborn as sns\n",
        "import matplotlib.pyplot as plt\n",
        "\n",
        "# Compute the confusion matrix\n",
        "cm = confusion_matrix(y_true, y_predicted)\n",
        "\n",
        "# Compute the classification metrics\n",
        "accuracy = accuracy_score(y_true, y_predicted)\n",
        "precision = precision_score(y_true, y_predicted, average='macro')\n",
        "recall = recall_score(y_true, y_predicted, average='macro')\n",
        "f1 = f1_score(y_true, y_predicted, average='macro')\n",
        "print('Accuracy:',accuracy.round(4))\n",
        "print('Precision:',precision.round(4))\n",
        "print('Recall:',recall.round(4))\n",
        "print('F1:',f1.round(4))\n",
        "\n",
        "# Plot the confusion matrix\n",
        "plt.figure(figsize=(10,8))\n",
        "sns.heatmap(cm.T, xticklabels=class_names, yticklabels=class_names, annot=True, fmt=\".1f\", cmap=\"Blues\")\n",
        "plt.xlabel('True labels')\n",
        "plt.ylabel('Predicted labels')\n",
        "plt.show()"
      ],
      "metadata": {
        "id": "SAG536mTGZ5B",
        "colab": {
          "base_uri": "https://localhost:8080/",
          "height": 566
        },
        "outputId": "cf75ab83-260a-400e-f826-f25de53577a5",
        "execution": {
          "iopub.status.busy": "2023-01-29T05:31:27.706834Z",
          "iopub.execute_input": "2023-01-29T05:31:27.707111Z",
          "iopub.status.idle": "2023-01-29T05:31:28.265311Z",
          "shell.execute_reply.started": "2023-01-29T05:31:27.707085Z",
          "shell.execute_reply": "2023-01-29T05:31:28.263479Z"
        },
        "trusted": true
      },
      "execution_count": null,
      "outputs": [
        {
          "name": "stdout",
          "text": "Accuracy: 0.9468\nPrecision: 0.926\nRecall: 0.9248\nF1: 0.9253\n",
          "output_type": "stream"
        },
        {
          "output_type": "display_data",
          "data": {
            "text/plain": "<Figure size 720x576 with 2 Axes>",
            "image/png": "[encoded data removed]"
          },
          "metadata": {
            "needs_background": "light"
          }
        }
      ]
    },
    {
      "cell_type": "code",
      "source": [
        "if kaggle:\n",
        "    %cd working\n",
        "    model.save(\"InceptionResnetModel\")\n",
        "    !zip -r InceptionResnetModel.zip /kaggle/working/InceptionResnetModel\n",
        "else:\n",
        "    model.save(\"InceptionResnetModel\")"
      ],
      "metadata": {
        "id": "XQqzi5tYFEZO",
        "execution": {
          "iopub.status.busy": "2023-01-29T05:31:28.266608Z",
          "iopub.execute_input": "2023-01-29T05:31:28.267432Z",
          "iopub.status.idle": "2023-01-29T05:33:42.131454Z",
          "shell.execute_reply.started": "2023-01-29T05:31:28.267395Z",
          "shell.execute_reply": "2023-01-29T05:33:42.130237Z"
        },
        "trusted": true
      },
      "execution_count": null,
      "outputs": []
    },
    {
      "cell_type": "code",
      "source": [],
      "metadata": {
        "id": "6EcoB-XYuiLn"
      },
      "execution_count": null,
      "outputs": []
    }
  ]
}