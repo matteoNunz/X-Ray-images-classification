{
  "metadata": {
    "colab": {
      "provenance": []
    },
    "kernelspec": {
      "name": "python3",
      "display_name": "Python 3",
      "language": "python"
    },
    "language_info": {
      "name": "python",
      "version": "3.7.12",
      "mimetype": "text/x-python",
      "codemirror_mode": {
        "name": "ipython",
        "version": 3
      },
      "pygments_lexer": "ipython3",
      "nbconvert_exporter": "python",
      "file_extension": ".py"
    },
    "accelerator": "GPU",
    "gpuClass": "standard"
  },
  "nbformat_minor": 0,
  "nbformat": 4,
  "cells": [
    {
      "cell_type": "code",
      "source": [
        "pip install tensorflow==2.9.2"
      ],
      "metadata": {
        "id": "wshsCkY3FEY1",
        "execution": {
          "iopub.status.busy": "2023-01-23T12:50:55.626260Z",
          "iopub.execute_input": "2023-01-23T12:50:55.627209Z",
          "iopub.status.idle": "2023-01-23T12:52:03.403748Z",
          "shell.execute_reply.started": "2023-01-23T12:50:55.627109Z",
          "shell.execute_reply": "2023-01-23T12:52:03.402407Z"
        },
        "trusted": true
      },
      "execution_count": null,
      "outputs": []
    },
    {
      "cell_type": "code",
      "source": [
        "import tensorflow as tf\n",
        "import numpy as np\n",
        "import os\n",
        "import random\n",
        "import tensorboard\n",
        "import datetime\n",
        "\n",
        "kaggle = False\n",
        "\n",
        "tfk = tf.keras\n",
        "tfkl = tf.keras.layers\n",
        "print(tf.__version__)"
      ],
      "metadata": {
        "id": "CzytuouUFEY7",
        "outputId": "fc84bc26-7423-46c8-c4ba-213bad0d53a7",
        "colab": {
          "base_uri": "https://localhost:8080/"
        },
        "execution": {
          "iopub.status.busy": "2023-01-23T12:52:03.406375Z",
          "iopub.execute_input": "2023-01-23T12:52:03.407234Z",
          "iopub.status.idle": "2023-01-23T12:52:07.928116Z",
          "shell.execute_reply.started": "2023-01-23T12:52:03.407192Z",
          "shell.execute_reply": "2023-01-23T12:52:07.927060Z"
        },
        "trusted": true
      },
      "execution_count": null,
      "outputs": [
        {
          "name": "stdout",
          "text": "2.9.2\n",
          "output_type": "stream"
        }
      ]
    },
    {
      "cell_type": "code",
      "source": [
        "# Random seed for reproducibility\n",
        "seed = 54721\n",
        "\n",
        "random.seed(seed)\n",
        "os.environ['PYTHONHASHSEED'] = str(seed)\n",
        "np.random.seed(seed)\n",
        "tf.random.set_seed(seed)\n",
        "tf.compat.v1.set_random_seed(seed)"
      ],
      "metadata": {
        "id": "M670wyKl3Lhw",
        "pycharm": {
          "name": "#%%\n"
        },
        "execution": {
          "iopub.status.busy": "2023-01-23T12:52:07.929391Z",
          "iopub.execute_input": "2023-01-23T12:52:07.930081Z",
          "iopub.status.idle": "2023-01-23T12:52:07.942518Z",
          "shell.execute_reply.started": "2023-01-23T12:52:07.930040Z",
          "shell.execute_reply": "2023-01-23T12:52:07.939914Z"
        },
        "trusted": true
      },
      "execution_count": null,
      "outputs": []
    },
    {
      "cell_type": "code",
      "source": [
        "if not kaggle:\n",
        "    from google.colab import drive\n",
        "    drive.mount('/content/drive')"
      ],
      "metadata": {
        "id": "i4v-8gkEFN72",
        "execution": {
          "iopub.status.busy": "2023-01-23T12:52:07.945534Z",
          "iopub.execute_input": "2023-01-23T12:52:07.945933Z",
          "iopub.status.idle": "2023-01-23T12:52:07.957392Z",
          "shell.execute_reply.started": "2023-01-23T12:52:07.945894Z",
          "shell.execute_reply": "2023-01-23T12:52:07.956396Z"
        },
        "trusted": true
      },
      "execution_count": null,
      "outputs": []
    },
    {
      "cell_type": "code",
      "source": [
        "if kaggle:\n",
        "    train_dir = '/kaggle/input/biomedicine-data-splitted-patient/data_splitted_patient/train'\n",
        "    test_dir = '/kaggle/input/biomedicine-data-splitted-patient/data_splitted_patient/test'\n",
        "    val_dir = '/kaggle/input/biomedicine-data-splitted-patient/data_splitted_patient/val'\n",
        "else:\n",
        "    %cd /content/drive/MyDrive/data_splitted_patient\n",
        "    train_dir = 'train'\n",
        "    test_dir = 'test'\n",
        "    val_dir = 'val'\n",
        "\n",
        "image_size = 400 # images are 400x400x3\n",
        "batch_size = 16"
      ],
      "metadata": {
        "id": "vvsg6pLQFTL0",
        "execution": {
          "iopub.status.busy": "2023-01-23T12:52:07.959029Z",
          "iopub.execute_input": "2023-01-23T12:52:07.959756Z",
          "iopub.status.idle": "2023-01-23T12:52:07.969618Z",
          "shell.execute_reply.started": "2023-01-23T12:52:07.959696Z",
          "shell.execute_reply": "2023-01-23T12:52:07.968700Z"
        },
        "trusted": true
      },
      "execution_count": null,
      "outputs": []
    },
    {
      "cell_type": "code",
      "source": [
        "class_names = ['N','P','T']\n",
        "class_samples = [0] * len(class_names)"
      ],
      "metadata": {
        "id": "tjF8JhS_3n7p",
        "pycharm": {
          "name": "#%%\n"
        },
        "execution": {
          "iopub.status.busy": "2023-01-23T12:52:07.971180Z",
          "iopub.execute_input": "2023-01-23T12:52:07.971576Z",
          "iopub.status.idle": "2023-01-23T12:52:07.978834Z",
          "shell.execute_reply.started": "2023-01-23T12:52:07.971541Z",
          "shell.execute_reply": "2023-01-23T12:52:07.977959Z"
        },
        "trusted": true
      },
      "execution_count": null,
      "outputs": []
    },
    {
      "cell_type": "code",
      "source": [
        "for i, class_name in enumerate(class_names):\n",
        "    class_dir = '{}/{}/'.format(train_dir, class_name)\n",
        "    class_samples[i] = len(os.listdir(class_dir))"
      ],
      "metadata": {
        "id": "05MKlhMs3tW4",
        "pycharm": {
          "name": "#%%\n"
        },
        "execution": {
          "iopub.status.busy": "2023-01-23T12:52:07.980545Z",
          "iopub.execute_input": "2023-01-23T12:52:07.980938Z",
          "iopub.status.idle": "2023-01-23T12:52:09.703485Z",
          "shell.execute_reply.started": "2023-01-23T12:52:07.980899Z",
          "shell.execute_reply": "2023-01-23T12:52:09.702460Z"
        },
        "trusted": true
      },
      "execution_count": null,
      "outputs": []
    },
    {
      "cell_type": "code",
      "source": [
        "total_samples = sum(class_samples)\n",
        "class_weight = list(total_samples / (len(class_names) * np.array(class_samples)))\n",
        "class_weight = {i: class_weight[i] for i in range(len(class_weight))}"
      ],
      "metadata": {
        "id": "jmua8QXM3u_f",
        "pycharm": {
          "name": "#%%\n"
        },
        "execution": {
          "iopub.status.busy": "2023-01-23T12:52:09.716899Z",
          "iopub.execute_input": "2023-01-23T12:52:09.718069Z",
          "iopub.status.idle": "2023-01-23T12:52:09.726376Z",
          "shell.execute_reply.started": "2023-01-23T12:52:09.718031Z",
          "shell.execute_reply": "2023-01-23T12:52:09.725393Z"
        },
        "trusted": true
      },
      "execution_count": null,
      "outputs": []
    },
    {
      "cell_type": "code",
      "source": [
        "print('Class weights: {}'.format(class_weight))"
      ],
      "metadata": {
        "colab": {
          "base_uri": "https://localhost:8080/"
        },
        "id": "G4Mrm-7531KI",
        "outputId": "b6d1cccb-59de-43d9-f435-d0f898d85a9d",
        "pycharm": {
          "name": "#%%\n"
        },
        "execution": {
          "iopub.status.busy": "2023-01-23T12:52:09.731485Z",
          "iopub.execute_input": "2023-01-23T12:52:09.731822Z",
          "iopub.status.idle": "2023-01-23T12:52:09.738117Z",
          "shell.execute_reply.started": "2023-01-23T12:52:09.731796Z",
          "shell.execute_reply": "2023-01-23T12:52:09.737030Z"
        },
        "trusted": true
      },
      "execution_count": null,
      "outputs": [
        {
          "name": "stdout",
          "text": "Class weights: {0: 0.5512261170452836, 1: 1.2112396694214875, 2: 2.775757575757576}\n",
          "output_type": "stream"
        }
      ]
    },
    {
      "cell_type": "code",
      "source": [
        "train_ds = tf.keras.utils.image_dataset_from_directory(\n",
        "    train_dir,\n",
        "    validation_split=0.0,\n",
        "    shuffle=True,\n",
        "    seed=seed,\n",
        "    image_size=(image_size, image_size),\n",
        "    batch_size=batch_size)"
      ],
      "metadata": {
        "colab": {
          "base_uri": "https://localhost:8080/"
        },
        "id": "FH9S_dEY31pN",
        "outputId": "7f6515a6-15bf-4aa4-a2df-d3d18a066034",
        "pycharm": {
          "name": "#%%\n"
        },
        "execution": {
          "iopub.status.busy": "2023-01-23T12:52:09.739631Z",
          "iopub.execute_input": "2023-01-23T12:52:09.740619Z",
          "iopub.status.idle": "2023-01-23T12:52:31.143255Z",
          "shell.execute_reply.started": "2023-01-23T12:52:09.740584Z",
          "shell.execute_reply": "2023-01-23T12:52:31.142064Z"
        },
        "trusted": true
      },
      "execution_count": null,
      "outputs": [
        {
          "name": "stdout",
          "text": "Found 10992 files belonging to 3 classes.\n",
          "output_type": "stream"
        }
      ]
    },
    {
      "cell_type": "code",
      "source": [
        "val_ds = tf.keras.utils.image_dataset_from_directory(\n",
        "    val_dir,\n",
        "    validation_split=0.0,\n",
        "    shuffle=True,\n",
        "    seed=seed,\n",
        "    image_size=(image_size, image_size),\n",
        "    batch_size=batch_size)"
      ],
      "metadata": {
        "colab": {
          "base_uri": "https://localhost:8080/"
        },
        "id": "y8s2sxjl36rv",
        "outputId": "d520e850-194b-4ead-d56b-1c182fa9c189",
        "pycharm": {
          "name": "#%%\n"
        },
        "execution": {
          "iopub.status.busy": "2023-01-23T12:52:31.144777Z",
          "iopub.execute_input": "2023-01-23T12:52:31.145456Z",
          "iopub.status.idle": "2023-01-23T12:52:33.301218Z",
          "shell.execute_reply.started": "2023-01-23T12:52:31.145408Z",
          "shell.execute_reply": "2023-01-23T12:52:33.300149Z"
        },
        "trusted": true
      },
      "execution_count": null,
      "outputs": [
        {
          "name": "stdout",
          "text": "Found 2487 files belonging to 3 classes.\n",
          "output_type": "stream"
        }
      ]
    },
    {
      "cell_type": "code",
      "source": [
        "test_ds = tf.keras.utils.image_dataset_from_directory(\n",
        "    test_dir,\n",
        "    validation_split=0.0,\n",
        "    # It doesn't matter here the shuffle -> set to False to have the heatmap\n",
        "    shuffle=False,\n",
        "    seed=seed,\n",
        "    image_size=(image_size, image_size),\n",
        "    batch_size=batch_size)"
      ],
      "metadata": {
        "id": "gauenXVz7JfF",
        "outputId": "cdc6e489-bfc0-4ce2-d18e-88366a909f2e",
        "colab": {
          "base_uri": "https://localhost:8080/"
        },
        "execution": {
          "iopub.status.busy": "2023-01-23T12:52:33.302559Z",
          "iopub.execute_input": "2023-01-23T12:52:33.303958Z",
          "iopub.status.idle": "2023-01-23T12:52:34.342862Z",
          "shell.execute_reply.started": "2023-01-23T12:52:33.303918Z",
          "shell.execute_reply": "2023-01-23T12:52:34.341762Z"
        },
        "trusted": true
      },
      "execution_count": null,
      "outputs": [
        {
          "name": "stdout",
          "text": "Found 1991 files belonging to 3 classes.\n",
          "output_type": "stream"
        }
      ]
    },
    {
      "cell_type": "code",
      "source": [
        "class_names = train_ds.class_names\n",
        "num_classes = len(class_names)\n",
        "print(\"There are {} classes\".format(num_classes))"
      ],
      "metadata": {
        "id": "xW0pHMXQ4GiZ",
        "pycharm": {
          "name": "#%%\n"
        },
        "colab": {
          "base_uri": "https://localhost:8080/"
        },
        "outputId": "a86e7d35-fbf6-4314-b75e-7ed3caf9db57",
        "execution": {
          "iopub.status.busy": "2023-01-23T12:52:34.344310Z",
          "iopub.execute_input": "2023-01-23T12:52:34.347501Z",
          "iopub.status.idle": "2023-01-23T12:52:34.355050Z",
          "shell.execute_reply.started": "2023-01-23T12:52:34.347466Z",
          "shell.execute_reply": "2023-01-23T12:52:34.354017Z"
        },
        "trusted": true
      },
      "execution_count": null,
      "outputs": [
        {
          "name": "stdout",
          "text": "There are 3 classes\n",
          "output_type": "stream"
        }
      ]
    },
    {
      "cell_type": "code",
      "source": [
        "# Add caching to dataset\n",
        "AUTOTUNE = tf.data.AUTOTUNE\n",
        "train_ds = train_ds.prefetch(buffer_size=AUTOTUNE)\n",
        "val_ds = val_ds.prefetch(buffer_size=AUTOTUNE)\n",
        "test_ds = test_ds.prefetch(buffer_size=AUTOTUNE)"
      ],
      "metadata": {
        "id": "-HPT0GSz4PKX",
        "pycharm": {
          "name": "#%%\n"
        },
        "execution": {
          "iopub.status.busy": "2023-01-23T12:52:34.356852Z",
          "iopub.execute_input": "2023-01-23T12:52:34.357240Z",
          "iopub.status.idle": "2023-01-23T12:52:34.365504Z",
          "shell.execute_reply.started": "2023-01-23T12:52:34.357199Z",
          "shell.execute_reply": "2023-01-23T12:52:34.364614Z"
        },
        "trusted": true
      },
      "execution_count": null,
      "outputs": []
    },
    {
      "cell_type": "code",
      "source": [
        "# Use one-hot encoding for labels\n",
        "train_ds = train_ds.map(lambda x, y: (x, tf.one_hot(y, depth=num_classes)))\n",
        "val_ds = val_ds.map(lambda x, y: (x, tf.one_hot(y, depth=num_classes)))\n",
        "test_ds = test_ds.map(lambda x, y: (x, tf.one_hot(y, depth=num_classes)))"
      ],
      "metadata": {
        "id": "ONLJajm74R8w",
        "pycharm": {
          "name": "#%%\n"
        },
        "execution": {
          "iopub.status.busy": "2023-01-23T12:52:34.367153Z",
          "iopub.execute_input": "2023-01-23T12:52:34.367523Z",
          "iopub.status.idle": "2023-01-23T12:52:34.436697Z",
          "shell.execute_reply.started": "2023-01-23T12:52:34.367486Z",
          "shell.execute_reply": "2023-01-23T12:52:34.435657Z"
        },
        "trusted": true
      },
      "execution_count": null,
      "outputs": []
    },
    {
      "cell_type": "code",
      "source": [
        "# It could be a good idea to crop just the right and the left side: they are black\n",
        "crop_dim = 50\n",
        "input_shape = (image_size, image_size, 3)\n",
        "# Apply the corpping only in the right and left side\n",
        "input_shape_cropping = (image_size, image_size-crop_dim*2, 3)"
      ],
      "metadata": {
        "id": "QIj2Z8fw4UFm",
        "pycharm": {
          "name": "#%%\n"
        },
        "execution": {
          "iopub.status.busy": "2023-01-23T12:52:34.438347Z",
          "iopub.execute_input": "2023-01-23T12:52:34.438746Z",
          "iopub.status.idle": "2023-01-23T12:52:34.444168Z",
          "shell.execute_reply.started": "2023-01-23T12:52:34.438694Z",
          "shell.execute_reply": "2023-01-23T12:52:34.442886Z"
        },
        "trusted": true
      },
      "execution_count": null,
      "outputs": []
    },
    {
      "cell_type": "code",
      "source": [
        "base_model = tf.keras.applications.EfficientNetV2B2(\n",
        "    input_shape=input_shape_cropping,\n",
        "    include_top=False,\n",
        "    weights='imagenet')\n",
        "base_model.trainable = True"
      ],
      "metadata": {
        "id": "s9iSE-uS4Wcd",
        "pycharm": {
          "name": "#%%\n"
        },
        "colab": {
          "base_uri": "https://localhost:8080/"
        },
        "outputId": "c5759420-6d7f-4801-9504-26d3637d3bfc",
        "execution": {
          "iopub.status.busy": "2023-01-23T12:52:34.445618Z",
          "iopub.execute_input": "2023-01-23T12:52:34.445981Z",
          "iopub.status.idle": "2023-01-23T12:52:37.553999Z",
          "shell.execute_reply.started": "2023-01-23T12:52:34.445946Z",
          "shell.execute_reply": "2023-01-23T12:52:37.553023Z"
        },
        "trusted": true
      },
      "execution_count": null,
      "outputs": [
        {
          "name": "stdout",
          "text": "Downloading data from https://storage.googleapis.com/tensorflow/keras-applications/efficientnet_v2/efficientnetv2-b2_notop.h5\n35839040/35839040 [==============================] - 0s 0us/step\n",
          "output_type": "stream"
        }
      ]
    },
    {
      "cell_type": "code",
      "source": [
        "model = tfk.Sequential([\n",
        "    tfk.layers.Input(shape=input_shape),\n",
        "    # Augmentation\n",
        "    tfk.layers.RandomFlip(\"horizontal_and_vertical\", input_shape=input_shape),\n",
        "    tfk.layers.RandomZoom(0.3),\n",
        "    tfk.layers.RandomTranslation(width_factor=0.5, height_factor=0.5),\n",
        "    tfk.layers.RandomContrast(0.1),\n",
        "    tfk.layers.Cropping2D(cropping=((0, 0), (crop_dim, crop_dim)), input_shape=input_shape),\n",
        "\n",
        "    # Preprocess for base model\n",
        "    tfk.layers.Lambda(tf.keras.applications.efficientnet_v2.preprocess_input),\n",
        "    # Transfer learning\n",
        "    base_model,\n",
        "    \n",
        "    # Global avg\n",
        "    tfk.layers.GlobalAveragePooling2D(),\n",
        "\n",
        "    # Classification\n",
        "    tfk.layers.Dense(512, activation='swish', kernel_initializer='he_uniform'),\n",
        "    tfk.layers.Dropout(0.2),\n",
        "    tfk.layers.Dense(256, activation='swish', kernel_initializer='he_uniform'),\n",
        "    tfk.layers.Dropout(0.2),\n",
        "    tfk.layers.Dense(192, activation='swish', kernel_initializer='he_uniform'),\n",
        "    tfk.layers.Dropout(0.2),\n",
        "    tfk.layers.Dense(48, activation='swish', kernel_initializer='he_uniform'),\n",
        "    tfk.layers.Dropout(0.2),\n",
        "    # Output\n",
        "    tfk.layers.Dense(num_classes, activation='softmax')\n",
        "])"
      ],
      "metadata": {
        "id": "xoU0x0up4bR4",
        "pycharm": {
          "name": "#%%\n"
        },
        "execution": {
          "iopub.status.busy": "2023-01-23T12:52:37.555506Z",
          "iopub.execute_input": "2023-01-23T12:52:37.555888Z",
          "iopub.status.idle": "2023-01-23T12:52:38.708261Z",
          "shell.execute_reply.started": "2023-01-23T12:52:37.555851Z",
          "shell.execute_reply": "2023-01-23T12:52:38.707182Z"
        },
        "trusted": true
      },
      "execution_count": null,
      "outputs": []
    },
    {
      "cell_type": "code",
      "source": [
        "model.compile(optimizer=tfk.optimizers.Adam(),\n",
        "              loss=tf.keras.losses.CategoricalCrossentropy(),\n",
        "              metrics=['accuracy'])"
      ],
      "metadata": {
        "id": "0nxL0ROF8Wag",
        "execution": {
          "iopub.status.busy": "2023-01-23T12:52:38.709819Z",
          "iopub.execute_input": "2023-01-23T12:52:38.710233Z",
          "iopub.status.idle": "2023-01-23T12:52:38.733443Z",
          "shell.execute_reply.started": "2023-01-23T12:52:38.710190Z",
          "shell.execute_reply": "2023-01-23T12:52:38.732586Z"
        },
        "trusted": true
      },
      "execution_count": null,
      "outputs": []
    },
    {
      "cell_type": "code",
      "source": [
        "model.summary()"
      ],
      "metadata": {
        "colab": {
          "base_uri": "https://localhost:8080/"
        },
        "id": "xCAanBCB4nKE",
        "outputId": "c1982513-1279-443a-9bd6-e60413175d08",
        "pycharm": {
          "name": "#%%\n"
        },
        "execution": {
          "iopub.status.busy": "2023-01-23T12:52:38.734729Z",
          "iopub.execute_input": "2023-01-23T12:52:38.735186Z",
          "iopub.status.idle": "2023-01-23T12:52:38.811052Z",
          "shell.execute_reply.started": "2023-01-23T12:52:38.735151Z",
          "shell.execute_reply": "2023-01-23T12:52:38.810129Z"
        },
        "trusted": true
      },
      "execution_count": null,
      "outputs": [
        {
          "name": "stdout",
          "text": "Model: \"sequential\"\n_________________________________________________________________\n Layer (type)                Output Shape              Param #   \n=================================================================\n random_flip (RandomFlip)    (None, 400, 400, 3)       0         \n                                                                 \n random_zoom (RandomZoom)    (None, 400, 400, 3)       0         \n                                                                 \n random_translation (RandomT  (None, 400, 400, 3)      0         \n ranslation)                                                     \n                                                                 \n random_contrast (RandomCont  (None, 400, 400, 3)      0         \n rast)                                                           \n                                                                 \n cropping2d (Cropping2D)     (None, 400, 300, 3)       0         \n                                                                 \n lambda (Lambda)             (None, 400, 300, 3)       0         \n                                                                 \n efficientnetv2-b2 (Function  (None, 13, 10, 1408)     8769374   \n al)                                                             \n                                                                 \n global_average_pooling2d (G  (None, 1408)             0         \n lobalAveragePooling2D)                                          \n                                                                 \n dense (Dense)               (None, 512)               721408    \n                                                                 \n dropout (Dropout)           (None, 512)               0         \n                                                                 \n dense_1 (Dense)             (None, 256)               131328    \n                                                                 \n dropout_1 (Dropout)         (None, 256)               0         \n                                                                 \n dense_2 (Dense)             (None, 192)               49344     \n                                                                 \n dropout_2 (Dropout)         (None, 192)               0         \n                                                                 \n dense_3 (Dense)             (None, 48)                9264      \n                                                                 \n dropout_3 (Dropout)         (None, 48)                0         \n                                                                 \n dense_4 (Dense)             (None, 3)                 147       \n                                                                 \n=================================================================\nTotal params: 9,680,865\nTrainable params: 9,598,577\nNon-trainable params: 82,288\n_________________________________________________________________\n",
          "output_type": "stream"
        }
      ]
    },
    {
      "cell_type": "code",
      "source": [
        "epochs = 200"
      ],
      "metadata": {
        "id": "-tjsykR04pAZ",
        "pycharm": {
          "name": "#%%\n"
        },
        "execution": {
          "iopub.status.busy": "2023-01-23T12:52:38.812134Z",
          "iopub.execute_input": "2023-01-23T12:52:38.812760Z",
          "iopub.status.idle": "2023-01-23T12:52:38.817657Z",
          "shell.execute_reply.started": "2023-01-23T12:52:38.812725Z",
          "shell.execute_reply": "2023-01-23T12:52:38.816643Z"
        },
        "trusted": true
      },
      "execution_count": null,
      "outputs": []
    },
    {
      "cell_type": "code",
      "source": [
        "!apt install --allow-change-held-packages libcudnn8=8.1.0.77-1+cuda11.2 --yes"
      ],
      "metadata": {
        "id": "6hnhSCKHFEZL",
        "execution": {
          "iopub.status.busy": "2023-01-23T12:52:38.819034Z",
          "iopub.execute_input": "2023-01-23T12:52:38.819341Z",
          "iopub.status.idle": "2023-01-23T12:53:39.768292Z",
          "shell.execute_reply.started": "2023-01-23T12:52:38.819306Z",
          "shell.execute_reply": "2023-01-23T12:53:39.766893Z"
        },
        "trusted": true
      },
      "execution_count": null,
      "outputs": []
    },
    {
      "cell_type": "code",
      "source": [
        "history = model.fit(\n",
        "    train_ds,\n",
        "    validation_data=val_ds,\n",
        "    epochs=epochs,\n",
        "    class_weight=class_weight,\n",
        "    callbacks = [\n",
        "        tfk.callbacks.EarlyStopping(monitor='val_accuracy', mode='max', patience=8, restore_best_weights=True),\n",
        "        tfk.callbacks.ReduceLROnPlateau(monitor='val_accuracy', mode='max', patience=3, factor=0.5, min_lr=1e-6)\n",
        "    ]).history"
      ],
      "metadata": {
        "colab": {
          "base_uri": "https://localhost:8080/"
        },
        "id": "jb54axct4svz",
        "outputId": "98238bb7-268f-4c2b-c476-ec73b4982547",
        "pycharm": {
          "name": "#%%\n"
        },
        "execution": {
          "iopub.status.busy": "2023-01-23T12:53:39.770412Z",
          "iopub.execute_input": "2023-01-23T12:53:39.770921Z",
          "iopub.status.idle": "2023-01-23T17:32:03.232439Z",
          "shell.execute_reply.started": "2023-01-23T12:53:39.770871Z",
          "shell.execute_reply": "2023-01-23T17:32:03.231247Z"
        },
        "trusted": true
      },
      "execution_count": null,
      "outputs": [
        {
          "name": "stdout",
          "text": "Epoch 1/200\n",
          "output_type": "stream"
        },
        {
          "name": "stderr",
          "text": "2023-01-23 12:53:58.362274: W tensorflow/core/framework/cpu_allocator_impl.cc:82] Allocation of 71794992 exceeds 10% of free system memory.\n2023-01-23 12:54:02.690509: W tensorflow/core/framework/cpu_allocator_impl.cc:82] Allocation of 71794992 exceeds 10% of free system memory.\n2023-01-23 12:54:02.881539: W tensorflow/stream_executor/gpu/asm_compiler.cc:111] *** WARNING *** You are using ptxas 11.0.221, which is older than 11.1. ptxas before 11.1 is known to miscompile XLA code, leading to incorrect results or invalid-address errors.\n\nYou may not need to update to CUDA 11.1; cherry-picking the ptxas binary is often sufficient.\n",
          "output_type": "stream"
        },
        {
          "name": "stdout",
          "text": " 51/687 [=>............................] - ETA: 4:56 - loss: 1.0561 - accuracy: 0.4645",
          "output_type": "stream"
        },
        {
          "name": "stderr",
          "text": "2023-01-23 12:54:30.421541: W tensorflow/core/framework/cpu_allocator_impl.cc:82] Allocation of 71794992 exceeds 10% of free system memory.\n",
          "output_type": "stream"
        },
        {
          "name": "stdout",
          "text": " 55/687 [=>............................] - ETA: 4:55 - loss: 1.0712 - accuracy: 0.4602",
          "output_type": "stream"
        },
        {
          "name": "stderr",
          "text": "2023-01-23 12:54:32.298875: W tensorflow/core/framework/cpu_allocator_impl.cc:82] Allocation of 71794992 exceeds 10% of free system memory.\n",
          "output_type": "stream"
        },
        {
          "name": "stdout",
          "text": "100/687 [===>..........................] - ETA: 4:30 - loss: 1.0022 - accuracy: 0.4569",
          "output_type": "stream"
        },
        {
          "name": "stderr",
          "text": "2023-01-23 12:54:52.741362: W tensorflow/core/framework/cpu_allocator_impl.cc:82] Allocation of 71794992 exceeds 10% of free system memory.\n",
          "output_type": "stream"
        },
        {
          "name": "stdout",
          "text": "687/687 [==============================] - 392s 532ms/step - loss: 0.8551 - accuracy: 0.5336 - val_loss: 0.8404 - val_accuracy: 0.4033 - lr: 0.0010\nEpoch 2/200\n687/687 [==============================] - 356s 515ms/step - loss: 0.7267 - accuracy: 0.5925 - val_loss: 0.5839 - val_accuracy: 0.7342 - lr: 0.0010\nEpoch 3/200\n687/687 [==============================] - 368s 534ms/step - loss: 0.6681 - accuracy: 0.6644 - val_loss: 0.7442 - val_accuracy: 0.5287 - lr: 0.0010\nEpoch 4/200\n687/687 [==============================] - 369s 535ms/step - loss: 0.6199 - accuracy: 0.6864 - val_loss: 0.4070 - val_accuracy: 0.8086 - lr: 0.0010\nEpoch 5/200\n687/687 [==============================] - 352s 510ms/step - loss: 0.5736 - accuracy: 0.7354 - val_loss: 0.4131 - val_accuracy: 0.8295 - lr: 0.0010\nEpoch 6/200\n687/687 [==============================] - 351s 508ms/step - loss: 0.5489 - accuracy: 0.7439 - val_loss: 0.6250 - val_accuracy: 0.7459 - lr: 0.0010\nEpoch 7/200\n687/687 [==============================] - 350s 507ms/step - loss: 0.5263 - accuracy: 0.7434 - val_loss: 0.3226 - val_accuracy: 0.8850 - lr: 0.0010\nEpoch 8/200\n687/687 [==============================] - 368s 534ms/step - loss: 0.5315 - accuracy: 0.7495 - val_loss: 0.4725 - val_accuracy: 0.7684 - lr: 0.0010\nEpoch 9/200\n687/687 [==============================] - 372s 539ms/step - loss: 0.5020 - accuracy: 0.7686 - val_loss: 0.4522 - val_accuracy: 0.8118 - lr: 0.0010\nEpoch 10/200\n687/687 [==============================] - 357s 518ms/step - loss: 0.4828 - accuracy: 0.7849 - val_loss: 0.3350 - val_accuracy: 0.8597 - lr: 0.0010\nEpoch 11/200\n687/687 [==============================] - 375s 545ms/step - loss: 0.3829 - accuracy: 0.8367 - val_loss: 0.2996 - val_accuracy: 0.8790 - lr: 5.0000e-04\nEpoch 12/200\n687/687 [==============================] - 351s 509ms/step - loss: 0.3671 - accuracy: 0.8492 - val_loss: 0.2806 - val_accuracy: 0.8693 - lr: 5.0000e-04\nEpoch 13/200\n687/687 [==============================] - 350s 508ms/step - loss: 0.3613 - accuracy: 0.8447 - val_loss: 0.2448 - val_accuracy: 0.8822 - lr: 5.0000e-04\nEpoch 14/200\n687/687 [==============================] - 349s 506ms/step - loss: 0.3148 - accuracy: 0.8639 - val_loss: 0.2033 - val_accuracy: 0.9176 - lr: 2.5000e-04\nEpoch 15/200\n687/687 [==============================] - 351s 508ms/step - loss: 0.2848 - accuracy: 0.8731 - val_loss: 0.2056 - val_accuracy: 0.9099 - lr: 2.5000e-04\nEpoch 16/200\n687/687 [==============================] - 351s 509ms/step - loss: 0.2904 - accuracy: 0.8735 - val_loss: 0.1848 - val_accuracy: 0.9184 - lr: 2.5000e-04\nEpoch 17/200\n687/687 [==============================] - 369s 536ms/step - loss: 0.2688 - accuracy: 0.8782 - val_loss: 0.1628 - val_accuracy: 0.9341 - lr: 2.5000e-04\nEpoch 18/200\n687/687 [==============================] - 367s 533ms/step - loss: 0.2715 - accuracy: 0.8832 - val_loss: 0.1757 - val_accuracy: 0.9236 - lr: 2.5000e-04\nEpoch 19/200\n687/687 [==============================] - 354s 513ms/step - loss: 0.2593 - accuracy: 0.8906 - val_loss: 0.1751 - val_accuracy: 0.9316 - lr: 2.5000e-04\nEpoch 20/200\n687/687 [==============================] - 373s 541ms/step - loss: 0.2673 - accuracy: 0.8871 - val_loss: 0.1802 - val_accuracy: 0.9264 - lr: 2.5000e-04\nEpoch 21/200\n687/687 [==============================] - 356s 517ms/step - loss: 0.2602 - accuracy: 0.8944 - val_loss: 0.1623 - val_accuracy: 0.9280 - lr: 1.2500e-04\nEpoch 22/200\n687/687 [==============================] - 349s 506ms/step - loss: 0.2367 - accuracy: 0.8922 - val_loss: 0.1677 - val_accuracy: 0.9284 - lr: 1.2500e-04\nEpoch 23/200\n687/687 [==============================] - 350s 508ms/step - loss: 0.2311 - accuracy: 0.9007 - val_loss: 0.1917 - val_accuracy: 0.9192 - lr: 1.2500e-04\nEpoch 24/200\n687/687 [==============================] - 367s 533ms/step - loss: 0.2230 - accuracy: 0.9025 - val_loss: 0.1673 - val_accuracy: 0.9296 - lr: 6.2500e-05\nEpoch 25/200\n687/687 [==============================] - 350s 507ms/step - loss: 0.2155 - accuracy: 0.9068 - val_loss: 0.1483 - val_accuracy: 0.9409 - lr: 6.2500e-05\nEpoch 26/200\n687/687 [==============================] - 367s 533ms/step - loss: 0.2262 - accuracy: 0.9050 - val_loss: 0.1488 - val_accuracy: 0.9377 - lr: 6.2500e-05\nEpoch 27/200\n687/687 [==============================] - 350s 508ms/step - loss: 0.2113 - accuracy: 0.9080 - val_loss: 0.1472 - val_accuracy: 0.9397 - lr: 6.2500e-05\nEpoch 28/200\n687/687 [==============================] - 350s 507ms/step - loss: 0.2070 - accuracy: 0.9137 - val_loss: 0.1420 - val_accuracy: 0.9401 - lr: 6.2500e-05\nEpoch 29/200\n687/687 [==============================] - 355s 516ms/step - loss: 0.2000 - accuracy: 0.9144 - val_loss: 0.1424 - val_accuracy: 0.9405 - lr: 3.1250e-05\nEpoch 30/200\n687/687 [==============================] - 355s 515ms/step - loss: 0.2010 - accuracy: 0.9143 - val_loss: 0.1398 - val_accuracy: 0.9417 - lr: 3.1250e-05\nEpoch 31/200\n687/687 [==============================] - 372s 539ms/step - loss: 0.2053 - accuracy: 0.9125 - val_loss: 0.1457 - val_accuracy: 0.9381 - lr: 3.1250e-05\nEpoch 32/200\n687/687 [==============================] - 349s 506ms/step - loss: 0.2000 - accuracy: 0.9103 - val_loss: 0.1433 - val_accuracy: 0.9397 - lr: 3.1250e-05\nEpoch 33/200\n687/687 [==============================] - 349s 506ms/step - loss: 0.1884 - accuracy: 0.9204 - val_loss: 0.1413 - val_accuracy: 0.9441 - lr: 3.1250e-05\nEpoch 34/200\n687/687 [==============================] - 368s 534ms/step - loss: 0.1982 - accuracy: 0.9156 - val_loss: 0.1357 - val_accuracy: 0.9445 - lr: 3.1250e-05\nEpoch 35/200\n687/687 [==============================] - 349s 506ms/step - loss: 0.1963 - accuracy: 0.9155 - val_loss: 0.1460 - val_accuracy: 0.9389 - lr: 3.1250e-05\nEpoch 36/200\n687/687 [==============================] - 368s 534ms/step - loss: 0.1989 - accuracy: 0.9164 - val_loss: 0.1436 - val_accuracy: 0.9389 - lr: 3.1250e-05\nEpoch 37/200\n687/687 [==============================] - 351s 508ms/step - loss: 0.1978 - accuracy: 0.9166 - val_loss: 0.1261 - val_accuracy: 0.9538 - lr: 3.1250e-05\nEpoch 38/200\n687/687 [==============================] - 352s 510ms/step - loss: 0.1907 - accuracy: 0.9158 - val_loss: 0.1303 - val_accuracy: 0.9473 - lr: 3.1250e-05\nEpoch 39/200\n687/687 [==============================] - 373s 541ms/step - loss: 0.2007 - accuracy: 0.9144 - val_loss: 0.1304 - val_accuracy: 0.9481 - lr: 3.1250e-05\nEpoch 40/200\n687/687 [==============================] - 355s 513ms/step - loss: 0.1897 - accuracy: 0.9189 - val_loss: 0.1427 - val_accuracy: 0.9405 - lr: 3.1250e-05\nEpoch 41/200\n687/687 [==============================] - 352s 511ms/step - loss: 0.1931 - accuracy: 0.9152 - val_loss: 0.1280 - val_accuracy: 0.9481 - lr: 1.5625e-05\nEpoch 42/200\n687/687 [==============================] - 350s 508ms/step - loss: 0.1978 - accuracy: 0.9134 - val_loss: 0.1315 - val_accuracy: 0.9445 - lr: 1.5625e-05\nEpoch 43/200\n687/687 [==============================] - 350s 508ms/step - loss: 0.1919 - accuracy: 0.9155 - val_loss: 0.1373 - val_accuracy: 0.9413 - lr: 1.5625e-05\nEpoch 44/200\n687/687 [==============================] - 349s 506ms/step - loss: 0.1875 - accuracy: 0.9168 - val_loss: 0.1292 - val_accuracy: 0.9465 - lr: 7.8125e-06\nEpoch 45/200\n687/687 [==============================] - 353s 512ms/step - loss: 0.1924 - accuracy: 0.9155 - val_loss: 0.1260 - val_accuracy: 0.9489 - lr: 7.8125e-06\n",
          "output_type": "stream"
        }
      ]
    },
    {
      "cell_type": "code",
      "source": [
        "import matplotlib.pyplot as plt\n",
        "\n",
        "# plot the trend of the MSE of the training set (always decreasing of course) and of the validation set\n",
        "plt.figure(figsize=(15,5))\n",
        "plt.plot(history['accuracy'], label='Training', alpha=.8, color='#ff7f0e')\n",
        "plt.plot(history['val_accuracy'], label='Validation', alpha=.8, color='#4D61E2')\n",
        "plt.ylim(0, 1)\n",
        "plt.title('Accuracy')\n",
        "plt.legend(loc='upper right')\n",
        "plt.grid(alpha=.3)\n",
        "plt.show()"
      ],
      "metadata": {
        "id": "MxuCBftc74dm",
        "execution": {
          "iopub.status.busy": "2023-01-23T17:32:03.233931Z",
          "iopub.execute_input": "2023-01-23T17:32:03.234276Z",
          "iopub.status.idle": "2023-01-23T17:32:32.507611Z",
          "shell.execute_reply.started": "2023-01-23T17:32:03.234244Z",
          "shell.execute_reply": "2023-01-23T17:32:32.506654Z"
        },
        "trusted": true,
        "outputId": "d46b4324-59df-4c2f-eba2-a1ad4d9102c0"
      },
      "execution_count": null,
      "outputs": [
        {
          "output_type": "display_data",
          "data": {
            "text/plain": "<Figure size 1080x360 with 1 Axes>",
            "image/png": "[encoded data removed]"
          },
          "metadata": {
            "needs_background": "light"
          }
        }
      ]
    },
    {
      "cell_type": "code",
      "source": [
        "import matplotlib.pyplot as plt\n",
        "\n",
        "# plot the trend of the MSE of the training set (always decreasing of course) and of the validation set\n",
        "plt.figure(figsize=(15,5))\n",
        "plt.plot(history['loss'], label='Training', alpha=.8, color='#ff7f0e')\n",
        "plt.plot(history['val_loss'], label='Validation', alpha=.8, color='#4D61E2')\n",
        "plt.ylim(0, 1)\n",
        "plt.title('Loss')\n",
        "plt.legend(loc='upper right')\n",
        "plt.grid(alpha=.3)\n",
        "plt.show()"
      ],
      "metadata": {
        "execution": {
          "iopub.status.busy": "2023-01-23T17:32:32.508972Z",
          "iopub.execute_input": "2023-01-23T17:32:32.509959Z",
          "iopub.status.idle": "2023-01-23T17:32:32.720325Z",
          "shell.execute_reply.started": "2023-01-23T17:32:32.509918Z",
          "shell.execute_reply": "2023-01-23T17:32:32.719363Z"
        },
        "trusted": true,
        "id": "tmpL5yFbNX7H",
        "outputId": "6bb7dd06-3028-40fd-f623-bf37cbb33067"
      },
      "execution_count": null,
      "outputs": [
        {
          "output_type": "display_data",
          "data": {
            "text/plain": "<Figure size 1080x360 with 1 Axes>",
            "image/png": "[encoded data removed]"
          },
          "metadata": {
            "needs_background": "light"
          }
        }
      ]
    },
    {
      "cell_type": "code",
      "source": [
        "loss, acc = model.evaluate(test_ds)\n",
        "print(\"Accuracy\", acc)\n",
        "print(\"Loss\", loss)"
      ],
      "metadata": {
        "id": "BTRc0Iw04uVa",
        "pycharm": {
          "name": "#%%\n"
        },
        "execution": {
          "iopub.status.busy": "2023-01-23T17:32:32.721941Z",
          "iopub.execute_input": "2023-01-23T17:32:32.722300Z",
          "iopub.status.idle": "2023-01-23T17:33:13.736691Z",
          "shell.execute_reply.started": "2023-01-23T17:32:32.722262Z",
          "shell.execute_reply": "2023-01-23T17:33:13.735645Z"
        },
        "trusted": true,
        "outputId": "d9b65fa0-3e38-40d7-c7b6-70a1d30b1e89"
      },
      "execution_count": null,
      "outputs": [
        {
          "name": "stdout",
          "text": "125/125 [==============================] - 26s 208ms/step - loss: 0.1321 - accuracy: 0.9518\nAccuracy 0.9517830014228821\nLoss 0.13207225501537323\n",
          "output_type": "stream"
        }
      ]
    },
    {
      "cell_type": "code",
      "source": [
        "# Compute the prediction on the test data\n",
        "predictions = model.predict(test_ds)\n",
        "y_predicted = tf.argmax(predictions, axis=-1)"
      ],
      "metadata": {
        "id": "V_638aLIGUN3",
        "colab": {
          "base_uri": "https://localhost:8080/"
        },
        "outputId": "ef02cd6e-4149-4adb-f1e6-ce58c00b4353",
        "execution": {
          "iopub.status.busy": "2023-01-23T17:33:13.742548Z",
          "iopub.execute_input": "2023-01-23T17:33:13.742856Z",
          "iopub.status.idle": "2023-01-23T17:33:34.416175Z",
          "shell.execute_reply.started": "2023-01-23T17:33:13.742828Z",
          "shell.execute_reply": "2023-01-23T17:33:34.414907Z"
        },
        "trusted": true
      },
      "execution_count": null,
      "outputs": [
        {
          "name": "stdout",
          "text": "125/125 [==============================] - 21s 150ms/step\n",
          "output_type": "stream"
        }
      ]
    },
    {
      "cell_type": "code",
      "source": [
        "# Take all the true labels and save them in an array\n",
        "y_true =  np.array([])\n",
        "count = 0\n",
        "for x, y in test_ds:\n",
        "    count += 1\n",
        "    y_true = np.concatenate([y_true, np.argmax(y, axis=-1)])\n",
        "\n",
        "print(\"There are {} images in the test set\".format(count))"
      ],
      "metadata": {
        "id": "y5ZyKa7_GWtR",
        "colab": {
          "base_uri": "https://localhost:8080/"
        },
        "outputId": "4f5d3a07-9af4-456e-c803-35a0f8ac81bc",
        "execution": {
          "iopub.status.busy": "2023-01-23T17:33:34.417999Z",
          "iopub.execute_input": "2023-01-23T17:33:34.418623Z",
          "iopub.status.idle": "2023-01-23T17:33:48.552980Z",
          "shell.execute_reply.started": "2023-01-23T17:33:34.418584Z",
          "shell.execute_reply": "2023-01-23T17:33:48.551983Z"
        },
        "trusted": true
      },
      "execution_count": null,
      "outputs": [
        {
          "name": "stdout",
          "text": "There are 125 images in the test set\n",
          "output_type": "stream"
        }
      ]
    },
    {
      "cell_type": "code",
      "source": [
        "from sklearn.metrics import accuracy_score, f1_score, precision_score, recall_score\n",
        "from sklearn.metrics import confusion_matrix\n",
        "import seaborn as sns\n",
        "import matplotlib.pyplot as plt\n",
        "\n",
        "# Compute the confusion matrix\n",
        "cm = confusion_matrix(y_true, y_predicted)\n",
        "\n",
        "# Compute the classification metrics\n",
        "accuracy = accuracy_score(y_true, y_predicted)\n",
        "precision = precision_score(y_true, y_predicted, average='macro')\n",
        "recall = recall_score(y_true, y_predicted, average='macro')\n",
        "f1 = f1_score(y_true, y_predicted, average='macro')\n",
        "print('Accuracy:',accuracy.round(4))\n",
        "print('Precision:',precision.round(4))\n",
        "print('Recall:',recall.round(4))\n",
        "print('F1:',f1.round(4))\n",
        "\n",
        "# Plot the confusion matrix\n",
        "plt.figure(figsize=(10,8))\n",
        "sns.heatmap(cm.T, xticklabels=class_names, yticklabels=class_names, annot=True, fmt=\".1f\", cmap=\"Blues\")\n",
        "plt.xlabel('True labels')\n",
        "plt.ylabel('Predicted labels')\n",
        "plt.show()"
      ],
      "metadata": {
        "id": "SAG536mTGZ5B",
        "colab": {
          "base_uri": "https://localhost:8080/",
          "height": 566
        },
        "outputId": "cf75ab83-260a-400e-f826-f25de53577a5",
        "execution": {
          "iopub.status.busy": "2023-01-23T17:33:48.554470Z",
          "iopub.execute_input": "2023-01-23T17:33:48.554857Z",
          "iopub.status.idle": "2023-01-23T17:33:49.422459Z",
          "shell.execute_reply.started": "2023-01-23T17:33:48.554819Z",
          "shell.execute_reply": "2023-01-23T17:33:49.421565Z"
        },
        "trusted": true
      },
      "execution_count": null,
      "outputs": [
        {
          "name": "stdout",
          "text": "Accuracy: 0.9518\nPrecision: 0.9319\nRecall: 0.9328\nF1: 0.9324\n",
          "output_type": "stream"
        },
        {
          "output_type": "display_data",
          "data": {
            "text/plain": "<Figure size 720x576 with 2 Axes>",
            "image/png": "[encoded data removed]"
          },
          "metadata": {
            "needs_background": "light"
          }
        }
      ]
    },
    {
      "cell_type": "code",
      "source": [
        "if kaggle:\n",
        "    %cd working\n",
        "    %ls\n",
        "    model.save(\"EfficientnetModel\")\n",
        "    !zip -r EfficientnetModel.zip /kaggle/working/EfficientnetModel\n",
        "else:\n",
        "    model.save(\"EfficientnetModel\")"
      ],
      "metadata": {
        "id": "XQqzi5tYFEZO",
        "execution": {
          "iopub.status.busy": "2023-01-23T17:34:08.192982Z",
          "iopub.execute_input": "2023-01-23T17:34:08.193346Z",
          "iopub.status.idle": "2023-01-23T17:35:22.376033Z",
          "shell.execute_reply.started": "2023-01-23T17:34:08.193308Z",
          "shell.execute_reply": "2023-01-23T17:35:22.370799Z"
        },
        "trusted": true
      },
      "execution_count": null,
      "outputs": []
    },
    {
      "cell_type": "code",
      "source": [],
      "metadata": {
        "id": "6EcoB-XYuiLn"
      },
      "execution_count": null,
      "outputs": []
    }
  ]
}