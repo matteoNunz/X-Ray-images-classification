{
  "cells": [
    {
      "cell_type": "markdown",
      "id": "0cc28717",
      "metadata": {
        "id": "0cc28717",
        "papermill": {
          "duration": 0.008417,
          "end_time": "2023-01-19T08:31:56.719872",
          "exception": false,
          "start_time": "2023-01-19T08:31:56.711455",
          "status": "completed"
        },
        "tags": []
      },
      "source": [
        "## Importing packages"
      ]
    },
    {
      "cell_type": "code",
      "execution_count": null,
      "id": "8a3466be",
      "metadata": {
        "execution": {
          "iopub.execute_input": "2023-01-19T08:31:56.737413Z",
          "iopub.status.busy": "2023-01-19T08:31:56.736014Z",
          "iopub.status.idle": "2023-01-19T08:33:24.134978Z",
          "shell.execute_reply": "2023-01-19T08:33:24.133728Z"
        },
        "papermill": {
          "duration": 87.410373,
          "end_time": "2023-01-19T08:33:24.137749",
          "exception": false,
          "start_time": "2023-01-19T08:31:56.727376",
          "status": "completed"
        },
        "tags": [],
        "id": "8a3466be"
      },
      "outputs": [],
      "source": [
        "!pip install tensorflow --upgrade --quiet"
      ]
    },
    {
      "cell_type": "code",
      "execution_count": null,
      "id": "e05e74df",
      "metadata": {
        "execution": {
          "iopub.execute_input": "2023-01-19T08:33:24.155077Z",
          "iopub.status.busy": "2023-01-19T08:33:24.154147Z",
          "iopub.status.idle": "2023-01-19T08:34:27.935929Z",
          "shell.execute_reply": "2023-01-19T08:34:27.934787Z"
        },
        "papermill": {
          "duration": 63.793096,
          "end_time": "2023-01-19T08:34:27.938464",
          "exception": false,
          "start_time": "2023-01-19T08:33:24.145368",
          "status": "completed"
        },
        "tags": [],
        "id": "e05e74df"
      },
      "outputs": [],
      "source": [
        "!yes | apt install --allow-change-held-packages libcudnn8=8.1.0.77-1+cuda11.2"
      ]
    },
    {
      "cell_type": "code",
      "execution_count": null,
      "id": "d8db7d74",
      "metadata": {
        "execution": {
          "iopub.execute_input": "2023-01-19T08:34:27.960393Z",
          "iopub.status.busy": "2023-01-19T08:34:27.960054Z",
          "iopub.status.idle": "2023-01-19T08:34:35.307036Z",
          "shell.execute_reply": "2023-01-19T08:34:35.306100Z"
        },
        "id": "d8db7d74",
        "papermill": {
          "duration": 7.361047,
          "end_time": "2023-01-19T08:34:35.309746",
          "exception": false,
          "start_time": "2023-01-19T08:34:27.948699",
          "status": "completed"
        },
        "tags": [],
        "outputId": "01e967c8-6d23-4880-9088-4e419d7cfceb"
      },
      "outputs": [
        {
          "name": "stderr",
          "output_type": "stream",
          "text": [
            "2023-01-19 08:34:27.977352: I tensorflow/core/platform/cpu_feature_guard.cc:193] This TensorFlow binary is optimized with oneAPI Deep Neural Network Library (oneDNN) to use the following CPU instructions in performance-critical operations:  AVX2 AVX512F FMA\n",
            "To enable them in other operations, rebuild TensorFlow with the appropriate compiler flags.\n",
            "2023-01-19 08:34:29.701969: W tensorflow/compiler/xla/stream_executor/platform/default/dso_loader.cc:64] Could not load dynamic library 'libnvinfer.so.7'; dlerror: libnvinfer.so.7: cannot open shared object file: No such file or directory; LD_LIBRARY_PATH: /usr/local/cuda/lib64:/usr/local/cuda/lib:/usr/local/lib/x86_64-linux-gnu:/usr/local/nvidia/lib:/usr/local/nvidia/lib64:/usr/local/cuda/lib64:/usr/local/cuda/lib:/usr/local/lib/x86_64-linux-gnu:/usr/local/nvidia/lib:/usr/local/nvidia/lib64:/usr/local/nvidia/lib:/usr/local/nvidia/lib64\n",
            "2023-01-19 08:34:29.702200: W tensorflow/compiler/xla/stream_executor/platform/default/dso_loader.cc:64] Could not load dynamic library 'libnvinfer_plugin.so.7'; dlerror: libnvinfer_plugin.so.7: cannot open shared object file: No such file or directory; LD_LIBRARY_PATH: /usr/local/cuda/lib64:/usr/local/cuda/lib:/usr/local/lib/x86_64-linux-gnu:/usr/local/nvidia/lib:/usr/local/nvidia/lib64:/usr/local/cuda/lib64:/usr/local/cuda/lib:/usr/local/lib/x86_64-linux-gnu:/usr/local/nvidia/lib:/usr/local/nvidia/lib64:/usr/local/nvidia/lib:/usr/local/nvidia/lib64\n",
            "2023-01-19 08:34:29.702215: W tensorflow/compiler/tf2tensorrt/utils/py_utils.cc:38] TF-TRT Warning: Cannot dlopen some TensorRT libraries. If you would like to use Nvidia GPU with TensorRT, please make sure the missing libraries mentioned above are installed properly.\n"
          ]
        }
      ],
      "source": [
        "import tensorflow as tf\n",
        "import numpy as np\n",
        "import os\n",
        "import shutil \n",
        "import random\n",
        "import pandas as pd\n",
        "import seaborn as sns\n",
        "import matplotlib as mpl\n",
        "import matplotlib.pyplot as plt\n",
        "from sklearn.model_selection import train_test_split\n",
        "from sklearn.metrics import accuracy_score, f1_score, precision_score, recall_score\n",
        "from sklearn.metrics import confusion_matrix\n",
        "from PIL import Image\n",
        "from zipfile import ZipFile, error\n",
        "from tqdm import tqdm\n",
        "from pathlib import Path\n",
        "import math\n",
        "\n",
        "tfk = tf.keras\n",
        "tfkl = tf.keras.layers"
      ]
    },
    {
      "cell_type": "code",
      "execution_count": null,
      "id": "bbdaab7b",
      "metadata": {
        "execution": {
          "iopub.execute_input": "2023-01-19T08:34:35.332216Z",
          "iopub.status.busy": "2023-01-19T08:34:35.330937Z",
          "iopub.status.idle": "2023-01-19T08:34:35.337383Z",
          "shell.execute_reply": "2023-01-19T08:34:35.336419Z"
        },
        "id": "bbdaab7b",
        "papermill": {
          "duration": 0.01962,
          "end_time": "2023-01-19T08:34:35.339804",
          "exception": false,
          "start_time": "2023-01-19T08:34:35.320184",
          "status": "completed"
        },
        "tags": []
      },
      "outputs": [],
      "source": [
        "# Random seed for reproducibility\n",
        "seed = 42\n",
        "\n",
        "random.seed(seed)\n",
        "os.environ['PYTHONHASHSEED'] = str(seed)\n",
        "np.random.seed(seed)\n",
        "tf.random.set_seed(seed)\n",
        "tf.compat.v1.set_random_seed(seed)"
      ]
    },
    {
      "cell_type": "code",
      "execution_count": null,
      "id": "ce1da0ef",
      "metadata": {
        "execution": {
          "iopub.execute_input": "2023-01-19T08:34:35.360958Z",
          "iopub.status.busy": "2023-01-19T08:34:35.360637Z",
          "iopub.status.idle": "2023-01-19T08:34:35.368376Z",
          "shell.execute_reply": "2023-01-19T08:34:35.367466Z"
        },
        "id": "ce1da0ef",
        "papermill": {
          "duration": 0.020724,
          "end_time": "2023-01-19T08:34:35.370367",
          "exception": false,
          "start_time": "2023-01-19T08:34:35.349643",
          "status": "completed"
        },
        "tags": []
      },
      "outputs": [],
      "source": [
        "import warnings\n",
        "import logging\n",
        "\n",
        "os.environ['TF_CPP_MIN_LOG_LEVEL'] = '2'\n",
        "warnings.simplefilter(action='ignore', category=FutureWarning)\n",
        "warnings.simplefilter(action='ignore', category=Warning)\n",
        "tf.get_logger().setLevel('INFO')\n",
        "tf.autograph.set_verbosity(0)\n",
        "\n",
        "tf.get_logger().setLevel(logging.ERROR)\n",
        "tf.get_logger().setLevel('ERROR')\n",
        "tf.compat.v1.logging.set_verbosity(tf.compat.v1.logging.ERROR)"
      ]
    },
    {
      "cell_type": "code",
      "execution_count": null,
      "id": "41cb832a",
      "metadata": {
        "execution": {
          "iopub.execute_input": "2023-01-19T08:34:35.392206Z",
          "iopub.status.busy": "2023-01-19T08:34:35.390750Z",
          "iopub.status.idle": "2023-01-19T08:34:35.396082Z",
          "shell.execute_reply": "2023-01-19T08:34:35.395225Z"
        },
        "id": "41cb832a",
        "papermill": {
          "duration": 0.01807,
          "end_time": "2023-01-19T08:34:35.398133",
          "exception": false,
          "start_time": "2023-01-19T08:34:35.380063",
          "status": "completed"
        },
        "tags": []
      },
      "outputs": [],
      "source": [
        "# Dataset folders \n",
        "dataset_dir = '/kaggle/input/biomedicine-data-splitted-patient/data_splitted_patient'\n",
        "training_dir = os.path.join(dataset_dir, 'train')\n",
        "validation_dir = os.path.join(dataset_dir, 'val')\n",
        "test_dir = os.path.join(dataset_dir, 'test')"
      ]
    },
    {
      "cell_type": "markdown",
      "id": "cf49acbd",
      "metadata": {
        "id": "cf49acbd",
        "papermill": {
          "duration": 0.009701,
          "end_time": "2023-01-19T08:34:35.417655",
          "exception": false,
          "start_time": "2023-01-19T08:34:35.407954",
          "status": "completed"
        },
        "tags": []
      },
      "source": [
        "## Prefetch"
      ]
    },
    {
      "cell_type": "code",
      "execution_count": null,
      "id": "0ebfd56a",
      "metadata": {
        "execution": {
          "iopub.execute_input": "2023-01-19T08:34:35.438459Z",
          "iopub.status.busy": "2023-01-19T08:34:35.437628Z",
          "iopub.status.idle": "2023-01-19T08:34:35.442030Z",
          "shell.execute_reply": "2023-01-19T08:34:35.441178Z"
        },
        "id": "0ebfd56a",
        "papermill": {
          "duration": 0.016724,
          "end_time": "2023-01-19T08:34:35.443996",
          "exception": false,
          "start_time": "2023-01-19T08:34:35.427272",
          "status": "completed"
        },
        "tags": []
      },
      "outputs": [],
      "source": [
        "image_size = 400\n",
        "batch_size_data = 8"
      ]
    },
    {
      "cell_type": "code",
      "execution_count": null,
      "id": "61b7882a",
      "metadata": {
        "execution": {
          "iopub.execute_input": "2023-01-19T08:34:35.465135Z",
          "iopub.status.busy": "2023-01-19T08:34:35.464297Z",
          "iopub.status.idle": "2023-01-19T08:34:54.230093Z",
          "shell.execute_reply": "2023-01-19T08:34:54.228965Z"
        },
        "id": "61b7882a",
        "outputId": "98296dcd-9c87-4c40-bb8b-6e86cd0b6696",
        "papermill": {
          "duration": 18.779451,
          "end_time": "2023-01-19T08:34:54.232953",
          "exception": false,
          "start_time": "2023-01-19T08:34:35.453502",
          "status": "completed"
        },
        "tags": []
      },
      "outputs": [
        {
          "name": "stdout",
          "output_type": "stream",
          "text": [
            "Found 10992 files belonging to 3 classes.\n"
          ]
        }
      ],
      "source": [
        "train_gen = tf.keras.utils.image_dataset_from_directory(\n",
        "    training_dir,\n",
        "    validation_split=0.0,\n",
        "    shuffle=True,\n",
        "    seed=seed,\n",
        "    image_size=(image_size, image_size),\n",
        "    batch_size=batch_size_data)"
      ]
    },
    {
      "cell_type": "code",
      "execution_count": null,
      "id": "b9aff0b1",
      "metadata": {
        "execution": {
          "iopub.execute_input": "2023-01-19T08:34:54.255326Z",
          "iopub.status.busy": "2023-01-19T08:34:54.255001Z",
          "iopub.status.idle": "2023-01-19T08:34:55.907819Z",
          "shell.execute_reply": "2023-01-19T08:34:55.906521Z"
        },
        "id": "b9aff0b1",
        "outputId": "70667082-09f4-4d62-ebb2-99d910066cfe",
        "papermill": {
          "duration": 1.666793,
          "end_time": "2023-01-19T08:34:55.910369",
          "exception": false,
          "start_time": "2023-01-19T08:34:54.243576",
          "status": "completed"
        },
        "tags": []
      },
      "outputs": [
        {
          "name": "stdout",
          "output_type": "stream",
          "text": [
            "Found 2487 files belonging to 3 classes.\n"
          ]
        }
      ],
      "source": [
        "valid_gen = tf.keras.utils.image_dataset_from_directory(\n",
        "    validation_dir,\n",
        "    validation_split=0.0,\n",
        "    shuffle=False,\n",
        "    seed=seed,\n",
        "    image_size=(image_size, image_size),\n",
        "    batch_size=batch_size_data)"
      ]
    },
    {
      "cell_type": "code",
      "execution_count": null,
      "id": "ed0ba08a",
      "metadata": {
        "execution": {
          "iopub.execute_input": "2023-01-19T08:34:55.933664Z",
          "iopub.status.busy": "2023-01-19T08:34:55.933351Z",
          "iopub.status.idle": "2023-01-19T08:34:56.778814Z",
          "shell.execute_reply": "2023-01-19T08:34:56.776844Z"
        },
        "id": "ed0ba08a",
        "outputId": "512bb9d7-3145-4ec4-f663-f31061f2e498",
        "papermill": {
          "duration": 0.861043,
          "end_time": "2023-01-19T08:34:56.782503",
          "exception": false,
          "start_time": "2023-01-19T08:34:55.921460",
          "status": "completed"
        },
        "tags": []
      },
      "outputs": [
        {
          "name": "stdout",
          "output_type": "stream",
          "text": [
            "Found 1991 files belonging to 3 classes.\n"
          ]
        }
      ],
      "source": [
        "test_gen = tf.keras.utils.image_dataset_from_directory(\n",
        "    test_dir,\n",
        "    validation_split=0.0,\n",
        "    shuffle=False,\n",
        "    seed=seed,\n",
        "    image_size=(image_size, image_size),\n",
        "    batch_size=batch_size_data)"
      ]
    },
    {
      "cell_type": "code",
      "execution_count": null,
      "id": "8f5d37e6",
      "metadata": {
        "execution": {
          "iopub.execute_input": "2023-01-19T08:34:56.807091Z",
          "iopub.status.busy": "2023-01-19T08:34:56.805305Z",
          "iopub.status.idle": "2023-01-19T08:34:56.813420Z",
          "shell.execute_reply": "2023-01-19T08:34:56.812396Z"
        },
        "id": "8f5d37e6",
        "papermill": {
          "duration": 0.021377,
          "end_time": "2023-01-19T08:34:56.815463",
          "exception": false,
          "start_time": "2023-01-19T08:34:56.794086",
          "status": "completed"
        },
        "tags": []
      },
      "outputs": [],
      "source": [
        "AUTOTUNE = tf.data.AUTOTUNE\n",
        "train_gen = train_gen.prefetch(buffer_size=AUTOTUNE)\n",
        "valid_gen = valid_gen.prefetch(buffer_size=AUTOTUNE)\n",
        "test_gen = test_gen.prefetch(buffer_size=AUTOTUNE)"
      ]
    },
    {
      "cell_type": "code",
      "execution_count": null,
      "id": "162c8716",
      "metadata": {
        "execution": {
          "iopub.execute_input": "2023-01-19T08:34:56.842779Z",
          "iopub.status.busy": "2023-01-19T08:34:56.842188Z",
          "iopub.status.idle": "2023-01-19T08:34:56.927176Z",
          "shell.execute_reply": "2023-01-19T08:34:56.926260Z"
        },
        "id": "162c8716",
        "papermill": {
          "duration": 0.101293,
          "end_time": "2023-01-19T08:34:56.929526",
          "exception": false,
          "start_time": "2023-01-19T08:34:56.828233",
          "status": "completed"
        },
        "tags": []
      },
      "outputs": [],
      "source": [
        "# Use one-hot encoding for labels\n",
        "class_names = [\"N\",\"P\",\"T\"]\n",
        "train_gen = train_gen.map(lambda x, y: (x, tf.one_hot(y, depth=len(class_names))))\n",
        "valid_gen = valid_gen.map(lambda x, y: (x, tf.one_hot(y, depth=len(class_names))))\n",
        "test_gen = test_gen.map(lambda x, y: (x, tf.one_hot(y, depth=len(class_names))))"
      ]
    },
    {
      "cell_type": "markdown",
      "id": "b4d24f51",
      "metadata": {
        "papermill": {
          "duration": 0.009588,
          "end_time": "2023-01-19T08:34:56.949861",
          "exception": false,
          "start_time": "2023-01-19T08:34:56.940273",
          "status": "completed"
        },
        "tags": [],
        "id": "b4d24f51"
      },
      "source": [
        "# Weights"
      ]
    },
    {
      "cell_type": "code",
      "execution_count": null,
      "id": "9031c587",
      "metadata": {
        "execution": {
          "iopub.execute_input": "2023-01-19T08:34:56.971620Z",
          "iopub.status.busy": "2023-01-19T08:34:56.971326Z",
          "iopub.status.idle": "2023-01-19T08:34:56.976021Z",
          "shell.execute_reply": "2023-01-19T08:34:56.974897Z"
        },
        "papermill": {
          "duration": 0.018353,
          "end_time": "2023-01-19T08:34:56.978318",
          "exception": false,
          "start_time": "2023-01-19T08:34:56.959965",
          "status": "completed"
        },
        "tags": [],
        "id": "9031c587"
      },
      "outputs": [],
      "source": [
        "class_names = ['N','P','T']\n",
        "class_samples = [0] * len(class_names)"
      ]
    },
    {
      "cell_type": "code",
      "execution_count": null,
      "id": "d4717a9a",
      "metadata": {
        "execution": {
          "iopub.execute_input": "2023-01-19T08:34:56.999493Z",
          "iopub.status.busy": "2023-01-19T08:34:56.999225Z",
          "iopub.status.idle": "2023-01-19T08:34:57.009431Z",
          "shell.execute_reply": "2023-01-19T08:34:57.008561Z"
        },
        "papermill": {
          "duration": 0.023002,
          "end_time": "2023-01-19T08:34:57.011601",
          "exception": false,
          "start_time": "2023-01-19T08:34:56.988599",
          "status": "completed"
        },
        "tags": [],
        "id": "d4717a9a"
      },
      "outputs": [],
      "source": [
        "for i, class_name in enumerate(class_names):\n",
        "    class_dir = '{}/{}/'.format(training_dir, class_name)\n",
        "    class_samples[i] = len(os.listdir(class_dir))"
      ]
    },
    {
      "cell_type": "code",
      "execution_count": null,
      "id": "3349dde2",
      "metadata": {
        "execution": {
          "iopub.execute_input": "2023-01-19T08:34:57.033128Z",
          "iopub.status.busy": "2023-01-19T08:34:57.032810Z",
          "iopub.status.idle": "2023-01-19T08:34:57.038164Z",
          "shell.execute_reply": "2023-01-19T08:34:57.037088Z"
        },
        "papermill": {
          "duration": 0.019068,
          "end_time": "2023-01-19T08:34:57.040583",
          "exception": false,
          "start_time": "2023-01-19T08:34:57.021515",
          "status": "completed"
        },
        "tags": [],
        "id": "3349dde2"
      },
      "outputs": [],
      "source": [
        "total_samples = sum(class_samples)\n",
        "class_weight = list(total_samples / (len(class_names) * np.array(class_samples)))\n",
        "class_weight = {i: class_weight[i] for i in range(len(class_weight))}"
      ]
    },
    {
      "cell_type": "code",
      "execution_count": null,
      "id": "a4b345da",
      "metadata": {
        "execution": {
          "iopub.execute_input": "2023-01-19T08:34:57.063136Z",
          "iopub.status.busy": "2023-01-19T08:34:57.062838Z",
          "iopub.status.idle": "2023-01-19T08:34:57.068818Z",
          "shell.execute_reply": "2023-01-19T08:34:57.067590Z"
        },
        "papermill": {
          "duration": 0.019339,
          "end_time": "2023-01-19T08:34:57.071077",
          "exception": false,
          "start_time": "2023-01-19T08:34:57.051738",
          "status": "completed"
        },
        "tags": [],
        "id": "a4b345da",
        "outputId": "7920d921-a25f-4a84-963c-d8a47f34cab3"
      },
      "outputs": [
        {
          "name": "stdout",
          "output_type": "stream",
          "text": [
            "Class weights: {0: 0.5512261170452836, 1: 1.2112396694214875, 2: 2.775757575757576}\n"
          ]
        }
      ],
      "source": [
        "print('Class weights: {}'.format(class_weight))"
      ]
    },
    {
      "cell_type": "markdown",
      "id": "eda38b4e",
      "metadata": {
        "id": "eda38b4e",
        "papermill": {
          "duration": 0.009955,
          "end_time": "2023-01-19T08:34:57.091411",
          "exception": false,
          "start_time": "2023-01-19T08:34:57.081456",
          "status": "completed"
        },
        "tags": []
      },
      "source": [
        "# Model"
      ]
    },
    {
      "cell_type": "code",
      "execution_count": null,
      "id": "9847ba44",
      "metadata": {
        "execution": {
          "iopub.execute_input": "2023-01-19T08:34:57.113501Z",
          "iopub.status.busy": "2023-01-19T08:34:57.112697Z",
          "iopub.status.idle": "2023-01-19T08:34:57.117630Z",
          "shell.execute_reply": "2023-01-19T08:34:57.116726Z"
        },
        "id": "9847ba44",
        "papermill": {
          "duration": 0.018018,
          "end_time": "2023-01-19T08:34:57.119775",
          "exception": false,
          "start_time": "2023-01-19T08:34:57.101757",
          "status": "completed"
        },
        "tags": []
      },
      "outputs": [],
      "source": [
        "input_shape = (image_size, image_size, 3)\n",
        "epochs = 25\n",
        "batch_size = 256\n",
        "patience = 25"
      ]
    },
    {
      "cell_type": "code",
      "execution_count": null,
      "id": "25494013",
      "metadata": {
        "execution": {
          "iopub.execute_input": "2023-01-19T08:34:57.142315Z",
          "iopub.status.busy": "2023-01-19T08:34:57.141705Z",
          "iopub.status.idle": "2023-01-19T08:34:57.157631Z",
          "shell.execute_reply": "2023-01-19T08:34:57.156698Z"
        },
        "id": "25494013",
        "papermill": {
          "duration": 0.029664,
          "end_time": "2023-01-19T08:34:57.159823",
          "exception": false,
          "start_time": "2023-01-19T08:34:57.130159",
          "status": "completed"
        },
        "tags": []
      },
      "outputs": [],
      "source": [
        "def scratch(input_shape):\n",
        "\n",
        "    input_layer = tfkl.Input(shape=input_shape, name='input_layer') \n",
        "    \n",
        "    # Build the neural network layer by layer      \n",
        "    conv = tfkl.Conv2D(\n",
        "        filters=128,\n",
        "        kernel_size=7,\n",
        "        padding = 'same',\n",
        "        activation = 'relu',\n",
        "        kernel_initializer = tfk.initializers.HeUniform(seed)\n",
        "    )(input_layer)\n",
        "    conv = tfkl.MaxPooling2D()(conv)\n",
        "\n",
        "    \n",
        "    conv = tfkl.Conv2D(\n",
        "        filters=128,\n",
        "        kernel_size=7,\n",
        "        padding = 'same',\n",
        "        activation = 'relu',\n",
        "        kernel_initializer = tfk.initializers.HeUniform(seed)\n",
        "    )(conv)\n",
        "    conv = tfkl.MaxPooling2D()(conv)\n",
        "\n",
        "    \n",
        "    conv = tfkl.Conv2D(\n",
        "        filters=256,\n",
        "        kernel_size=5,\n",
        "        padding = 'same',\n",
        "        activation = 'relu',\n",
        "        kernel_initializer = tfk.initializers.HeUniform(seed)\n",
        "    )(conv)\n",
        "    conv = tfkl.MaxPooling2D()(conv)\n",
        "\n",
        "\n",
        "    conv = tfkl.Conv2D(\n",
        "        filters=256,\n",
        "        kernel_size=5,\n",
        "        padding = 'same',\n",
        "        activation = 'relu',\n",
        "        kernel_initializer = tfk.initializers.HeUniform(seed)\n",
        "    )(conv)\n",
        "    conv = tfkl.MaxPooling2D()(conv)\n",
        "    \n",
        "    dropout = tfkl.Dropout(0.3)(conv)\n",
        "\n",
        "    \n",
        "    conv = tfkl.Conv2D(\n",
        "        filters=512,\n",
        "        kernel_size=3,\n",
        "        padding = 'same',\n",
        "        activation = 'relu',\n",
        "        kernel_initializer = tfk.initializers.HeUniform(seed)\n",
        "    )(dropout)\n",
        "    conv = tfkl.MaxPooling2D()(conv)\n",
        "    \n",
        "    conv = tfkl.Conv2D(\n",
        "        filters=512,\n",
        "        kernel_size=3,\n",
        "        padding = 'same',\n",
        "        activation = 'relu',\n",
        "        kernel_initializer = tfk.initializers.HeUniform(seed)\n",
        "    )(conv)\n",
        "    conv = tfkl.MaxPooling2D()(conv)\n",
        "    \n",
        "    conv = tfkl.Conv2D(\n",
        "        filters=1024,\n",
        "        kernel_size=3,\n",
        "        padding = 'same',\n",
        "        activation = 'relu',\n",
        "        kernel_initializer = tfk.initializers.HeUniform(seed)\n",
        "    )(conv)\n",
        "    conv = tfkl.MaxPooling2D()(conv)\n",
        "    \n",
        "    conv = tfkl.Conv2D(\n",
        "        filters=2048,\n",
        "        kernel_size=3,\n",
        "        padding = 'same',\n",
        "        activation = 'relu',\n",
        "        kernel_initializer = tfk.initializers.HeUniform(seed)\n",
        "    )(conv)\n",
        "    conv = tfkl.MaxPooling2D()(conv)\n",
        "    \n",
        "    dropout = tfkl.Dropout(0.3)(conv)\n",
        "\n",
        "\n",
        "\n",
        "    x = tfkl.GlobalAveragePooling2D(name='gap')(dropout)\n",
        "    classifier_layer = tfkl.Dense(\n",
        "        units=1024, \n",
        "        name='Classifier', \n",
        "        kernel_initializer=tfk.initializers.HeUniform(seed), \n",
        "        kernel_regularizer=tfk.regularizers.L1L2(l1=1e-4, l2=1e-3),\n",
        "        activation='relu')(x)\n",
        "    dropout = tfkl.Dropout(0.3)(classifier_layer)\n",
        "    output_layer = tfkl.Dense(units=3, activation='softmax', kernel_initializer=tfk.initializers.GlorotUniform(seed), name='output_layer')(dropout)\n",
        "\n",
        "    # Connect input and output through the Model class\n",
        "    model = tfk.Model(inputs=input_layer, outputs=output_layer, name='model')\n",
        "\n",
        "    # Compile the model\n",
        "    model.compile(loss=tfk.losses.CategoricalCrossentropy(), optimizer=tfk.optimizers.Adam(0.0001), metrics='accuracy')\n",
        "\n",
        "    # Return the model\n",
        "    return model"
      ]
    },
    {
      "cell_type": "markdown",
      "id": "7e1d9819",
      "metadata": {
        "id": "7e1d9819",
        "papermill": {
          "duration": 0.010608,
          "end_time": "2023-01-19T08:34:57.181159",
          "exception": false,
          "start_time": "2023-01-19T08:34:57.170551",
          "status": "completed"
        },
        "tags": []
      },
      "source": [
        "# Training"
      ]
    },
    {
      "cell_type": "code",
      "execution_count": null,
      "id": "96780eb8",
      "metadata": {
        "execution": {
          "iopub.execute_input": "2023-01-19T08:34:57.203962Z",
          "iopub.status.busy": "2023-01-19T08:34:57.203124Z",
          "iopub.status.idle": "2023-01-19T08:34:57.446189Z",
          "shell.execute_reply": "2023-01-19T08:34:57.445393Z"
        },
        "id": "96780eb8",
        "outputId": "14085ed2-15ab-4e12-e360-6f239ed0917b",
        "papermill": {
          "duration": 0.298863,
          "end_time": "2023-01-19T08:34:57.490518",
          "exception": false,
          "start_time": "2023-01-19T08:34:57.191655",
          "status": "completed"
        },
        "tags": []
      },
      "outputs": [
        {
          "name": "stdout",
          "output_type": "stream",
          "text": [
            "Model: \"model\"\n",
            "_________________________________________________________________\n",
            " Layer (type)                Output Shape              Param #   \n",
            "=================================================================\n",
            " input_layer (InputLayer)    [(None, 400, 400, 3)]     0         \n",
            "                                                                 \n",
            " conv2d (Conv2D)             (None, 400, 400, 128)     18944     \n",
            "                                                                 \n",
            " max_pooling2d (MaxPooling2D  (None, 200, 200, 128)    0         \n",
            " )                                                               \n",
            "                                                                 \n",
            " conv2d_1 (Conv2D)           (None, 200, 200, 128)     802944    \n",
            "                                                                 \n",
            " max_pooling2d_1 (MaxPooling  (None, 100, 100, 128)    0         \n",
            " 2D)                                                             \n",
            "                                                                 \n",
            " conv2d_2 (Conv2D)           (None, 100, 100, 256)     819456    \n",
            "                                                                 \n",
            " max_pooling2d_2 (MaxPooling  (None, 50, 50, 256)      0         \n",
            " 2D)                                                             \n",
            "                                                                 \n",
            " conv2d_3 (Conv2D)           (None, 50, 50, 256)       1638656   \n",
            "                                                                 \n",
            " max_pooling2d_3 (MaxPooling  (None, 25, 25, 256)      0         \n",
            " 2D)                                                             \n",
            "                                                                 \n",
            " dropout (Dropout)           (None, 25, 25, 256)       0         \n",
            "                                                                 \n",
            " conv2d_4 (Conv2D)           (None, 25, 25, 512)       1180160   \n",
            "                                                                 \n",
            " max_pooling2d_4 (MaxPooling  (None, 12, 12, 512)      0         \n",
            " 2D)                                                             \n",
            "                                                                 \n",
            " conv2d_5 (Conv2D)           (None, 12, 12, 512)       2359808   \n",
            "                                                                 \n",
            " max_pooling2d_5 (MaxPooling  (None, 6, 6, 512)        0         \n",
            " 2D)                                                             \n",
            "                                                                 \n",
            " conv2d_6 (Conv2D)           (None, 6, 6, 1024)        4719616   \n",
            "                                                                 \n",
            " max_pooling2d_6 (MaxPooling  (None, 3, 3, 1024)       0         \n",
            " 2D)                                                             \n",
            "                                                                 \n",
            " conv2d_7 (Conv2D)           (None, 3, 3, 2048)        18876416  \n",
            "                                                                 \n",
            " max_pooling2d_7 (MaxPooling  (None, 1, 1, 2048)       0         \n",
            " 2D)                                                             \n",
            "                                                                 \n",
            " dropout_1 (Dropout)         (None, 1, 1, 2048)        0         \n",
            "                                                                 \n",
            " gap (GlobalAveragePooling2D  (None, 2048)             0         \n",
            " )                                                               \n",
            "                                                                 \n",
            " Classifier (Dense)          (None, 1024)              2098176   \n",
            "                                                                 \n",
            " dropout_2 (Dropout)         (None, 1024)              0         \n",
            "                                                                 \n",
            " output_layer (Dense)        (None, 3)                 3075      \n",
            "                                                                 \n",
            "=================================================================\n",
            "Total params: 32,517,251\n",
            "Trainable params: 32,517,251\n",
            "Non-trainable params: 0\n",
            "_________________________________________________________________\n"
          ]
        }
      ],
      "source": [
        "# Build model (for NO augmentation training)\n",
        "SCR = scratch(input_shape)\n",
        "SCR.summary()"
      ]
    },
    {
      "cell_type": "code",
      "execution_count": null,
      "id": "71f9ae9f",
      "metadata": {
        "execution": {
          "iopub.execute_input": "2023-01-19T08:34:57.518991Z",
          "iopub.status.busy": "2023-01-19T08:34:57.518669Z",
          "iopub.status.idle": "2023-01-19T15:49:28.266251Z",
          "shell.execute_reply": "2023-01-19T15:49:28.265085Z"
        },
        "id": "71f9ae9f",
        "outputId": "a2c09b19-1f90-4e95-e7c6-04d37097396a",
        "papermill": {
          "duration": 26070.765012,
          "end_time": "2023-01-19T15:49:28.269079",
          "exception": false,
          "start_time": "2023-01-19T08:34:57.504067",
          "status": "completed"
        },
        "tags": []
      },
      "outputs": [
        {
          "name": "stdout",
          "output_type": "stream",
          "text": [
            "Epoch 1/35\n"
          ]
        },
        {
          "name": "stderr",
          "output_type": "stream",
          "text": [
            "2023-01-19 08:34:59.472837: E tensorflow/core/grappler/optimizers/meta_optimizer.cc:954] layout failed: INVALID_ARGUMENT: Size of values 0 does not match size of permutation 4 @ fanin shape inmodel/dropout/dropout/SelectV2-2-TransposeNHWCToNCHW-LayoutOptimizer\n"
          ]
        },
        {
          "name": "stdout",
          "output_type": "stream",
          "text": [
            "1374/1374 [==============================] - 781s 557ms/step - loss: 15.9077 - accuracy: 0.4934 - val_loss: 7.1928 - val_accuracy: 0.5794\n",
            "Epoch 2/35\n",
            "1374/1374 [==============================] - 765s 556ms/step - loss: 6.9654 - accuracy: 0.5810 - val_loss: 6.6813 - val_accuracy: 0.5891\n",
            "Epoch 3/35\n",
            "1374/1374 [==============================] - 766s 557ms/step - loss: 6.5031 - accuracy: 0.6167 - val_loss: 6.1991 - val_accuracy: 0.6397\n",
            "Epoch 4/35\n",
            "1374/1374 [==============================] - 765s 556ms/step - loss: 5.9447 - accuracy: 0.6665 - val_loss: 5.5790 - val_accuracy: 0.7604\n",
            "Epoch 5/35\n",
            "1374/1374 [==============================] - 760s 552ms/step - loss: 5.3272 - accuracy: 0.7090 - val_loss: 5.0731 - val_accuracy: 0.7141\n",
            "Epoch 6/35\n",
            "1374/1374 [==============================] - 755s 549ms/step - loss: 4.6114 - accuracy: 0.7529 - val_loss: 4.1605 - val_accuracy: 0.8191\n",
            "Epoch 7/35\n",
            "1374/1374 [==============================] - 749s 544ms/step - loss: 3.7972 - accuracy: 0.7959 - val_loss: 3.6750 - val_accuracy: 0.6791\n",
            "Epoch 8/35\n",
            "1374/1374 [==============================] - 747s 543ms/step - loss: 2.9380 - accuracy: 0.8240 - val_loss: 2.5785 - val_accuracy: 0.8215\n",
            "Epoch 9/35\n",
            "1374/1374 [==============================] - 741s 538ms/step - loss: 2.1177 - accuracy: 0.8457 - val_loss: 1.7002 - val_accuracy: 0.8894\n",
            "Epoch 10/35\n",
            "1374/1374 [==============================] - 738s 536ms/step - loss: 1.4158 - accuracy: 0.8639 - val_loss: 1.1970 - val_accuracy: 0.8661\n",
            "Epoch 11/35\n",
            "1374/1374 [==============================] - 738s 537ms/step - loss: 0.9027 - accuracy: 0.8784 - val_loss: 0.7932 - val_accuracy: 0.8741\n",
            "Epoch 12/35\n",
            "1374/1374 [==============================] - 730s 530ms/step - loss: 0.6359 - accuracy: 0.8779 - val_loss: 0.7096 - val_accuracy: 0.8191\n",
            "Epoch 13/35\n",
            "1374/1374 [==============================] - 732s 532ms/step - loss: 0.4403 - accuracy: 0.9037 - val_loss: 0.4830 - val_accuracy: 0.8830\n",
            "Epoch 14/35\n",
            "1374/1374 [==============================] - 732s 532ms/step - loss: 0.3505 - accuracy: 0.9140 - val_loss: 0.4630 - val_accuracy: 0.8697\n",
            "Epoch 15/35\n",
            "1374/1374 [==============================] - 731s 531ms/step - loss: 0.3048 - accuracy: 0.9176 - val_loss: 0.5590 - val_accuracy: 0.8030\n",
            "Epoch 16/35\n",
            "1374/1374 [==============================] - 730s 531ms/step - loss: 0.2670 - accuracy: 0.9272 - val_loss: 0.3457 - val_accuracy: 0.9091\n",
            "Epoch 17/35\n",
            "1374/1374 [==============================] - 731s 531ms/step - loss: 0.2262 - accuracy: 0.9348 - val_loss: 0.2961 - val_accuracy: 0.9184\n",
            "Epoch 18/35\n",
            "1374/1374 [==============================] - 726s 528ms/step - loss: 0.2467 - accuracy: 0.9264 - val_loss: 0.4281 - val_accuracy: 0.8641\n",
            "Epoch 19/35\n",
            "1374/1374 [==============================] - 730s 531ms/step - loss: 0.2174 - accuracy: 0.9382 - val_loss: 0.2826 - val_accuracy: 0.9228\n",
            "Epoch 20/35\n",
            "1374/1374 [==============================] - 729s 530ms/step - loss: 0.2009 - accuracy: 0.9420 - val_loss: 0.3277 - val_accuracy: 0.9063\n",
            "Epoch 21/35\n",
            "1374/1374 [==============================] - 730s 530ms/step - loss: 0.1994 - accuracy: 0.9410 - val_loss: 0.3448 - val_accuracy: 0.8890\n",
            "Epoch 22/35\n",
            "1374/1374 [==============================] - 729s 530ms/step - loss: 0.1643 - accuracy: 0.9514 - val_loss: 0.3320 - val_accuracy: 0.9095\n",
            "Epoch 23/35\n",
            "1374/1374 [==============================] - 727s 528ms/step - loss: 0.1609 - accuracy: 0.9555 - val_loss: 0.2998 - val_accuracy: 0.9244\n",
            "Epoch 24/35\n",
            "1374/1374 [==============================] - 730s 531ms/step - loss: 0.1677 - accuracy: 0.9503 - val_loss: 0.3548 - val_accuracy: 0.9063\n",
            "Epoch 25/35\n",
            "1374/1374 [==============================] - 726s 528ms/step - loss: 0.1522 - accuracy: 0.9544 - val_loss: 0.2665 - val_accuracy: 0.9296\n",
            "Epoch 26/35\n",
            "1374/1374 [==============================] - 729s 530ms/step - loss: 0.1396 - accuracy: 0.9633 - val_loss: 0.2652 - val_accuracy: 0.9300\n",
            "Epoch 27/35\n",
            "1374/1374 [==============================] - 730s 531ms/step - loss: 0.1549 - accuracy: 0.9528 - val_loss: 0.4087 - val_accuracy: 0.8886\n",
            "Epoch 28/35\n",
            "1374/1374 [==============================] - 727s 528ms/step - loss: 0.1326 - accuracy: 0.9612 - val_loss: 0.4732 - val_accuracy: 0.8504\n",
            "Epoch 29/35\n",
            "1374/1374 [==============================] - 725s 527ms/step - loss: 0.1363 - accuracy: 0.9610 - val_loss: 0.3256 - val_accuracy: 0.9252\n",
            "Epoch 30/35\n",
            "1374/1374 [==============================] - 723s 526ms/step - loss: 0.1239 - accuracy: 0.9652 - val_loss: 0.3738 - val_accuracy: 0.8971\n",
            "Epoch 31/35\n",
            "1374/1374 [==============================] - 729s 530ms/step - loss: 0.1343 - accuracy: 0.9652 - val_loss: 0.3333 - val_accuracy: 0.9136\n",
            "Epoch 32/35\n",
            "1374/1374 [==============================] - 725s 527ms/step - loss: 0.1359 - accuracy: 0.9622 - val_loss: 0.2840 - val_accuracy: 0.9329\n",
            "Epoch 33/35\n",
            "1374/1374 [==============================] - 725s 527ms/step - loss: 0.1054 - accuracy: 0.9706 - val_loss: 0.3994 - val_accuracy: 0.8802\n",
            "Epoch 34/35\n",
            "1374/1374 [==============================] - 726s 528ms/step - loss: 0.1131 - accuracy: 0.9690 - val_loss: 0.3349 - val_accuracy: 0.9248\n",
            "Epoch 35/35\n",
            "1374/1374 [==============================] - 726s 528ms/step - loss: 0.1085 - accuracy: 0.9714 - val_loss: 0.4594 - val_accuracy: 0.9115\n"
          ]
        }
      ],
      "source": [
        "# Train the model\n",
        "SCR_history = SCR.fit(\n",
        "    x = train_gen,\n",
        "    batch_size = batch_size,\n",
        "    epochs = 35,\n",
        "    validation_data = valid_gen,\n",
        "    class_weight=class_weight,\n",
        "    callbacks = [\n",
        "        tfk.callbacks.EarlyStopping(monitor='val_accuracy', mode='max', patience=patience, restore_best_weights=True)\n",
        "        ],\n",
        ").history"
      ]
    },
    {
      "cell_type": "markdown",
      "id": "b3cd75a4",
      "metadata": {
        "id": "b3cd75a4",
        "papermill": {
          "duration": 2.929834,
          "end_time": "2023-01-19T15:49:34.054053",
          "exception": false,
          "start_time": "2023-01-19T15:49:31.124219",
          "status": "completed"
        },
        "tags": []
      },
      "source": [
        "# Performances"
      ]
    },
    {
      "cell_type": "code",
      "execution_count": null,
      "id": "cdace2dd",
      "metadata": {
        "execution": {
          "iopub.execute_input": "2023-01-19T15:49:39.454396Z",
          "iopub.status.busy": "2023-01-19T15:49:39.454029Z",
          "iopub.status.idle": "2023-01-19T15:49:42.792042Z",
          "shell.execute_reply": "2023-01-19T15:49:42.791090Z"
        },
        "id": "cdace2dd",
        "papermill": {
          "duration": 6.039482,
          "end_time": "2023-01-19T15:49:42.797477",
          "exception": false,
          "start_time": "2023-01-19T15:49:36.757995",
          "status": "completed"
        },
        "tags": []
      },
      "outputs": [],
      "source": [
        "# Save the best model\n",
        "SCR.save('ScratchModel')"
      ]
    },
    {
      "cell_type": "code",
      "execution_count": null,
      "id": "ba1fd0e5",
      "metadata": {
        "execution": {
          "iopub.execute_input": "2023-01-19T15:49:48.332706Z",
          "iopub.status.busy": "2023-01-19T15:49:48.332336Z",
          "iopub.status.idle": "2023-01-19T15:49:48.986875Z",
          "shell.execute_reply": "2023-01-19T15:49:48.985852Z"
        },
        "id": "ba1fd0e5",
        "outputId": "1cf2098c-8614-4bbe-9ee6-454e126fc7e1",
        "papermill": {
          "duration": 3.229813,
          "end_time": "2023-01-19T15:49:48.989075",
          "exception": false,
          "start_time": "2023-01-19T15:49:45.759262",
          "status": "completed"
        },
        "tags": []
      },
      "outputs": [
        {
          "data": {
            "image/png": "[encoded data removed]",
            "text/plain": [
              "<Figure size 1080x360 with 1 Axes>"
            ]
          },
          "metadata": {
            "needs_background": "light"
          },
          "output_type": "display_data"
        },
        {
          "data": {
            "image/png": "[encoded data removed]",
            "text/plain": [
              "<Figure size 1080x360 with 1 Axes>"
            ]
          },
          "metadata": {
            "needs_background": "light"
          },
          "output_type": "display_data"
        }
      ],
      "source": [
        "# Plot the training\n",
        "plt.figure(figsize=(15,5))\n",
        "plt.plot(SCR_history['loss'], label='Loss', alpha=.3, color='#ff7f0e', linestyle='--')\n",
        "plt.plot(SCR_history['val_loss'], label='Val Loss', alpha=.8, color='#ff7f0e')\n",
        "plt.legend(loc='upper left')\n",
        "plt.title('Categorical Crossentropy')\n",
        "plt.grid(alpha=.3)\n",
        "\n",
        "plt.figure(figsize=(15,5))\n",
        "plt.plot(SCR_history['accuracy'], label='Accuracy', alpha=.3, color='#ff7f0e', linestyle='--')\n",
        "plt.plot(SCR_history['val_accuracy'], label='Val accuracy', alpha=.8, color='#ff7f0e')\n",
        "plt.legend(loc='upper left')\n",
        "plt.title('Accuracy')\n",
        "plt.grid(alpha=.3)\n",
        "plt.savefig('SCR_v1.1.0_acc.png')\n",
        "\n",
        "plt.show()"
      ]
    },
    {
      "cell_type": "code",
      "execution_count": null,
      "id": "fb3d942b",
      "metadata": {
        "execution": {
          "iopub.execute_input": "2023-01-19T15:49:54.402874Z",
          "iopub.status.busy": "2023-01-19T15:49:54.402462Z",
          "iopub.status.idle": "2023-01-19T15:49:54.409323Z",
          "shell.execute_reply": "2023-01-19T15:49:54.408215Z"
        },
        "id": "fb3d942b",
        "papermill": {
          "duration": 2.704443,
          "end_time": "2023-01-19T15:49:54.412343",
          "exception": false,
          "start_time": "2023-01-19T15:49:51.707900",
          "status": "completed"
        },
        "tags": [],
        "outputId": "0ef317ab-1040-4414-f0d1-fd0bbece1977"
      },
      "outputs": [
        {
          "name": "stdout",
          "output_type": "stream",
          "text": [
            "Max train accuracy obtained with this model: 0.9714337587356567\n",
            "Max val accuracy obtained with this model: 0.9328508377075195\n"
          ]
        }
      ],
      "source": [
        "best_score = max(SCR_history['accuracy'])\n",
        "best_score_val = max(SCR_history['val_accuracy'])\n",
        "\n",
        "print(\"Max train accuracy obtained with this model:\", best_score)\n",
        "print(\"Max val accuracy obtained with this model:\", best_score_val)"
      ]
    },
    {
      "cell_type": "markdown",
      "id": "7387c0eb",
      "metadata": {
        "id": "7387c0eb",
        "papermill": {
          "duration": 3.16456,
          "end_time": "2023-01-19T15:50:00.502396",
          "exception": false,
          "start_time": "2023-01-19T15:49:57.337836",
          "status": "completed"
        },
        "tags": []
      },
      "source": [
        "# Confusion matrix"
      ]
    },
    {
      "cell_type": "code",
      "execution_count": null,
      "id": "1f3b2eb7",
      "metadata": {
        "execution": {
          "iopub.execute_input": "2023-01-19T15:50:06.272893Z",
          "iopub.status.busy": "2023-01-19T15:50:06.272333Z",
          "iopub.status.idle": "2023-01-19T15:50:47.450610Z",
          "shell.execute_reply": "2023-01-19T15:50:47.449493Z"
        },
        "papermill": {
          "duration": 43.942024,
          "end_time": "2023-01-19T15:50:47.453210",
          "exception": false,
          "start_time": "2023-01-19T15:50:03.511186",
          "status": "completed"
        },
        "tags": [],
        "id": "1f3b2eb7",
        "outputId": "0c99827f-f7ba-4fcd-9cb7-e7ed3f9b4fdf"
      },
      "outputs": [
        {
          "name": "stdout",
          "output_type": "stream",
          "text": [
            "311/311 [==============================] - 39s 124ms/step\n"
          ]
        }
      ],
      "source": [
        "# Compute the prediction on the valid data\n",
        "predictions = SCR.predict(valid_gen)\n",
        "y_predicted = tf.argmax(predictions, axis=-1)"
      ]
    },
    {
      "cell_type": "code",
      "execution_count": null,
      "id": "b2bc6dab",
      "metadata": {
        "execution": {
          "iopub.execute_input": "2023-01-19T15:50:53.109499Z",
          "iopub.status.busy": "2023-01-19T15:50:53.109117Z",
          "iopub.status.idle": "2023-01-19T15:51:13.595666Z",
          "shell.execute_reply": "2023-01-19T15:51:13.594703Z"
        },
        "papermill": {
          "duration": 23.435172,
          "end_time": "2023-01-19T15:51:13.598069",
          "exception": false,
          "start_time": "2023-01-19T15:50:50.162897",
          "status": "completed"
        },
        "tags": [],
        "id": "b2bc6dab",
        "outputId": "d9721748-9a26-4965-e948-4af5b41c126c"
      },
      "outputs": [
        {
          "name": "stdout",
          "output_type": "stream",
          "text": [
            "There are 311 batches of images in the validation set\n"
          ]
        }
      ],
      "source": [
        "# Take all the true labels and save them in an array\n",
        "y_true =  np.array([])\n",
        "count = 0\n",
        "for x, y in valid_gen:\n",
        "  count += 1\n",
        "  y_true = np.concatenate([y_true, np.argmax(y, axis=-1)])\n",
        "\n",
        "print(\"There are {} batches of images in the validation set\".format(count))"
      ]
    },
    {
      "cell_type": "code",
      "execution_count": null,
      "id": "281e2f0e",
      "metadata": {
        "execution": {
          "iopub.execute_input": "2023-01-19T15:51:19.167778Z",
          "iopub.status.busy": "2023-01-19T15:51:19.167426Z",
          "iopub.status.idle": "2023-01-19T15:51:19.503258Z",
          "shell.execute_reply": "2023-01-19T15:51:19.502189Z"
        },
        "papermill": {
          "duration": 3.179291,
          "end_time": "2023-01-19T15:51:19.505657",
          "exception": false,
          "start_time": "2023-01-19T15:51:16.326366",
          "status": "completed"
        },
        "tags": [],
        "id": "281e2f0e",
        "outputId": "a567cc4c-fe7a-43c8-ac66-20fd7a961a5d"
      },
      "outputs": [
        {
          "name": "stdout",
          "output_type": "stream",
          "text": [
            "Accuracy: 0.9115\n",
            "Precision: 0.8706\n",
            "Recall: 0.8946\n",
            "F1: 0.8814\n"
          ]
        },
        {
          "data": {
            "image/png": "[encoded data removed]",
            "text/plain": [
              "<Figure size 720x576 with 2 Axes>"
            ]
          },
          "metadata": {
            "needs_background": "light"
          },
          "output_type": "display_data"
        }
      ],
      "source": [
        "# Compute the confusion matrix\n",
        "cm = confusion_matrix(y_true, y_predicted)\n",
        "\n",
        "# Compute the classification metrics\n",
        "accuracy = accuracy_score(y_true, y_predicted)\n",
        "precision = precision_score(y_true, y_predicted, average='macro')\n",
        "recall = recall_score(y_true, y_predicted, average='macro')\n",
        "f1 = f1_score(y_true, y_predicted, average='macro')\n",
        "print('Accuracy:',accuracy.round(4))\n",
        "print('Precision:',precision.round(4))\n",
        "print('Recall:',recall.round(4))\n",
        "print('F1:',f1.round(4))\n",
        "\n",
        "# Plot the confusion matrix\n",
        "plt.figure(figsize=(10,8))\n",
        "sns.heatmap(cm.T, xticklabels=class_names, yticklabels=class_names, annot=True, fmt=\".1f\", cmap=\"Blues\")\n",
        "plt.xlabel('True labels')\n",
        "plt.ylabel('Predicted labels')\n",
        "plt.savefig('SCR_v1.1.0_conf.png')\n",
        "\n",
        "plt.show()"
      ]
    }
  ],
  "metadata": {
    "kernelspec": {
      "display_name": "Python 3",
      "language": "python",
      "name": "python3"
    },
    "language_info": {
      "codemirror_mode": {
        "name": "ipython",
        "version": 3
      },
      "file_extension": ".py",
      "mimetype": "text/x-python",
      "name": "python",
      "nbconvert_exporter": "python",
      "pygments_lexer": "ipython3",
      "version": "3.7.12"
    },
    "papermill": {
      "default_parameters": {},
      "duration": 26379.656626,
      "end_time": "2023-01-19T15:51:25.247306",
      "environment_variables": {},
      "exception": null,
      "input_path": "__notebook__.ipynb",
      "output_path": "__notebook__.ipynb",
      "parameters": {},
      "start_time": "2023-01-19T08:31:45.590680",
      "version": "2.3.4"
    },
    "colab": {
      "provenance": []
    }
  },
  "nbformat": 4,
  "nbformat_minor": 5
}