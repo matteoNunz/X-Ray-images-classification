{
  "metadata": {
    "colab": {
      "provenance": []
    },
    "kernelspec": {
      "name": "python3",
      "display_name": "Python 3",
      "language": "python"
    },
    "language_info": {
      "name": "python",
      "version": "3.7.12",
      "mimetype": "text/x-python",
      "codemirror_mode": {
        "name": "ipython",
        "version": 3
      },
      "pygments_lexer": "ipython3",
      "nbconvert_exporter": "python",
      "file_extension": ".py"
    },
    "accelerator": "GPU",
    "gpuClass": "standard"
  },
  "nbformat_minor": 0,
  "nbformat": 4,
  "cells": [
    {
      "cell_type": "code",
      "source": [
        "!pip install tensorflow==2.11\n",
        "!pip install shap"
      ],
      "metadata": {
        "execution": {
          "iopub.status.busy": "2023-01-04T12:22:03.049741Z",
          "iopub.execute_input": "2023-01-04T12:22:03.050620Z",
          "iopub.status.idle": "2023-01-04T12:22:12.693890Z",
          "shell.execute_reply.started": "2023-01-04T12:22:03.050568Z",
          "shell.execute_reply": "2023-01-04T12:22:12.692629Z"
        },
        "trusted": true,
        "id": "wshsCkY3FEY1"
      },
      "execution_count": null,
      "outputs": []
    },
    {
      "cell_type": "code",
      "source": [
        "import tensorflow as tf\n",
        "import numpy as np\n",
        "import os\n",
        "import random\n",
        "import tensorboard\n",
        "import datetime\n",
        "import sklearn\n",
        "\n",
        "from sklearn.metrics import accuracy_score, f1_score, precision_score, recall_score\n",
        "from sklearn.metrics import confusion_matrix\n",
        "from sklearn.metrics import roc_auc_score, balanced_accuracy_score\n",
        "import seaborn as sns\n",
        "import matplotlib.pyplot as plt\n",
        "\n",
        "from google.colab.patches import cv2_imshow\n",
        "import matplotlib.pyplot as plt\n",
        "import matplotlib.cm as cm\n",
        "import cv2\n",
        "\n",
        "import shap\n",
        "\n",
        "kaggle = False\n",
        "\n",
        "tfk = tf.keras\n",
        "tfkl = tf.keras.layers\n",
        "print(tf.__version__)"
      ],
      "metadata": {
        "execution": {
          "iopub.status.busy": "2023-01-04T12:22:12.696607Z",
          "iopub.execute_input": "2023-01-04T12:22:12.697423Z",
          "iopub.status.idle": "2023-01-04T12:22:12.709324Z",
          "shell.execute_reply.started": "2023-01-04T12:22:12.697376Z",
          "shell.execute_reply": "2023-01-04T12:22:12.708261Z"
        },
        "trusted": true,
        "id": "CzytuouUFEY7",
        "outputId": "e7b81fea-cac9-4408-c5d1-ac3c0f8806b6",
        "colab": {
          "base_uri": "https://localhost:8080/"
        }
      },
      "execution_count": 16,
      "outputs": [
        {
          "output_type": "stream",
          "name": "stdout",
          "text": [
            "2.11.0\n"
          ]
        }
      ]
    },
    {
      "cell_type": "code",
      "source": [
        "# Random seed for reproducibility\n",
        "seed = 54721\n",
        "\n",
        "random.seed(seed)\n",
        "os.environ['PYTHONHASHSEED'] = str(seed)\n",
        "np.random.seed(seed)\n",
        "tf.random.set_seed(seed)\n",
        "tf.compat.v1.set_random_seed(seed)"
      ],
      "metadata": {
        "id": "M670wyKl3Lhw",
        "pycharm": {
          "name": "#%%\n"
        },
        "execution": {
          "iopub.status.busy": "2023-01-04T12:22:12.711065Z",
          "iopub.execute_input": "2023-01-04T12:22:12.711443Z",
          "iopub.status.idle": "2023-01-04T12:22:12.880497Z",
          "shell.execute_reply.started": "2023-01-04T12:22:12.711407Z",
          "shell.execute_reply": "2023-01-04T12:22:12.879286Z"
        },
        "trusted": true
      },
      "execution_count": 3,
      "outputs": []
    },
    {
      "cell_type": "code",
      "source": [
        "if not kaggle:\n",
        "  from google.colab import drive\n",
        "  drive.mount('/content/drive')"
      ],
      "metadata": {
        "id": "i4v-8gkEFN72",
        "colab": {
          "base_uri": "https://localhost:8080/"
        },
        "outputId": "c58acda7-c00c-4359-a792-50a99b1f2191"
      },
      "execution_count": 4,
      "outputs": [
        {
          "output_type": "stream",
          "name": "stdout",
          "text": [
            "Mounted at /content/drive\n"
          ]
        }
      ]
    },
    {
      "cell_type": "code",
      "source": [
        "if kaggle:\n",
        "  train_dir = '/kaggle/input/biomedicine-data-splitted-patient/data_splitted_patient/train'\n",
        "  test_dir = '/kaggle/input/biomedicine-data-splitted-patient/data_splitted_patient/test'\n",
        "  val_dir = '/kaggle/input/biomedicine-data-splitted-patient/data_splitted_patient/val'\n",
        "else:\n",
        "  %cd /content/drive/MyDrive/data_splitted_patient\n",
        "  train_dir = 'train'\n",
        "  test_dir = 'test'\n",
        "  val_dir = 'val'\n",
        "  \n",
        "image_size = 400 # images are 400x400x3\n",
        "batch_size = 16"
      ],
      "metadata": {
        "id": "vvsg6pLQFTL0",
        "colab": {
          "base_uri": "https://localhost:8080/"
        },
        "outputId": "6695f596-7c58-4abf-8286-9febec0d1cad"
      },
      "execution_count": 5,
      "outputs": [
        {
          "output_type": "stream",
          "name": "stdout",
          "text": [
            "/content/drive/.shortcut-targets-by-id/14D0QUtOpcrgcCk3Apj2azcVrgj1H9LqD/data_splitted_patient\n"
          ]
        }
      ]
    },
    {
      "cell_type": "code",
      "source": [
        "class_names = ['N','P','T']\n",
        "class_samples = [0] * len(class_names)"
      ],
      "metadata": {
        "id": "tjF8JhS_3n7p",
        "pycharm": {
          "name": "#%%\n"
        },
        "execution": {
          "iopub.status.busy": "2023-01-04T12:22:12.899687Z",
          "iopub.execute_input": "2023-01-04T12:22:12.900674Z",
          "iopub.status.idle": "2023-01-04T12:22:12.915360Z",
          "shell.execute_reply.started": "2023-01-04T12:22:12.900635Z",
          "shell.execute_reply": "2023-01-04T12:22:12.914408Z"
        },
        "trusted": true
      },
      "execution_count": 6,
      "outputs": []
    },
    {
      "cell_type": "code",
      "source": [
        "test_ds = tf.keras.utils.image_dataset_from_directory(\n",
        "    test_dir,\n",
        "    validation_split=0.0,\n",
        "    # It doesn't matter here the shuffle -> set to False to have the heatmap\n",
        "    shuffle=False,\n",
        "    seed=seed,\n",
        "    image_size=(image_size, image_size),\n",
        "    batch_size=batch_size)"
      ],
      "metadata": {
        "id": "gauenXVz7JfF",
        "outputId": "ebbe915f-c7bd-4cb2-9344-b2ad1cba89c9",
        "colab": {
          "base_uri": "https://localhost:8080/"
        },
        "execution": {
          "iopub.status.busy": "2023-01-04T12:22:18.362382Z",
          "iopub.execute_input": "2023-01-04T12:22:18.362672Z",
          "iopub.status.idle": "2023-01-04T12:22:18.709672Z",
          "shell.execute_reply.started": "2023-01-04T12:22:18.362645Z",
          "shell.execute_reply": "2023-01-04T12:22:18.708630Z"
        },
        "trusted": true
      },
      "execution_count": 7,
      "outputs": [
        {
          "output_type": "stream",
          "name": "stdout",
          "text": [
            "Found 1991 files belonging to 3 classes.\n"
          ]
        }
      ]
    },
    {
      "cell_type": "code",
      "source": [
        "class_names = test_ds.class_names\n",
        "num_classes = len(class_names)\n",
        "print(\"There are {} classes\".format(num_classes))"
      ],
      "metadata": {
        "id": "xW0pHMXQ4GiZ",
        "pycharm": {
          "name": "#%%\n"
        },
        "execution": {
          "iopub.status.busy": "2023-01-04T12:22:18.713683Z",
          "iopub.execute_input": "2023-01-04T12:22:18.713977Z",
          "iopub.status.idle": "2023-01-04T12:22:18.719294Z",
          "shell.execute_reply.started": "2023-01-04T12:22:18.713949Z",
          "shell.execute_reply": "2023-01-04T12:22:18.718127Z"
        },
        "trusted": true,
        "colab": {
          "base_uri": "https://localhost:8080/"
        },
        "outputId": "6f9019d3-cdc5-426f-adbc-b5590e0cba2f"
      },
      "execution_count": 8,
      "outputs": [
        {
          "output_type": "stream",
          "name": "stdout",
          "text": [
            "There are 3 classes\n"
          ]
        }
      ]
    },
    {
      "cell_type": "code",
      "source": [
        "# Add caching to dataset\n",
        "AUTOTUNE = tf.data.AUTOTUNE\n",
        "test_ds = test_ds.prefetch(buffer_size=AUTOTUNE)"
      ],
      "metadata": {
        "id": "-HPT0GSz4PKX",
        "pycharm": {
          "name": "#%%\n"
        },
        "execution": {
          "iopub.status.busy": "2023-01-04T12:22:18.720774Z",
          "iopub.execute_input": "2023-01-04T12:22:18.721802Z",
          "iopub.status.idle": "2023-01-04T12:22:18.732519Z",
          "shell.execute_reply.started": "2023-01-04T12:22:18.721761Z",
          "shell.execute_reply": "2023-01-04T12:22:18.731538Z"
        },
        "trusted": true
      },
      "execution_count": 9,
      "outputs": []
    },
    {
      "cell_type": "code",
      "source": [
        "# Use one-hot encoding for labels\n",
        "test_ds = test_ds.map(lambda x, y: (x, tf.one_hot(y, depth=num_classes)))"
      ],
      "metadata": {
        "id": "y0r4jDKyysb6",
        "colab": {
          "base_uri": "https://localhost:8080/"
        },
        "outputId": "57145595-5e8b-45ec-b322-0929d9c89bfe"
      },
      "execution_count": 10,
      "outputs": [
        {
          "output_type": "stream",
          "name": "stderr",
          "text": [
            "WARNING:tensorflow:From /usr/local/lib/python3.8/dist-packages/tensorflow/python/autograph/pyct/static_analysis/liveness.py:83: Analyzer.lamba_check (from tensorflow.python.autograph.pyct.static_analysis.liveness) is deprecated and will be removed after 2023-09-23.\n",
            "Instructions for updating:\n",
            "Lambda fuctions will be no more assumed to be used in the statement where they are used, or at least in the same block. https://github.com/tensorflow/tensorflow/issues/56089\n"
          ]
        }
      ]
    },
    {
      "cell_type": "code",
      "source": [
        "# Load the model\n",
        "if not kaggle:\n",
        "  model1 = tfk.models.load_model(\"/content/drive/MyDrive/Models/Model5_0.95\")"
      ],
      "metadata": {
        "id": "Aupm6JTAybah"
      },
      "execution_count": null,
      "outputs": []
    },
    {
      "cell_type": "code",
      "source": [
        "# Load the model\n",
        "if not kaggle:\n",
        "  model2 = tfk.models.load_model(\"/content/drive/MyDrive/Models/Model10_0.94\")"
      ],
      "metadata": {
        "id": "NszzXhAI-gdp",
        "colab": {
          "base_uri": "https://localhost:8080/"
        },
        "outputId": "ac3339a5-8362-4024-9ccb-5ecc0686a1ad"
      },
      "execution_count": 12,
      "outputs": [
        {
          "output_type": "stream",
          "name": "stderr",
          "text": [
            "WARNING:tensorflow:Using a while_loop for converting RngReadAndSkip cause there is no registered converter for this op.\n",
            "WARNING:tensorflow:Using a while_loop for converting Bitcast cause there is no registered converter for this op.\n",
            "WARNING:tensorflow:Using a while_loop for converting Bitcast cause there is no registered converter for this op.\n",
            "WARNING:tensorflow:Using a while_loop for converting StatelessRandomUniformV2 cause there is no registered converter for this op.\n",
            "WARNING:tensorflow:Using a while_loop for converting ImageProjectiveTransformV3 cause there is no registered converter for this op.\n",
            "WARNING:tensorflow:Using a while_loop for converting RngReadAndSkip cause there is no registered converter for this op.\n",
            "WARNING:tensorflow:Using a while_loop for converting Bitcast cause there is no registered converter for this op.\n",
            "WARNING:tensorflow:Using a while_loop for converting Bitcast cause there is no registered converter for this op.\n",
            "WARNING:tensorflow:Using a while_loop for converting StatelessRandomUniformV2 cause there is no registered converter for this op.\n",
            "WARNING:tensorflow:Using a while_loop for converting RngReadAndSkip cause there is no registered converter for this op.\n",
            "WARNING:tensorflow:Using a while_loop for converting Bitcast cause there is no registered converter for this op.\n",
            "WARNING:tensorflow:Using a while_loop for converting Bitcast cause there is no registered converter for this op.\n",
            "WARNING:tensorflow:Using a while_loop for converting StatelessRandomUniformV2 cause there is no registered converter for this op.\n",
            "WARNING:tensorflow:Using a while_loop for converting RngReadAndSkip cause there is no registered converter for this op.\n",
            "WARNING:tensorflow:Using a while_loop for converting Bitcast cause there is no registered converter for this op.\n",
            "WARNING:tensorflow:Using a while_loop for converting Bitcast cause there is no registered converter for this op.\n",
            "WARNING:tensorflow:Using a while_loop for converting StatelessRandomUniformFullIntV2 cause there is no registered converter for this op.\n",
            "WARNING:tensorflow:Using a while_loop for converting StatelessRandomGetKeyCounter cause there is no registered converter for this op.\n",
            "WARNING:tensorflow:Using a while_loop for converting StatelessRandomUniformV2 cause there is no registered converter for this op.\n"
          ]
        }
      ]
    },
    {
      "cell_type": "code",
      "source": [
        "# Load the model\n",
        "if not kaggle:\n",
        "  model3 = tfk.models.load_model(\"/content/drive/MyDrive/Models/SCR_v1.1.0/SCR_v1.1.0\")"
      ],
      "metadata": {
        "id": "ciCXZI4U4MSS"
      },
      "execution_count": 13,
      "outputs": []
    },
    {
      "cell_type": "markdown",
      "source": [
        "## Evaluating the model performances"
      ],
      "metadata": {
        "id": "SAvGDignyfL7"
      }
    },
    {
      "cell_type": "code",
      "source": [
        "# Compute the prediction on the test data\n",
        "predictions1 = model1.predict(test_ds)\n",
        "y_predicted1 = tf.argmax(predictions1, axis=-1)\n",
        "# Compute the prediction on the test data\n",
        "predictions2 = model2.predict(test_ds)\n",
        "y_predicted2 = tf.argmax(predictions2, axis=-1)\n",
        "# Compute the prediction on the test data\n",
        "predictions3 = model3.predict(test_ds)\n",
        "y_predicted3 = tf.argmax(predictions3, axis=-1)"
      ],
      "metadata": {
        "id": "sxODKiWTyTmN",
        "colab": {
          "base_uri": "https://localhost:8080/"
        },
        "outputId": "648d8ba6-db6d-4ea3-a7c4-6de5a9f17a71"
      },
      "execution_count": 14,
      "outputs": [
        {
          "output_type": "stream",
          "name": "stdout",
          "text": [
            "125/125 [==============================] - 659s 5s/step\n",
            "125/125 [==============================] - 38s 246ms/step\n",
            "125/125 [==============================] - 32s 195ms/step\n"
          ]
        }
      ]
    },
    {
      "cell_type": "code",
      "source": [
        "# Take all the true labels and save them in an array\n",
        "y_true =  np.array([])\n",
        "for x, y in test_ds:\n",
        "  y_true = np.concatenate([y_true, np.argmax(y, axis=-1)])\n",
        "\n",
        "print(\"There are {} images in the test set\".format(y_true.shape[0]))"
      ],
      "metadata": {
        "id": "y5ZyKa7_GWtR",
        "colab": {
          "base_uri": "https://localhost:8080/"
        },
        "outputId": "16aeb72a-5a56-4bb0-d8f2-3f318aa1904e"
      },
      "execution_count": 15,
      "outputs": [
        {
          "output_type": "stream",
          "name": "stdout",
          "text": [
            "There are 1991 images in the test set\n"
          ]
        }
      ]
    },
    {
      "cell_type": "code",
      "source": [
        "def print_evaluation(y_true, y_predicted):\n",
        "  # Compute the confusion matrix\n",
        "  confusion_matrix = sklearn.metrics.confusion_matrix(y_true, y_predicted)\n",
        "\n",
        "  # Define the labels\n",
        "  class_labels = np.array([\"N\", \"P\", \"T\"])\n",
        "\n",
        "  # Compute the classification metrics\n",
        "  accuracy = accuracy_score(y_true, y_predicted)\n",
        "  precision = precision_score(y_true, y_predicted, average='macro')\n",
        "  recall = recall_score(y_true, y_predicted, average='macro')\n",
        "  f1 = f1_score(y_true, y_predicted, average='macro')\n",
        "  f1_for_class = f1_score(y_true, y_predicted, average=None)\n",
        "\n",
        "  print('Accuracy:',accuracy.round(4))\n",
        "  print('Precision:',precision.round(4))\n",
        "  print('Recall:',recall.round(4))\n",
        "\n",
        "  for i in range(class_labels.shape[0]):\n",
        "    print(\"F1 score class {}: {}\".format(class_labels[i], f1_for_class[i].round(4)))\n",
        "\n",
        "  print('F1:',f1.round(4))\n",
        "\n",
        "\n",
        "  # Plot the confusion matrix\n",
        "  plt.figure(figsize=(10,8))\n",
        "  sns.heatmap(confusion_matrix.T, xticklabels=class_names, yticklabels=class_names, annot=True, fmt=\".1f\", cmap=\"Blues\")\n",
        "  plt.xlabel('True labels')\n",
        "  plt.ylabel('Predicted labels')\n",
        "  plt.show()"
      ],
      "metadata": {
        "id": "SAG536mTGZ5B"
      },
      "execution_count": 87,
      "outputs": []
    },
    {
      "cell_type": "code",
      "source": [
        "def compute_AUC(y_true, y_predicted):\n",
        "  # Define the labels\n",
        "  class_labels = np.array([0, 1, 2])\n",
        "\n",
        "  # Compute the AUC\n",
        "  AUC = roc_auc_score(y_true, y_predicted, multi_class='ovr', labels=class_labels)\n",
        "\n",
        "  print(\"\\nAUC: \", AUC.round(4))"
      ],
      "metadata": {
        "id": "jBPsxewOLzAE"
      },
      "execution_count": 64,
      "outputs": []
    },
    {
      "cell_type": "code",
      "source": [
        "def count_missclassified_images(y_true, y_predicted):\n",
        "  count = sum([1 for i in range(y_true.shape[0]) if y_true[i] != y_predicted[i]])\n",
        "  print(\"Number of missclassified images is {}\".format(count))\n",
        "  return count"
      ],
      "metadata": {
        "id": "JevqOSXOD8oF"
      },
      "execution_count": 38,
      "outputs": []
    },
    {
      "cell_type": "code",
      "source": [
        "# Print evaluation of model1\n",
        "count_missclassified_images(y_true, y_predicted1)\n",
        "compute_AUC(y_true, predictions1)\n",
        "print_evaluation(y_true, y_predicted1)"
      ],
      "metadata": {
        "id": "ykShLXmP40JB",
        "colab": {
          "base_uri": "https://localhost:8080/",
          "height": 671
        },
        "outputId": "af0ea478-c1be-4f53-edd1-31486f71d6af"
      },
      "execution_count": 88,
      "outputs": [
        {
          "output_type": "stream",
          "name": "stdout",
          "text": [
            "Number of missclassified images is 96\n",
            "\n",
            "AUC:  0.9925\n",
            "Accuracy: 0.9518\n",
            "Precision: 0.9319\n",
            "Recall: 0.9328\n",
            "F1 score class N: 0.9621\n",
            "F1 score class P: 0.9661\n",
            "F1 score class T: 0.8689\n",
            "F1: 0.9324\n"
          ]
        },
        {
          "output_type": "display_data",
          "data": {
            "text/plain": [
              "<Figure size 720x576 with 2 Axes>"
            ],
            "image/png": "[encoded data removed]"
          },
          "metadata": {
            "needs_background": "light"
          }
        }
      ]
    },
    {
      "cell_type": "code",
      "source": [
        "# Print evaluation of model2\n",
        "count_missclassified_images(y_true, y_predicted2)\n",
        "compute_AUC(y_true, predictions2)\n",
        "print_evaluation(y_true, y_predicted2)"
      ],
      "metadata": {
        "id": "xPJNjg-646g_",
        "colab": {
          "base_uri": "https://localhost:8080/",
          "height": 671
        },
        "outputId": "85c07f16-4b9b-4fd9-b83a-6feffc2d4494"
      },
      "execution_count": 66,
      "outputs": [
        {
          "output_type": "stream",
          "name": "stdout",
          "text": [
            "Number of missclassified images is 106\n",
            "\n",
            "AUC:  0.9921\n",
            "Accuracy: 0.9468\n",
            "Precision: 0.926\n",
            "Recall: 0.9248\n",
            "F1 score class N: 0.9586\n",
            "F1 score class P: 0.9619\n",
            "F1 score class T: 0.8554\n",
            "F1: 0.9253\n"
          ]
        },
        {
          "output_type": "display_data",
          "data": {
            "text/plain": [
              "<Figure size 720x576 with 2 Axes>"
            ],
            "image/png": "[encoded data removed]"
          },
          "metadata": {
            "needs_background": "light"
          }
        }
      ]
    },
    {
      "cell_type": "code",
      "source": [
        "# Print evaluation of model3\n",
        "count_missclassified_images(y_true, y_predicted3)\n",
        "compute_AUC(y_true, predictions3)\n",
        "print_evaluation(y_true, y_predicted3)"
      ],
      "metadata": {
        "id": "jKNWphKE47Oi",
        "colab": {
          "base_uri": "https://localhost:8080/",
          "height": 671
        },
        "outputId": "16ec764a-d66a-4eed-f7e0-03fbe3bb088e"
      },
      "execution_count": 67,
      "outputs": [
        {
          "output_type": "stream",
          "name": "stdout",
          "text": [
            "Number of missclassified images is 190\n",
            "\n",
            "AUC:  0.9654\n",
            "Accuracy: 0.9046\n",
            "Precision: 0.8574\n",
            "Recall: 0.8924\n",
            "F1 score class N: 0.922\n",
            "F1 score class P: 0.9383\n",
            "F1 score class T: 0.758\n",
            "F1: 0.8728\n"
          ]
        },
        {
          "output_type": "display_data",
          "data": {
            "text/plain": [
              "<Figure size 720x576 with 2 Axes>"
            ],
            "image/png": "[encoded data removed]"
          },
          "metadata": {
            "needs_background": "light"
          }
        }
      ]
    },
    {
      "cell_type": "code",
      "source": [
        "def confidence_evaluation(predictions, y_true, confidence=0.33):\n",
        "  \"\"\"\n",
        "  This method receives the predictions(probabilities) of the models and \n",
        "    it computes the evaluation metrics using only the prediction\n",
        "    where the max probabilities is above a confidence threshold.\n",
        "  \"\"\"\n",
        "  # List that will contain only the prediction with a certain confidence\n",
        "  confident_predictions = []\n",
        "  # List that will contain the true labels corresponding to the selected predictions\n",
        "  confident_y_true = []\n",
        "\n",
        "  # Count how many predicions are not confident\n",
        "  count_non_confident = 0\n",
        "\n",
        "  for i, prediction in enumerate(predictions):\n",
        "    # If the max probability > confidence\n",
        "    if np.max(prediction, axis=-1) > confidence:\n",
        "      confident_predictions.append(prediction)\n",
        "      confident_y_true.append(y_true[i])\n",
        "    else:\n",
        "      # Increase the counter\n",
        "      count_non_confident += 1\n",
        "\n",
        "  # Conver the list into an array\n",
        "  confident_predictions = np.array(confident_predictions)\n",
        "  # Get the predicted classes\n",
        "  confident_y_predicted = np.argmax(confident_predictions, axis=-1)\n",
        "\n",
        "  print(\"The number of discarded predictions is {}({:.2f}%)\".format(count_non_confident, count_non_confident*100/predictions.shape[0]))\n",
        "\n",
        "  # Define the labels\n",
        "  class_labels = np.array([\"N\", \"P\", \"T\"])\n",
        "\n",
        "  class_index = np.array([0, 1, 2])\n",
        "\n",
        "  AUC = roc_auc_score(confident_y_true, confident_predictions, multi_class='ovr', labels=class_index)\n",
        "\n",
        "  # Compute the classification metrics\n",
        "  accuracy = accuracy_score(confident_y_true, confident_y_predicted)\n",
        "  precision = precision_score(confident_y_true, confident_y_predicted, average='macro')\n",
        "  recall = recall_score(confident_y_true, confident_y_predicted, average='macro')\n",
        "  f1 = f1_score(confident_y_true, confident_y_predicted, average='macro')\n",
        "  f1_for_class = f1_score(confident_y_true, confident_y_predicted, average=None)\n",
        "  print('AUC:', AUC.round(4))\n",
        "  print('Accuracy:',accuracy.round(4))\n",
        "  print('Precision:',precision.round(4))\n",
        "  print('Recall:',recall.round(4))\n",
        "  for i in range(class_labels.shape[0]):\n",
        "    print(\"F1 score class {}: {}\".format(class_labels[i], f1_for_class[i].round(4)))\n",
        "  print('F1:',f1.round(4))\n"
      ],
      "metadata": {
        "id": "wF44WQv1qdLF"
      },
      "execution_count": 49,
      "outputs": []
    },
    {
      "cell_type": "code",
      "source": [
        "# Standard evaluation\n",
        "confidence_evaluation(predictions1, y_true, confidence=0.33)"
      ],
      "metadata": {
        "id": "80ILhCjDsoow",
        "colab": {
          "base_uri": "https://localhost:8080/"
        },
        "outputId": "035baf50-0631-4739-dd57-e8333b51b802"
      },
      "execution_count": 50,
      "outputs": [
        {
          "output_type": "stream",
          "name": "stdout",
          "text": [
            "The number of discarded predictions is 0(0.00%)\n",
            "AUC: 0.9925\n",
            "Accuracy: 0.9518\n",
            "Precision: 0.9319\n",
            "Recall: 0.9328\n",
            "F1 score class N: 0.9621\n",
            "F1 score class P: 0.9661\n",
            "F1 score class T: 0.8689\n",
            "F1: 0.9324\n"
          ]
        }
      ]
    },
    {
      "cell_type": "code",
      "source": [
        "# Evaluation with a confidence of 0.5 \n",
        "confidence_evaluation(predictions1, y_true, confidence=0.5)"
      ],
      "metadata": {
        "id": "ztfG-GPluj68",
        "colab": {
          "base_uri": "https://localhost:8080/"
        },
        "outputId": "b3306169-1a26-436b-fbe5-25ddc9c47201"
      },
      "execution_count": 51,
      "outputs": [
        {
          "output_type": "stream",
          "name": "stdout",
          "text": [
            "The number of discarded predictions is 6(0.30%)\n",
            "AUC: 0.9926\n",
            "Accuracy: 0.9537\n",
            "Precision: 0.9356\n",
            "Recall: 0.9346\n",
            "F1 score class N: 0.9629\n",
            "F1 score class P: 0.9687\n",
            "F1 score class T: 0.8737\n",
            "F1: 0.9351\n"
          ]
        }
      ]
    },
    {
      "cell_type": "code",
      "source": [
        "# Evaluation with a confidence of 0.8\n",
        "confidence_evaluation(predictions1, y_true, confidence=0.8)"
      ],
      "metadata": {
        "id": "QwZLVutdus7M",
        "colab": {
          "base_uri": "https://localhost:8080/"
        },
        "outputId": "6155a877-1a5c-486b-bcfc-6267be204e47"
      },
      "execution_count": 52,
      "outputs": [
        {
          "output_type": "stream",
          "name": "stdout",
          "text": [
            "The number of discarded predictions is 179(8.99%)\n",
            "AUC: 0.9963\n",
            "Accuracy: 0.9796\n",
            "Precision: 0.9789\n",
            "Recall: 0.9663\n",
            "F1 score class N: 0.9832\n",
            "F1 score class P: 0.9825\n",
            "F1 score class T: 0.9517\n",
            "F1: 0.9724\n"
          ]
        }
      ]
    },
    {
      "cell_type": "code",
      "source": [
        "# Evaluation with a confidence of 0.99\n",
        "confidence_evaluation(predictions1, y_true, confidence=0.99)"
      ],
      "metadata": {
        "colab": {
          "base_uri": "https://localhost:8080/"
        },
        "id": "58h-2MGHofPf",
        "outputId": "1a3a21a4-5380-41aa-cb83-3d58056ec906"
      },
      "execution_count": 53,
      "outputs": [
        {
          "output_type": "stream",
          "name": "stdout",
          "text": [
            "The number of discarded predictions is 650(32.65%)\n",
            "AUC: 0.9992\n",
            "Accuracy: 0.997\n",
            "Precision: 0.9983\n",
            "Recall: 0.9968\n",
            "F1 score class N: 0.9974\n",
            "F1 score class P: 0.9952\n",
            "F1 score class T: 1.0\n",
            "F1: 0.9975\n"
          ]
        }
      ]
    },
    {
      "cell_type": "code",
      "source": [
        "# Standard evaluation\n",
        "confidence_evaluation(predictions2, y_true, confidence=0.33)"
      ],
      "metadata": {
        "id": "7YzWa3-f6msy",
        "colab": {
          "base_uri": "https://localhost:8080/"
        },
        "outputId": "5c98d014-3b04-483e-b399-913e0402e4b7"
      },
      "execution_count": 54,
      "outputs": [
        {
          "output_type": "stream",
          "name": "stdout",
          "text": [
            "The number of discarded predictions is 0(0.00%)\n",
            "AUC: 0.9921\n",
            "Accuracy: 0.9468\n",
            "Precision: 0.926\n",
            "Recall: 0.9248\n",
            "F1 score class N: 0.9586\n",
            "F1 score class P: 0.9619\n",
            "F1 score class T: 0.8554\n",
            "F1: 0.9253\n"
          ]
        }
      ]
    },
    {
      "cell_type": "code",
      "source": [
        "# Evaluation with a confidence of 0.5 \n",
        "confidence_evaluation(predictions2, y_true, confidence=0.5)"
      ],
      "metadata": {
        "id": "SRsixWrf6nZL",
        "colab": {
          "base_uri": "https://localhost:8080/"
        },
        "outputId": "d58b85a4-2082-4663-96de-59a023c339e9"
      },
      "execution_count": 55,
      "outputs": [
        {
          "output_type": "stream",
          "name": "stdout",
          "text": [
            "The number of discarded predictions is 7(0.35%)\n",
            "AUC: 0.9923\n",
            "Accuracy: 0.9486\n",
            "Precision: 0.9288\n",
            "Recall: 0.9271\n",
            "F1 score class N: 0.9594\n",
            "F1 score class P: 0.9653\n",
            "F1 score class T: 0.8589\n",
            "F1: 0.9279\n"
          ]
        }
      ]
    },
    {
      "cell_type": "code",
      "source": [
        "# Evaluation with a confidence of 0.8\n",
        "confidence_evaluation(predictions2, y_true, confidence=0.8)"
      ],
      "metadata": {
        "id": "WJzZ04k66qIF",
        "colab": {
          "base_uri": "https://localhost:8080/"
        },
        "outputId": "842b8b15-05f5-4ac8-f0fd-f045b1769d92"
      },
      "execution_count": 56,
      "outputs": [
        {
          "output_type": "stream",
          "name": "stdout",
          "text": [
            "The number of discarded predictions is 161(8.09%)\n",
            "AUC: 0.9958\n",
            "Accuracy: 0.9738\n",
            "Precision: 0.9595\n",
            "Recall: 0.9653\n",
            "F1 score class N: 0.9793\n",
            "F1 score class P: 0.9814\n",
            "F1 score class T: 0.9264\n",
            "F1: 0.9623\n"
          ]
        }
      ]
    },
    {
      "cell_type": "code",
      "source": [
        "# Evaluation with a confidence of 0.99\n",
        "confidence_evaluation(predictions2, y_true, confidence=0.99)"
      ],
      "metadata": {
        "colab": {
          "base_uri": "https://localhost:8080/"
        },
        "id": "VMqS1xrFojpf",
        "outputId": "f7b732eb-6a09-46d0-9cfa-a9dda62c64a6"
      },
      "execution_count": 57,
      "outputs": [
        {
          "output_type": "stream",
          "name": "stdout",
          "text": [
            "The number of discarded predictions is 658(33.05%)\n",
            "AUC: 0.9992\n",
            "Accuracy: 0.9985\n",
            "Precision: 0.9991\n",
            "Recall: 0.9969\n",
            "F1 score class N: 0.9987\n",
            "F1 score class P: 0.9988\n",
            "F1 score class T: 0.9966\n",
            "F1: 0.998\n"
          ]
        }
      ]
    },
    {
      "cell_type": "code",
      "source": [
        "# Standard evaluation\n",
        "confidence_evaluation(predictions3, y_true, confidence=0.33)"
      ],
      "metadata": {
        "id": "vZzxhUQS66t0",
        "colab": {
          "base_uri": "https://localhost:8080/"
        },
        "outputId": "5daf206c-0e0d-43f4-c473-104099587b54"
      },
      "execution_count": 58,
      "outputs": [
        {
          "output_type": "stream",
          "name": "stdout",
          "text": [
            "The number of discarded predictions is 0(0.00%)\n",
            "AUC: 0.9654\n",
            "Accuracy: 0.9046\n",
            "Precision: 0.8574\n",
            "Recall: 0.8924\n",
            "F1 score class N: 0.922\n",
            "F1 score class P: 0.9383\n",
            "F1 score class T: 0.758\n",
            "F1: 0.8728\n"
          ]
        }
      ]
    },
    {
      "cell_type": "code",
      "source": [
        "# Evaluation with a confidence of 0.5 \n",
        "confidence_evaluation(predictions3, y_true, confidence=0.5)"
      ],
      "metadata": {
        "id": "6w-RebvX68G-",
        "colab": {
          "base_uri": "https://localhost:8080/"
        },
        "outputId": "238855b4-b63d-4256-8024-549988d6aa2a"
      },
      "execution_count": 59,
      "outputs": [
        {
          "output_type": "stream",
          "name": "stdout",
          "text": [
            "The number of discarded predictions is 11(0.55%)\n",
            "AUC: 0.9658\n",
            "Accuracy: 0.9066\n",
            "Precision: 0.8594\n",
            "Recall: 0.8953\n",
            "F1 score class N: 0.9234\n",
            "F1 score class P: 0.9399\n",
            "F1 score class T: 0.7619\n",
            "F1: 0.8751\n"
          ]
        }
      ]
    },
    {
      "cell_type": "code",
      "source": [
        "# Evaluation with a confidence of 0.8\n",
        "confidence_evaluation(predictions3, y_true, confidence=0.8)"
      ],
      "metadata": {
        "id": "rOcnCv3q7D8w",
        "colab": {
          "base_uri": "https://localhost:8080/"
        },
        "outputId": "1456ea55-fe04-4023-cc09-ebc48da90d89"
      },
      "execution_count": 60,
      "outputs": [
        {
          "output_type": "stream",
          "name": "stdout",
          "text": [
            "The number of discarded predictions is 209(10.50%)\n",
            "AUC: 0.9703\n",
            "Accuracy: 0.9478\n",
            "Precision: 0.9215\n",
            "Recall: 0.9337\n",
            "F1 score class N: 0.9559\n",
            "F1 score class P: 0.9672\n",
            "F1 score class T: 0.8592\n",
            "F1: 0.9274\n"
          ]
        }
      ]
    },
    {
      "cell_type": "code",
      "source": [
        "# Evaluation with a confidence of 0.99\n",
        "confidence_evaluation(predictions3, y_true, confidence=0.99)"
      ],
      "metadata": {
        "colab": {
          "base_uri": "https://localhost:8080/"
        },
        "id": "4ZBcYYAFo4aZ",
        "outputId": "56ddae05-4f57-4f97-c313-84f777316ad4"
      },
      "execution_count": 61,
      "outputs": [
        {
          "output_type": "stream",
          "name": "stdout",
          "text": [
            "The number of discarded predictions is 644(32.35%)\n",
            "AUC: 0.9742\n",
            "Accuracy: 0.9733\n",
            "Precision: 0.967\n",
            "Recall: 0.9554\n",
            "F1 score class N: 0.9763\n",
            "F1 score class P: 0.9862\n",
            "F1 score class T: 0.9205\n",
            "F1: 0.961\n"
          ]
        }
      ]
    },
    {
      "cell_type": "markdown",
      "source": [
        "## Classic ensamble\n",
        "Average the probabilities between the three models"
      ],
      "metadata": {
        "id": "58cwHAOC7K-E"
      }
    },
    {
      "cell_type": "code",
      "source": [
        "total_predictions = (predictions1 + predictions2 + predictions3) / 3\n",
        "y_total_predicted = tf.argmax(total_predictions, axis=-1)"
      ],
      "metadata": {
        "id": "1oNOo9987Kna"
      },
      "execution_count": 62,
      "outputs": []
    },
    {
      "cell_type": "code",
      "source": [
        "# Print evaluation of the average ensamble\n",
        "count_missclassified_images(y_true, y_total_predicted)\n",
        "compute_AUC(y_true, total_predictions)\n",
        "print_evaluation(y_true, y_total_predicted)"
      ],
      "metadata": {
        "id": "1_Abovup7KkW",
        "colab": {
          "base_uri": "https://localhost:8080/",
          "height": 671
        },
        "outputId": "ead1d0d0-3be9-4f21-a7d6-7682f0191b64"
      },
      "execution_count": 68,
      "outputs": [
        {
          "output_type": "stream",
          "name": "stdout",
          "text": [
            "Number of missclassified images is 73\n",
            "\n",
            "AUC:  0.994\n",
            "Accuracy: 0.9633\n",
            "Precision: 0.9464\n",
            "Recall: 0.947\n",
            "F1 score class N: 0.9709\n",
            "F1 score class P: 0.9798\n",
            "F1 score class T: 0.8893\n",
            "F1: 0.9467\n"
          ]
        },
        {
          "output_type": "display_data",
          "data": {
            "text/plain": [
              "<Figure size 720x576 with 2 Axes>"
            ],
            "image/png": "[encoded data removed]"
          },
          "metadata": {
            "needs_background": "light"
          }
        }
      ]
    },
    {
      "cell_type": "code",
      "source": [
        "# Evaluation with a confidence of 0.9\n",
        "confidence_evaluation(total_predictions, y_true, confidence=0.9)"
      ],
      "metadata": {
        "id": "PLyI8EK-7KhT",
        "colab": {
          "base_uri": "https://localhost:8080/"
        },
        "outputId": "353a5e48-3a36-4c28-cc4b-3a913163a560"
      },
      "execution_count": 69,
      "outputs": [
        {
          "output_type": "stream",
          "name": "stdout",
          "text": [
            "The number of discarded predictions is 437(21.95%)\n",
            "AUC: 0.9988\n",
            "Accuracy: 0.9949\n",
            "Precision: 0.9947\n",
            "Recall: 0.9899\n",
            "F1 score class N: 0.9957\n",
            "F1 score class P: 0.9967\n",
            "F1 score class T: 0.9843\n",
            "F1: 0.9923\n"
          ]
        }
      ]
    },
    {
      "cell_type": "code",
      "source": [
        "# Evaluation with a confidence of 0.9\n",
        "confidence_evaluation(total_predictions, y_true, confidence=0.99)"
      ],
      "metadata": {
        "colab": {
          "base_uri": "https://localhost:8080/"
        },
        "id": "J-V7p2HVqE8V",
        "outputId": "bd6d56f5-578d-479f-c546-9fe52d056510"
      },
      "execution_count": 70,
      "outputs": [
        {
          "output_type": "stream",
          "name": "stdout",
          "text": [
            "The number of discarded predictions is 872(43.80%)\n",
            "AUC: 1.0\n",
            "Accuracy: 1.0\n",
            "Precision: 1.0\n",
            "Recall: 1.0\n",
            "F1 score class N: 1.0\n",
            "F1 score class P: 1.0\n",
            "F1 score class T: 1.0\n",
            "F1: 1.0\n"
          ]
        }
      ]
    },
    {
      "cell_type": "markdown",
      "source": [
        "## Pipeline ensamble\n",
        "Create a pipeline with the model considering only the prediction with high confidence"
      ],
      "metadata": {
        "id": "e7Kk9gyH8Mp5"
      }
    },
    {
      "cell_type": "code",
      "source": [
        "confidence_value = 0.90\n",
        "count_of_miss = 0\n",
        "# Create a mask for the prediction where the confidence threshold is satisfied\n",
        "confidence_mask_1 = [True if np.max(prediction) >= confidence_value else False for prediction in predictions1]\n",
        "y_predictions_confidence_1 = tf.argmax(predictions1[confidence_mask_1], axis=-1)\n",
        "y_confidence_1 = y_true[confidence_mask_1]\n",
        "\n",
        "assert y_predictions_confidence_1.shape[0] == y_confidence_1.shape[0]\n",
        "\n",
        "print(\"Predicted {} over {}\".format(y_predictions_confidence_1.shape[0], predictions1.shape[0]))"
      ],
      "metadata": {
        "id": "rKt62WlD7KbK",
        "colab": {
          "base_uri": "https://localhost:8080/"
        },
        "outputId": "b854c10c-c320-4397-872f-6f8f75b1dcb8"
      },
      "execution_count": 71,
      "outputs": [
        {
          "output_type": "stream",
          "name": "stdout",
          "text": [
            "Predicted 1721 over 1991\n"
          ]
        }
      ]
    },
    {
      "cell_type": "code",
      "source": [
        "# Print evaluation of the first model over the selected values\n",
        "count_of_miss += count_missclassified_images(y_confidence_1, y_predictions_confidence_1)\n",
        "print_evaluation(y_confidence_1, y_predictions_confidence_1)"
      ],
      "metadata": {
        "id": "3TIded3T7KUr",
        "colab": {
          "base_uri": "https://localhost:8080/",
          "height": 636
        },
        "outputId": "7036587b-1705-4158-d219-d85e8fd674ee"
      },
      "execution_count": 72,
      "outputs": [
        {
          "output_type": "stream",
          "name": "stdout",
          "text": [
            "Number of missclassified images is 19\n",
            "Accuracy: 0.989\n",
            "Precision: 0.991\n",
            "Recall: 0.9812\n",
            "F1 score class N: 0.9909\n",
            "F1 score class P: 0.9889\n",
            "F1 score class T: 0.9781\n",
            "F1: 0.986\n"
          ]
        },
        {
          "output_type": "display_data",
          "data": {
            "text/plain": [
              "<Figure size 720x576 with 2 Axes>"
            ],
            "image/png": "[encoded data removed]"
          },
          "metadata": {
            "needs_background": "light"
          }
        }
      ]
    },
    {
      "cell_type": "code",
      "source": [
        "# Get the mask only of the images still to classify\n",
        "to_predict_mask = np.logical_not(confidence_mask_1)\n",
        "\n",
        "print(\"Still {} have to be classified\".format(sum(to_predict_mask)))"
      ],
      "metadata": {
        "id": "h5lucELz7KJO",
        "colab": {
          "base_uri": "https://localhost:8080/"
        },
        "outputId": "eb08c9fb-0c5d-4143-bfd0-5270d4ec4b01"
      },
      "execution_count": 73,
      "outputs": [
        {
          "output_type": "stream",
          "name": "stdout",
          "text": [
            "Still 270 have to be classified\n"
          ]
        }
      ]
    },
    {
      "cell_type": "code",
      "source": [
        "reduced_predictions_2 = predictions2[to_predict_mask]\n",
        "reduced_y_true = y_true[to_predict_mask]\n",
        "\n",
        "assert reduced_predictions_2.shape[0] == reduced_y_true.shape[0]"
      ],
      "metadata": {
        "id": "HUtx0ZCY9HGF"
      },
      "execution_count": 74,
      "outputs": []
    },
    {
      "cell_type": "code",
      "source": [
        "# Now let's classify the remaining images using the second model\n",
        "\n",
        "# Create a mask for the prediction where the confidence threshold is satisfied\n",
        "confidence_mask_2 = [True if np.max(prediction) >= confidence_value else False for prediction in reduced_predictions_2]\n",
        "y_predictions_confidence_2 = tf.argmax(reduced_predictions_2[confidence_mask_2], axis=-1)\n",
        "y_confidence_2 = reduced_y_true[confidence_mask_2]\n",
        "\n",
        "assert y_predictions_confidence_2.shape[0] == y_confidence_2.shape[0]\n",
        "\n",
        "print(\"Predicted {} over {}\".format(y_predictions_confidence_2.shape[0], reduced_predictions_2.shape[0]))"
      ],
      "metadata": {
        "id": "JhdN86_V9HCK",
        "colab": {
          "base_uri": "https://localhost:8080/"
        },
        "outputId": "ed0bd21c-200f-4cca-db81-e290f20de61d"
      },
      "execution_count": 75,
      "outputs": [
        {
          "output_type": "stream",
          "name": "stdout",
          "text": [
            "Predicted 93 over 270\n"
          ]
        }
      ]
    },
    {
      "cell_type": "code",
      "source": [
        "# Print evaluation of the first model over the selected values\n",
        "count_of_miss += count_missclassified_images(y_confidence_2, y_predictions_confidence_2)\n",
        "print_evaluation(y_confidence_2, y_predictions_confidence_2)"
      ],
      "metadata": {
        "id": "Ju35-hDV9G_R",
        "colab": {
          "base_uri": "https://localhost:8080/",
          "height": 636
        },
        "outputId": "d8791f6b-5bf8-4fa6-d3d2-0de2ed4d8466"
      },
      "execution_count": 77,
      "outputs": [
        {
          "output_type": "stream",
          "name": "stdout",
          "text": [
            "Number of missclassified images is 17\n",
            "Accuracy: 0.8172\n",
            "Precision: 0.7888\n",
            "Recall: 0.8188\n",
            "F1 score class N: 0.8522\n",
            "F1 score class P: 0.8125\n",
            "F1 score class T: 0.7179\n",
            "F1: 0.7942\n"
          ]
        },
        {
          "output_type": "display_data",
          "data": {
            "text/plain": [
              "<Figure size 720x576 with 2 Axes>"
            ],
            "image/png": "[encoded data removed]"
          },
          "metadata": {
            "needs_background": "light"
          }
        }
      ]
    },
    {
      "cell_type": "markdown",
      "source": [
        "There are 2 options now\n",
        "- or we classify the remaining images with the third model\n",
        "- or we classify the remaining images using the ensamble model"
      ],
      "metadata": {
        "id": "V9OYBj4D__jw"
      }
    },
    {
      "cell_type": "code",
      "source": [
        "# Let's classify the remaining images using the ensamble model"
      ],
      "metadata": {
        "id": "niXf9taB_-x0"
      },
      "execution_count": 78,
      "outputs": []
    },
    {
      "cell_type": "code",
      "source": [
        "# Take mask1, update it with the mask2 and get the overall mask over all the data\n",
        "confidence_mask_final = confidence_mask_1.copy()\n",
        "\n",
        "j = 0\n",
        "for i in range(len(confidence_mask_final)):\n",
        "  # Update the value of the mask using the second mask\n",
        "  if confidence_mask_final[i] == False:\n",
        "    confidence_mask_final[i] = confidence_mask_2[j]\n",
        "    # Increment j to go to the next element of mask2\n",
        "    j += 1"
      ],
      "metadata": {
        "id": "70ElcmzyAwSQ"
      },
      "execution_count": 79,
      "outputs": []
    },
    {
      "cell_type": "code",
      "source": [
        "# Get the mask only of the images still to classify\n",
        "to_predict_mask = np.logical_not(confidence_mask_final)\n",
        "\n",
        "print(\"Still {} have to be classified\".format(sum(to_predict_mask)))"
      ],
      "metadata": {
        "id": "h4EeZyml9G8a",
        "colab": {
          "base_uri": "https://localhost:8080/"
        },
        "outputId": "6738d865-e18e-4d53-b8eb-5c75e23e0667"
      },
      "execution_count": 80,
      "outputs": [
        {
          "output_type": "stream",
          "name": "stdout",
          "text": [
            "Still 177 have to be classified\n"
          ]
        }
      ]
    },
    {
      "cell_type": "code",
      "source": [
        "reduced_predictions_ensamble = total_predictions[to_predict_mask]\n",
        "reduced_y_true = y_true[to_predict_mask]\n",
        "\n",
        "assert reduced_predictions_ensamble.shape[0] == reduced_y_true.shape[0]"
      ],
      "metadata": {
        "id": "fT6NriR5AVUL"
      },
      "execution_count": 81,
      "outputs": []
    },
    {
      "cell_type": "code",
      "source": [
        "# Now let's classify the remaining images using the ensamble model\n",
        "\n",
        "# Create a mask for the prediction where the confidence threshold is satisfied\n",
        "# confidence_mask_ensamble = [True if np.max(prediction) >= confidence_value else False for prediction in reduced_predictions_ensamble]\n",
        "y_predictions_confidence_ensamble = tf.argmax(reduced_predictions_ensamble, axis=-1)\n",
        "y_confidence_ensamble = reduced_y_true\n",
        "\n",
        "assert y_predictions_confidence_ensamble.shape[0] == y_confidence_ensamble.shape[0]\n",
        "\n",
        "print(\"Predicted {} over {}\".format(y_predictions_confidence_ensamble.shape[0], reduced_predictions_ensamble.shape[0]))"
      ],
      "metadata": {
        "id": "JByx_6qbAVQ_",
        "colab": {
          "base_uri": "https://localhost:8080/"
        },
        "outputId": "10127c5d-e8be-4e92-c001-789dde4bf014"
      },
      "execution_count": 82,
      "outputs": [
        {
          "output_type": "stream",
          "name": "stdout",
          "text": [
            "Predicted 177 over 177\n"
          ]
        }
      ]
    },
    {
      "cell_type": "code",
      "source": [
        "# Print evaluation of the first model over the selected values\n",
        "count_of_miss += count_missclassified_images(y_confidence_ensamble, y_predictions_confidence_ensamble)\n",
        "print_evaluation(y_confidence_ensamble, y_predictions_confidence_ensamble)"
      ],
      "metadata": {
        "id": "uLgSmfSOKF_K",
        "colab": {
          "base_uri": "https://localhost:8080/",
          "height": 636
        },
        "outputId": "68528bdd-bcdc-46b3-dfff-813fc906b0f2"
      },
      "execution_count": 83,
      "outputs": [
        {
          "output_type": "stream",
          "name": "stdout",
          "text": [
            "Number of missclassified images is 39\n",
            "Accuracy: 0.7797\n",
            "Precision: 0.7677\n",
            "Recall: 0.7666\n",
            "F1 score class N: 0.8269\n",
            "F1 score class P: 0.8852\n",
            "F1 score class T: 0.5882\n",
            "F1: 0.7668\n"
          ]
        },
        {
          "output_type": "display_data",
          "data": {
            "text/plain": [
              "<Figure size 720x576 with 2 Axes>"
            ],
            "image/png": "[encoded data removed]"
          },
          "metadata": {
            "needs_background": "light"
          }
        }
      ]
    },
    {
      "cell_type": "code",
      "source": [
        "print(\"The total number of misslcassified images is {}\".format(count_of_miss))"
      ],
      "metadata": {
        "id": "G1Sbf67gKI8r",
        "colab": {
          "base_uri": "https://localhost:8080/"
        },
        "outputId": "75433dbc-7d92-482c-de18-09bbce70d45f"
      },
      "execution_count": 84,
      "outputs": [
        {
          "output_type": "stream",
          "name": "stdout",
          "text": [
            "The total number of misslcassified images is 92\n"
          ]
        }
      ]
    },
    {
      "cell_type": "code",
      "source": [],
      "metadata": {
        "id": "wx8Cz-SbKf2g"
      },
      "execution_count": 84,
      "outputs": []
    }
  ]
}